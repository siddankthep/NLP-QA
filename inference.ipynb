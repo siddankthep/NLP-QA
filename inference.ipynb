{
 "cells": [
  {
   "cell_type": "code",
   "execution_count": 1,
   "metadata": {},
   "outputs": [
    {
     "name": "stderr",
     "output_type": "stream",
     "text": [
      "/home/quannguyen57/miniconda3/envs/unsloth/lib/python3.10/site-packages/tqdm/auto.py:21: TqdmWarning: IProgress not found. Please update jupyter and ipywidgets. See https://ipywidgets.readthedocs.io/en/stable/user_install.html\n",
      "  from .autonotebook import tqdm as notebook_tqdm\n"
     ]
    }
   ],
   "source": [
    "from transformers import GenerationConfig, TextStreamer\n",
    "from unsloth import FastLanguageModel\n",
    "import torch\n",
    "from transformers import TextStreamer\n",
    "import pandas as pd\n",
    "\n",
    "\"\"\"# Alpaca\"\"\"\n",
    "max_seq_length = 2048  # Choose any! We auto support RoPE Scaling internally!\n",
    "dtype = (\n",
    "    torch.float16  # None for auto detection. Float16 for Tesla T4, V100, Bfloat16 for Ampere+\n",
    ")\n",
    "load_in_4bit = True  # Use 4bit quantization to reduce memory usage. Can be False."
   ]
  },
  {
   "cell_type": "markdown",
   "metadata": {},
   "source": [
    "# Fine-tuned on Alpaca\n"
   ]
  },
  {
   "cell_type": "code",
   "execution_count": 2,
   "metadata": {},
   "outputs": [
    {
     "name": "stderr",
     "output_type": "stream",
     "text": [
      "/home/quannguyen57/miniconda3/envs/unsloth/lib/python3.10/site-packages/huggingface_hub/file_download.py:1132: FutureWarning: `resume_download` is deprecated and will be removed in version 1.0.0. Downloads always resume when possible. If you want to force a new download, use `force_download=True`.\n",
      "  warnings.warn(\n"
     ]
    },
    {
     "name": "stdout",
     "output_type": "stream",
     "text": [
      "==((====))==  Unsloth: Fast Mistral patching release 2024.4\n",
      "   \\\\   /|    GPU: Quadro RTX 5000. Max memory: 15.732 GB. Platform = Linux.\n",
      "O^O/ \\_/ \\    Pytorch: 2.3.0. CUDA = 7.5. CUDA Toolkit = 12.1.\n",
      "\\        /    Bfloat16 = TRUE. Xformers = 0.0.26.post1. FA = False.\n",
      " \"-____-\"     Free Apache license: http://github.com/unslothai/unsloth\n"
     ]
    },
    {
     "name": "stderr",
     "output_type": "stream",
     "text": [
      "Unused kwargs: ['quant_method']. These kwargs are not used in <class 'transformers.utils.quantization_config.BitsAndBytesConfig'>.\n",
      "Unsloth 2024.4 patched 32 layers with 32 QKV layers, 32 O layers and 32 MLP layers.\n"
     ]
    },
    {
     "data": {
      "text/plain": [
       "'## Q&A functions'"
      ]
     },
     "execution_count": 2,
     "metadata": {},
     "output_type": "execute_result"
    }
   ],
   "source": [
    "alpaca_model, alpaca_tokenizer = FastLanguageModel.from_pretrained(\n",
    "    model_name=\"siddankthep/Alpaca-10K-Mistral-7B-QA\",  # Choose\n",
    "    max_seq_length=max_seq_length,\n",
    "    dtype=dtype,\n",
    "    load_in_4bit=load_in_4bit,\n",
    "    # token = \"hf_...\", # use one if using gated models like meta-llama/Llama-2-7b-hf\n",
    ")\n",
    "FastLanguageModel.for_inference(alpaca_model)  # Enable native 2x faster inference\n",
    "\n",
    "\"\"\"## Q&A functions\"\"\""
   ]
  },
  {
   "cell_type": "code",
   "execution_count": 3,
   "metadata": {},
   "outputs": [],
   "source": [
    "def generate_question_alpaca(model, tokenizer, context):\n",
    "    alpaca_prompt = \"\"\"You are a helpful assistant that generates questions based on a given context. Below is an instruction that describes a task, paired with an input that provides further context. Write a response that appropriately completes the request.\n",
    "\n",
    "    ### Instruction:\n",
    "    {}\n",
    "\n",
    "    ### Input:\n",
    "    {}\n",
    "\n",
    "    ### Response:\n",
    "    {}\"\"\"\n",
    "    inputs = tokenizer(\n",
    "        [\n",
    "            alpaca_prompt.format(\n",
    "                \"Generate 10 simple questions that can be answered from the following context.\",  # instruction\n",
    "                context,  # input\n",
    "                \"\",  # output - leave this blank for generation!\n",
    "            )\n",
    "        ],\n",
    "        return_tensors=\"pt\",\n",
    "    ).to(\"cuda\")\n",
    "\n",
    "    text_streamer = TextStreamer(tokenizer)\n",
    "    output_ids = model.generate(**inputs, streamer=text_streamer, max_new_tokens=1024)\n",
    "    # output_ids = model.generate(**inputs, max_new_tokens=1024)\n",
    "\n",
    "    # Decode the output ids to get the generated text\n",
    "    output_text = tokenizer.decode(output_ids[0], skip_special_tokens=True)\n",
    "\n",
    "    return output_text\n",
    "\n",
    "\n",
    "def answer_alpaca(model, tokenizer, context, question):\n",
    "    alpaca_prompt = \"\"\"Below is an instruction that describes a task, paired with an input that provides further context. Write a response that appropriately completes the request.\n",
    "\n",
    "    ### Instruction:\n",
    "    {}\n",
    "\n",
    "    ### Input:\n",
    "    Question: {}\n",
    "    \n",
    "    Context: {}\n",
    "\n",
    "    ### Response:\n",
    "    {}\"\"\"\n",
    "\n",
    "    inputs = tokenizer(\n",
    "        [\n",
    "            alpaca_prompt.format(\n",
    "                \"Answer the following question strictly based on the given context. If the question to the answer is not provided within the context, do not answer, instead tell the user that the question couldn't be answered based on the given context.\",  # instruction\n",
    "                question,\n",
    "                context,  # input\n",
    "                \"\",  # output - leave this blank for generation!\n",
    "            )\n",
    "        ],\n",
    "        return_tensors=\"pt\",\n",
    "    ).to(\"cuda\")\n",
    "\n",
    "    text_streamer = TextStreamer(tokenizer)\n",
    "    output_ids = model.generate(**inputs, streamer=text_streamer, max_new_tokens=512)\n",
    "    # output_ids = model.generate(**inputs, max_new_tokens=512)\n",
    "\n",
    "    # Decode the output ids to get the generated text\n",
    "    output_text = tokenizer.decode(output_ids[0], skip_special_tokens=True)\n",
    "\n",
    "    return output_text\n",
    "\n",
    "\n",
    "def get_paragraphs(file_path):\n",
    "    with open(file_path, \"r\") as f:\n",
    "        lines = f.readlines()\n",
    "\n",
    "    paragraphs = []\n",
    "    for line in lines:\n",
    "        if line != \"\\n\":\n",
    "            paragraphs.append(line.strip(\"\\n\"))\n",
    "\n",
    "    return paragraphs"
   ]
  },
  {
   "cell_type": "code",
   "execution_count": 14,
   "metadata": {},
   "outputs": [],
   "source": [
    "def get_ques_list(generated_output):\n",
    "    numbered_questions = generated_output[\n",
    "        generated_output.index(\"Response:\") + len(\"Response:\") + 1 :\n",
    "    ].split(\"\\n\")\n",
    "    stripped = [q.strip() for q in numbered_questions]\n",
    "    return [q[q.find(\".\") + 2 :] for q in stripped]\n",
    "\n",
    "\n",
    "def get_answer(generated_output):\n",
    "    return generated_output[\n",
    "        generated_output.index(\"Response:\") + len(\"Response:\") + 1 :\n",
    "    ].strip()\n",
    "\n",
    "\n",
    "def generate_json_questions(model, tokenizer, paragraphs: list):\n",
    "    json_dict = {}\n",
    "    json_dict[\"name\"] = \"generated_questions\"\n",
    "    json_dict[\"questions\"] = []\n",
    "    for paragraph in paragraphs:\n",
    "        outputs = generate_question_alpaca(model, tokenizer, paragraph)\n",
    "        questions = get_ques_list(outputs)\n",
    "        for question in questions:\n",
    "            json_dict[\"questions\"].append({\"context\": paragraph, \"question\": question})\n",
    "    return json_dict\n",
    "\n",
    "\n",
    "def generate_json_answers(model, tokenizer, squad_data: list):\n",
    "    json_dict = {}\n",
    "    json_dict[\"name\"] = \"generated_answers_with_squad\"\n",
    "    json_dict[\"answers\"] = []\n",
    "    for context, question, answer in squad_data:\n",
    "        output = answer_alpaca(model, tokenizer, context, question)\n",
    "        generated_ans = get_answer(output)\n",
    "\n",
    "        json_dict[\"answers\"].append(\n",
    "            {\n",
    "                \"context\": context,\n",
    "                \"question\": question,\n",
    "                \"reference_answer\": answer,\n",
    "                \"generated_answer\": generated_ans,\n",
    "            }\n",
    "        )\n",
    "    return json_dict"
   ]
  },
  {
   "cell_type": "markdown",
   "metadata": {},
   "source": [
    "## Json\n"
   ]
  },
  {
   "cell_type": "code",
   "execution_count": 11,
   "metadata": {},
   "outputs": [],
   "source": [
    "paragraphs = get_paragraphs(\"text_data.txt\")"
   ]
  },
  {
   "cell_type": "code",
   "execution_count": 20,
   "metadata": {},
   "outputs": [
    {
     "name": "stderr",
     "output_type": "stream",
     "text": [
      "Setting `pad_token_id` to `eos_token_id`:2 for open-end generation.\n"
     ]
    },
    {
     "name": "stdout",
     "output_type": "stream",
     "text": [
      "<s> You are a helpful assistant that generates questions based on a given context. Below is an instruction that describes a task, paired with an input that provides further context. Write a response that appropriately completes the request.\n",
      "\n",
      "    ### Instruction:\n",
      "    Generate 10 simple questions that can be answered from the following context.\n",
      "\n",
      "    ### Input:\n",
      "    An artificial neural network is made of connected units or nodes called artificial neurons, which loosely model the neurons in a brain. These are connected by edges, which model the synapses in a brain. An artificial neuron receives signals from connected neurons, then processes them and sends a signal to other connected neurons. The \"signal\" is a real number, and the output of each neuron is computed by some non-linear function of the sum of its inputs, called the activation function. Neurons and edges typically have a weight that adjusts as learning proceeds. The weight increases or decreases the strength of the signal at a connection.\n",
      "\n",
      "    ### Response:\n",
      "    "
     ]
    },
    {
     "name": "stdout",
     "output_type": "stream",
     "text": [
      "1. What is an artificial neural network?\n",
      "   2. What are the components of an artificial neural network?\n",
      "   3. How do artificial neurons work?\n",
      "   4. What is the role of edges in an artificial neural network?\n",
      "   5. What is the function of the activation function in an artificial neural network?\n",
      "   6. How do weights affect the strength of signals in an artificial neural network?\n",
      "   7. What is the purpose of adjusting weights in an artificial neural network?\n",
      "   8. How do artificial neurons receive signals from other neurons?\n",
      "   9. What is the role of the non-linear function in an artificial neural network?\n",
      "   10. How do artificial neurons process signals?</s>\n"
     ]
    },
    {
     "name": "stderr",
     "output_type": "stream",
     "text": [
      "Setting `pad_token_id` to `eos_token_id`:2 for open-end generation.\n"
     ]
    },
    {
     "name": "stdout",
     "output_type": "stream",
     "text": [
      "<s> You are a helpful assistant that generates questions based on a given context. Below is an instruction that describes a task, paired with an input that provides further context. Write a response that appropriately completes the request.\n",
      "\n",
      "    ### Instruction:\n",
      "    Generate 10 simple questions that can be answered from the following context.\n",
      "\n",
      "    ### Input:\n",
      "    Neural networks are typically trained through empirical risk minimization. This method is based on the idea of optimizing the network's parameters to minimize the difference, or empirical risk, between the predicted output and the actual target values in a given dataset. Gradient based methods such as backpropagation are usually used to estimate the parameters of the network. During the training phase, artificial neural networks learn from labeled training data by iteratively updating their parameters to minimize a defined loss function. This method allows the network to generalize to unseen data.\n",
      "\n",
      "    ### Response:\n",
      "    1. What is the main idea behind empirical risk minimization?\n",
      "   2. How does gradient based methods such as backpropagation work?\n",
      "   3. What is the role of the loss function in training an artificial neural network?\n",
      "   4. How does the training phase of an artificial neural network work?\n",
      "   5. What is the goal of training an artificial neural network?\n",
      "   6. What is the difference between empirical risk minimization and other methods of training artificial neural networks?\n",
      "   7. How does the generalization of an artificial neural network work?\n",
      "   8. What is the role of the parameters of an artificial neural network in the training process?\n",
      "   9. How does the training data affect the performance of an artificial neural network?\n",
      "   10. What is the relationship between the loss function and the parameters of an artificial neural network?</s>\n"
     ]
    },
    {
     "name": "stderr",
     "output_type": "stream",
     "text": [
      "Setting `pad_token_id` to `eos_token_id`:2 for open-end generation.\n"
     ]
    },
    {
     "name": "stdout",
     "output_type": "stream",
     "text": [
      "<s> You are a helpful assistant that generates questions based on a given context. Below is an instruction that describes a task, paired with an input that provides further context. Write a response that appropriately completes the request.\n",
      "\n",
      "    ### Instruction:\n",
      "    Generate 10 simple questions that can be answered from the following context.\n",
      "\n",
      "    ### Input:\n",
      "    Historically, digital computers evolved from the von Neumann model, and operate via the execution of explicit instructions via access to memory by a number of processors. Neural networks, on the other hand, originated from efforts to model information processing in biological systems through the framework of connectionism. Unlike the von Neumann model, connectionist computing does not separate memory and processing.\n",
      "\n",
      "    ### Response:\n",
      "    1. What is the difference between digital computers and neural networks?\n",
      "   2. How did digital computers evolve historically?\n",
      "   3. What is the von Neumann model?\n",
      "   4. What is the framework of connectionism?\n",
      "   5. How does connectionist computing differ from the von Neumann model?\n",
      "   6. What is the relationship between memory and processing in neural networks?\n",
      "   7. What is the origin of neural networks?\n",
      "   8. How does the von Neumann model operate?\n",
      "   9. What is the execution of explicit instructions?\n",
      "   10. What is the role of memory in digital computers?</s>\n"
     ]
    },
    {
     "name": "stderr",
     "output_type": "stream",
     "text": [
      "Setting `pad_token_id` to `eos_token_id`:2 for open-end generation.\n"
     ]
    },
    {
     "name": "stdout",
     "output_type": "stream",
     "text": [
      "<s> You are a helpful assistant that generates questions based on a given context. Below is an instruction that describes a task, paired with an input that provides further context. Write a response that appropriately completes the request.\n",
      "\n",
      "    ### Instruction:\n",
      "    Generate 10 simple questions that can be answered from the following context.\n",
      "\n",
      "    ### Input:\n",
      "    The simplest kind of feedforward neural network (FNN) is a linear network, which consists of a single layer of output nodes; the inputs are fed directly to the outputs via a series of weights. The sum of the products of the weights and the inputs is calculated at each node. The mean squared errors between these calculated outputs and the given target values are minimized by creating an adjustment to the weights. This technique has been known for over two centuries as the method of least squares or linear regression. It was used as a means of finding a good rough linear fit to a set of points by Legendre (1805) and Gauss (1795) for the prediction of planetary movement.\n",
      "\n",
      "    ### Response:\n",
      "    1. What is the simplest kind of feedforward neural network?\n",
      "   2. How many layers does a linear network have?\n",
      "   3. What is the process of minimizing the mean squared errors called?\n",
      "   4. Who first used the method of least squares or linear regression?\n",
      "   5. What was the purpose of using the method of least squares or linear regression?\n",
      "   6. When was the method of least squares or linear regression first used?\n",
      "   7. What is the technique used to adjust the weights in a linear network?\n",
      "   8. What is the goal of minimizing the mean squared errors in a linear network?\n",
      "   9. What is the process of finding a good rough linear fit to a set of points called?\n",
      "   10. Who first used the method of least squares or linear regression for the prediction of planetary movement?</s>\n"
     ]
    },
    {
     "name": "stderr",
     "output_type": "stream",
     "text": [
      "Setting `pad_token_id` to `eos_token_id`:2 for open-end generation.\n"
     ]
    },
    {
     "name": "stdout",
     "output_type": "stream",
     "text": [
      "<s> You are a helpful assistant that generates questions based on a given context. Below is an instruction that describes a task, paired with an input that provides further context. Write a response that appropriately completes the request.\n",
      "\n",
      "    ### Instruction:\n",
      "    Generate 10 simple questions that can be answered from the following context.\n",
      "\n",
      "    ### Input:\n",
      "    Supervised learning uses a set of paired inputs and desired outputs. The learning task is to produce the desired output for each input. In this case, the cost function is related to eliminating incorrect deductions. A commonly used cost is the mean-squared error, which tries to minimize the average squared error between the network's output and the desired output. Tasks suited for supervised learning are pattern recognition (also known as classification) and regression (also known as function approximation). Supervised learning is also applicable to sequential data (e.g., for handwriting, speech and gesture recognition). This can be thought of as learning with a \"teacher\", in the form of a function that provides continuous feedback on the quality of solutions obtained thus far.\n",
      "\n",
      "    ### Response:\n",
      "    1. What is supervised learning?\n",
      "   2. What is the purpose of supervised learning?\n",
      "   3. How does supervised learning work?\n",
      "   4. What is the cost function in supervised learning?\n",
      "   5. What is the mean-squared error in supervised learning?\n",
      "   6. What are the tasks suited for supervised learning?\n",
      "   7. What is pattern recognition in supervised learning?\n",
      "   8. What is regression in supervised learning?\n",
      "   9. What is the difference between classification and function approximation in supervised learning?\n",
      "   10. How is supervised learning applicable to sequential data?</s>\n"
     ]
    },
    {
     "name": "stderr",
     "output_type": "stream",
     "text": [
      "Setting `pad_token_id` to `eos_token_id`:2 for open-end generation.\n"
     ]
    },
    {
     "name": "stdout",
     "output_type": "stream",
     "text": [
      "<s> You are a helpful assistant that generates questions based on a given context. Below is an instruction that describes a task, paired with an input that provides further context. Write a response that appropriately completes the request.\n",
      "\n",
      "    ### Instruction:\n",
      "    Generate 10 simple questions that can be answered from the following context.\n",
      "\n",
      "    ### Input:\n",
      "    In natural language processing, ANNs are used for tasks such as text classification, sentiment analysis, and machine translation. They have enabled the development of models that can accurately translate between languages, understand the context and sentiment in textual data, and categorize text based on content. This has implications for automated customer service, content moderation, and language understanding technologies.\n",
      "\n",
      "    ### Response:\n",
      "    1. What is the primary use of ANNs in natural language processing?\n",
      "   2. What are some specific tasks that ANNs can perform in natural language processing?\n",
      "   3. How have ANNs enabled the development of models in natural language processing?\n",
      "   4. What are some examples of applications that use ANNs in natural language processing?\n",
      "   5. How have ANNs improved the accuracy of machine translation?\n",
      "   6. How do ANNs help in understanding the context and sentiment in textual data?\n",
      "   7. How have ANNs impacted the development of automated customer service?\n",
      "   8. How have ANNs improved content moderation in natural language processing?\n",
      "   9. How have ANNs improved language understanding technologies?\n",
      "   10. What are some implications of using ANNs in natural language processing?</s>\n"
     ]
    },
    {
     "name": "stderr",
     "output_type": "stream",
     "text": [
      "Setting `pad_token_id` to `eos_token_id`:2 for open-end generation.\n"
     ]
    },
    {
     "name": "stdout",
     "output_type": "stream",
     "text": [
      "<s> You are a helpful assistant that generates questions based on a given context. Below is an instruction that describes a task, paired with an input that provides further context. Write a response that appropriately completes the request.\n",
      "\n",
      "    ### Instruction:\n",
      "    Generate 10 simple questions that can be answered from the following context.\n",
      "\n",
      "    ### Input:\n",
      "    Natural language processing (NLP) is an interdisciplinary subfield of computer science and linguistics. It is primarily concerned with giving computers the ability to support and manipulate human language. It involves processing natural language datasets, such as text corpora or speech corpora, using either rule-based or probabilistic (i.e. statistical and, most recently, neural network-based) machine learning approaches. The goal is a computer capable of \"understanding\" the contents of documents, including the contextual nuances of the language within them. The technology can then accurately extract information and insights contained in the documents as well as categorize and organize the documents themselves. Challenges in natural language processing frequently involve speech recognition, natural-language understanding, and natural-language generation.\n",
      "\n",
      "    ### Response:\n",
      "    1. What is natural language processing (NLP)?\n",
      "   2. What are the main concerns of NLP?\n",
      "   3. What are the approaches used in NLP?\n",
      "   4. What is the goal of NLP?\n",
      "   5. What are the challenges in NLP?\n",
      "   6. What is a text corpus in NLP?\n",
      "   7. What is a speech corpus in NLP?\n",
      "   8. What is the difference between rule-based and probabilistic approaches in NLP?\n",
      "   9. What is natural-language understanding in NLP?\n",
      "   10. What is natural-language generation in NLP?</s>\n"
     ]
    },
    {
     "name": "stderr",
     "output_type": "stream",
     "text": [
      "Setting `pad_token_id` to `eos_token_id`:2 for open-end generation.\n"
     ]
    },
    {
     "name": "stdout",
     "output_type": "stream",
     "text": [
      "<s> You are a helpful assistant that generates questions based on a given context. Below is an instruction that describes a task, paired with an input that provides further context. Write a response that appropriately completes the request.\n",
      "\n",
      "    ### Instruction:\n",
      "    Generate 10 simple questions that can be answered from the following context.\n",
      "\n",
      "    ### Input:\n",
      "    Up until the 1980s, most natural language processing systems were based on complex sets of hand-written rules. Starting in the late 1980s, however, there was a revolution in natural language processing with the introduction of machine learning algorithms for language processing. This was due to both the steady increase in computational power (see Moore's law) and the gradual lessening of the dominance of Chomskyan theories of linguistics (e.g. transformational grammar), whose theoretical underpinnings discouraged the sort of corpus linguistics that underlies the machine-learning approach to language processing.\n",
      "\n",
      "    ### Response:\n",
      "    1. What was the main approach to natural language processing before the 1980s?\n",
      "   2. When did the revolution in natural language processing occur?\n",
      "   3. What were the main factors that contributed to the revolution?\n",
      "   4. What is the machine-learning approach to language processing?\n",
      "   5. How did the gradual lessening of Chomskyan theories influence the approach to language processing?\n",
      "   6. What is corpus linguistics?\n",
      "   7. How did the increase in computational power affect the approach to language processing?\n",
      "   8. What is transformational grammar?\n",
      "   9. How did the machine-learning approach to language processing differ from the previous approach?\n",
      "   10. What is the significance of the revolution in natural language processing?</s>\n"
     ]
    },
    {
     "name": "stderr",
     "output_type": "stream",
     "text": [
      "Setting `pad_token_id` to `eos_token_id`:2 for open-end generation.\n"
     ]
    },
    {
     "name": "stdout",
     "output_type": "stream",
     "text": [
      "<s> You are a helpful assistant that generates questions based on a given context. Below is an instruction that describes a task, paired with an input that provides further context. Write a response that appropriately completes the request.\n",
      "\n",
      "    ### Instruction:\n",
      "    Generate 10 simple questions that can be answered from the following context.\n",
      "\n",
      "    ### Input:\n",
      "    Many of the notable early successes on statistical methods in NLP occurred in the field of machine translation, due especially to work at IBM Research, such as IBM alignment models. These systems were able to take advantage of existing multilingual textual corpora that had been produced by the Parliament of Canada and the European Union as a result of laws calling for the translation of all governmental proceedings into all official languages of the corresponding systems of government. However, most other systems depended on corpora specifically developed for the tasks implemented by these systems, which was (and often continues to be) a major limitation in the success of these systems. As a result, a great deal of research has gone into methods of more effectively learning from limited amounts of data.\n",
      "\n",
      "    ### Response:\n",
      "    1. What are some notable early successes in NLP?\n",
      "   2. Who was responsible for the development of IBM alignment models?\n",
      "   3. What were the limitations of systems that depended on corpora specifically developed for tasks?\n",
      "   4. What is the significance of the Parliament of Canada and the European Union in the development of NLP?\n",
      "   5. How has research focused on learning from limited amounts of data?\n",
      "   6. What is the role of multilingual textual corpora in NLP?\n",
      "   7. What are some of the early successes in the field of machine translation?\n",
      "   8. How did the laws calling for the translation of governmental proceedings impact the development of NLP?\n",
      "   9. What are some of the limitations of systems that depend on corpora specifically developed for tasks?\n",
      "   10. How has the development of NLP been impacted by the availability of multilingual textual corpora?</s>\n"
     ]
    },
    {
     "name": "stderr",
     "output_type": "stream",
     "text": [
      "Setting `pad_token_id` to `eos_token_id`:2 for open-end generation.\n"
     ]
    },
    {
     "name": "stdout",
     "output_type": "stream",
     "text": [
      "<s> You are a helpful assistant that generates questions based on a given context. Below is an instruction that describes a task, paired with an input that provides further context. Write a response that appropriately completes the request.\n",
      "\n",
      "    ### Instruction:\n",
      "    Generate 10 simple questions that can be answered from the following context.\n",
      "\n",
      "    ### Input:\n",
      "    With the growth of the web, increasing amounts of raw (unannotated) language data has become available since the mid-1990s. Research has thus increasingly focused on unsupervised and semi-supervised learning algorithms. Such algorithms can learn from data that has not been hand-annotated with the desired answers or using a combination of annotated and non-annotated data. Generally, this task is much more difficult than supervised learning, and typically produces less accurate results for a given amount of input data. However, there is an enormous amount of non-annotated data available (including, among other things, the entire content of the World Wide Web), which can often make up for the inferior results if the algorithm used has a low enough time complexity to be practical.\n",
      "\n",
      "    ### Response:\n",
      "    1. What is the main focus of research in the field of unsupervised and semi-supervised learning algorithms?\n",
      "   2. How does the availability of raw language data affect the accuracy of results in unsupervised and semi-supervised learning?\n",
      "   3. What is the difference between supervised and unsupervised learning algorithms?\n",
      "   4. How does the availability of non-annotated data affect the results of unsupervised and semi-supervised learning?\n",
      "   5. What is the time complexity of unsupervised and semi-supervised learning algorithms?\n",
      "   6. How does the amount of input data affect the accuracy of results in unsupervised and semi-supervised learning?\n",
      "   7. What is the relationship between the availability of annotated data and the accuracy of results in unsupervised and semi-supervised learning?\n",
      "   8. How does the growth of the web affect the availability of raw language data?\n",
      "   9. What is the difference between supervised and semi-supervised learning algorithms?\n",
      "   10. How does the time complexity of unsupervised and semi-supervised learning algorithms affect their practicality?</s>\n"
     ]
    },
    {
     "name": "stderr",
     "output_type": "stream",
     "text": [
      "Setting `pad_token_id` to `eos_token_id`:2 for open-end generation.\n"
     ]
    },
    {
     "name": "stdout",
     "output_type": "stream",
     "text": [
      "<s> You are a helpful assistant that generates questions based on a given context. Below is an instruction that describes a task, paired with an input that provides further context. Write a response that appropriately completes the request.\n",
      "\n",
      "    ### Instruction:\n",
      "    Generate 10 simple questions that can be answered from the following context.\n",
      "\n",
      "    ### Input:\n",
      "    In 2010, Tomas Mikolov (then a PhD student at Brno University of Technology) with co-authors applied a simple recurrent neural network with a single hidden layer to language modelling, and in the following years he went on to develop Word2vec. In the 2010s, representation learning and deep neural network-style (featuring many hidden layers) machine learning methods became widespread in natural language processing. That popularity was due partly to a flurry of results showing that such techniques can achieve state-of-the-art results in many natural language tasks, e.g., in language modeling and parsing. This is increasingly important in medicine and healthcare, where NLP helps analyze notes and text in electronic health records that would otherwise be inaccessible for study when seeking to improve care or protect patient privacy.\n",
      "\n",
      "    ### Response:\n",
      "    1. Who developed Word2vec?\n",
      "   2. When was Word2vec developed?\n",
      "   3. What is the significance of Word2vec in natural language processing?\n",
      "   4. What is the role of representation learning in natural language processing?\n",
      "   5. How does deep neural network-style machine learning methods help in natural language processing?\n",
      "   6. What is the importance of NLP in medicine and healthcare?\n",
      "   7. How does NLP help analyze notes and text in electronic health records?\n",
      "   8. What is the impact of NLP on improving care in healthcare?\n",
      "   9. How does NLP help protect patient privacy in healthcare?\n",
      "   10. What are some of the natural language tasks that can be achieved using deep neural network-style machine learning methods?</s>\n"
     ]
    },
    {
     "name": "stderr",
     "output_type": "stream",
     "text": [
      "Setting `pad_token_id` to `eos_token_id`:2 for open-end generation.\n"
     ]
    },
    {
     "name": "stdout",
     "output_type": "stream",
     "text": [
      "<s> You are a helpful assistant that generates questions based on a given context. Below is an instruction that describes a task, paired with an input that provides further context. Write a response that appropriately completes the request.\n",
      "\n",
      "    ### Instruction:\n",
      "    Generate 10 simple questions that can be answered from the following context.\n",
      "\n",
      "    ### Input:\n",
      "    Computer vision tasks include methods for acquiring, processing, analyzing and understanding digital images, and extraction of high-dimensional data from the real world in order to produce numerical or symbolic information, e.g. in the forms of decisions. Understanding in this context means the transformation of visual images (the input to the retina in the human analog) into descriptions of the world that make sense to thought processes and can elicit appropriate action. This image understanding can be seen as the disentangling of symbolic information from image data using models constructed with the aid of geometry, physics, statistics, and learning theory.\n",
      "\n",
      "    ### Response:\n",
      "    1. What is computer vision?\n",
      "   2. What are the main tasks of computer vision?\n",
      "   3. What is the goal of computer vision?\n",
      "   4. How does computer vision work?\n",
      "   5. What is the difference between computer vision and image processing?\n",
      "   6. What are the main components of a computer vision system?\n",
      "   7. What are some common applications of computer vision?\n",
      "   8. How does computer vision help in understanding the world?\n",
      "   9. What are the challenges in developing computer vision systems?\n",
      "   10. How does computer vision contribute to the field of artificial intelligence?</s>\n"
     ]
    },
    {
     "name": "stderr",
     "output_type": "stream",
     "text": [
      "Setting `pad_token_id` to `eos_token_id`:2 for open-end generation.\n"
     ]
    },
    {
     "name": "stdout",
     "output_type": "stream",
     "text": [
      "<s> You are a helpful assistant that generates questions based on a given context. Below is an instruction that describes a task, paired with an input that provides further context. Write a response that appropriately completes the request.\n",
      "\n",
      "    ### Instruction:\n",
      "    Generate 10 simple questions that can be answered from the following context.\n",
      "\n",
      "    ### Input:\n",
      "    The organization of a computer vision system is highly application-dependent. Some systems are stand-alone applications that solve a specific measurement or detection problem, while others constitute a sub-system of a larger design which, for example, also contains sub-systems for control of mechanical actuators, planning, information databases, man-machine interfaces, etc. The specific implementation of a computer vision system also depends on whether its functionality is pre-specified or if some part of it can be learned or modified during operation. Many functions are unique to the application. There are, however, typical functions that are found in many computer vision systems.\n",
      "\n",
      "    ### Response:\n",
      "    1. What is the organization of a computer vision system?\n",
      "   2. Can a computer vision system be a stand-alone application?\n",
      "   3. What are some typical functions found in many computer vision systems?\n",
      "   4. How does the implementation of a computer vision system depend on its functionality?\n",
      "   5. Can the functionality of a computer vision system be learned or modified during operation?\n",
      "   6. What are some unique functions that are found in many computer vision systems?\n",
      "   7. How does the organization of a computer vision system depend on its application?\n",
      "   8. Can a computer vision system be part of a larger design?\n",
      "   9. What are some examples of sub-systems that can be found in a computer vision system?\n",
      "   10. How does the implementation of a computer vision system depend on whether its functionality is pre-specified or not?</s>\n"
     ]
    },
    {
     "name": "stderr",
     "output_type": "stream",
     "text": [
      "Setting `pad_token_id` to `eos_token_id`:2 for open-end generation.\n"
     ]
    },
    {
     "name": "stdout",
     "output_type": "stream",
     "text": [
      "<s> You are a helpful assistant that generates questions based on a given context. Below is an instruction that describes a task, paired with an input that provides further context. Write a response that appropriately completes the request.\n",
      "\n",
      "    ### Instruction:\n",
      "    Generate 10 simple questions that can be answered from the following context.\n",
      "\n",
      "    ### Input:\n",
      "    Image restoration comes into the picture when the original image is degraded or damaged due to some external factors like lens wrong positioning, transmission interference, low lighting or motion blurs, etc., which is referred to as noise. When the images are degraded or damaged, the information to be extracted from them also gets damaged. Therefore we need to recover or restore the image as it was intended to be. The aim of image restoration is the removal of noise (sensor noise, motion blur, etc.) from images. The simplest possible approach for noise removal is various types of filters, such as low-pass filters or median filters. More sophisticated methods assume a model of how the local image structures look to distinguish them from noise. By first analyzing the image data in terms of the local image structures, such as lines or edges, and then controlling the filtering based on local information from the analysis step, a better level of noise removal is usually obtained compared to the simpler approaches.\n",
      "\n",
      "    ### Response:\n",
      "    1. What is image restoration?\n",
      "   2. What are the external factors that can degrade or damage an image?\n",
      "   3. What is noise in an image?\n",
      "   4. How does image restoration help in recovering the image?\n",
      "   5. What is the aim of image restoration?\n",
      "   6. What are the methods used for noise removal in image restoration?\n",
      "   7. How does the analysis of local image structures help in image restoration?\n",
      "   8. What is the difference between low-pass filters and median filters in image restoration?\n",
      "   9. How does the filtering process work in image restoration?\n",
      "   10. What is the significance of local information in image restoration?</s>\n"
     ]
    },
    {
     "name": "stderr",
     "output_type": "stream",
     "text": [
      "Setting `pad_token_id` to `eos_token_id`:2 for open-end generation.\n"
     ]
    },
    {
     "name": "stdout",
     "output_type": "stream",
     "text": [
      "<s> You are a helpful assistant that generates questions based on a given context. Below is an instruction that describes a task, paired with an input that provides further context. Write a response that appropriately completes the request.\n",
      "\n",
      "    ### Instruction:\n",
      "    Generate 10 simple questions that can be answered from the following context.\n",
      "\n",
      "    ### Input:\n",
      "    Currently, the best algorithms for such tasks are based on convolutional neural networks. An illustration of their capabilities is given by the ImageNet Large Scale Visual Recognition Challenge; this is a benchmark in object classification and detection, with millions of images and 1000 object classes used in the competition. Performance of convolutional neural networks on the ImageNet tests is now close to that of humans. The best algorithms still struggle with objects that are small or thin, such as a small ant on the stem of a flower or a person holding a quill in their hand. They also have trouble with images that have been distorted with filters (an increasingly common phenomenon with modern digital cameras). By contrast, those kinds of images rarely trouble humans. Humans, however, tend to have trouble with other issues. For example, they are not good at classifying objects into fine-grained classes, such as the particular breed of dog or species of bird, whereas convolutional neural networks handle this with ease.\n",
      "\n",
      "    ### Response:\n",
      "    1. What is the best algorithm for object classification and detection?\n",
      "   2. What is the purpose of the ImageNet Large Scale Visual Recognition Challenge?\n",
      "   3. How close are the performance of convolutional neural networks to that of humans in the ImageNet tests?\n",
      "   4. What are the limitations of convolutional neural networks in terms of small or thin objects?\n",
      "   5. How do humans perform in classifying objects into fine-grained classes?\n",
      "   6. What is the difference between the performance of humans and convolutional neural networks in classifying objects?\n",
      "   7. What are the challenges faced by convolutional neural networks in handling distorted images?\n",
      "   8. How do humans perform in classifying objects into fine-grained classes?\n",
      "   9. What are the limitations of humans in classifying objects into fine-grained classes?\n",
      "   10. How do humans perform in classifying objects into fine-grained classes compared to convolutional neural networks?</s>\n"
     ]
    },
    {
     "name": "stderr",
     "output_type": "stream",
     "text": [
      "Setting `pad_token_id` to `eos_token_id`:2 for open-end generation.\n"
     ]
    },
    {
     "name": "stdout",
     "output_type": "stream",
     "text": [
      "<s> You are a helpful assistant that generates questions based on a given context. Below is an instruction that describes a task, paired with an input that provides further context. Write a response that appropriately completes the request.\n",
      "\n",
      "    ### Instruction:\n",
      "    Generate 10 simple questions that can be answered from the following context.\n",
      "\n",
      "    ### Input:\n",
      "    The Fulbright Program, including the Fulbright–Hays Program, is one of several United States Cultural Exchange Programs with the goal of improving intercultural relations, cultural diplomacy, and intercultural competence between the people of the United States and other countries through the exchange of persons, knowledge, and skills. Via the program, competitively-selected American citizens including students, scholars, teachers, professionals, scientists, and artists may receive scholarships or grants to study, conduct research, teach, or exercise their talents abroad; and citizens of other countries may qualify to do the same in the United States.\n",
      "\n",
      "    ### Response:\n",
      "    1. What is the goal of the Fulbright Program?\n",
      "   2. What are the different types of exchange programs offered by the Fulbright Program?\n",
      "   3. Who is eligible to participate in the Fulbright Program?\n",
      "   4. What are the benefits of participating in the Fulbright Program?\n",
      "   5. How are participants selected for the Fulbright Program?\n",
      "   6. What is the duration of the Fulbright Program?\n",
      "   7. What are the different types of scholarships and grants offered by the Fulbright Program?\n",
      "   8. How does the Fulbright Program promote intercultural relations?\n",
      "   9. What is the history of the Fulbright Program?\n",
      "   10. How does the Fulbright Program contribute to cultural diplomacy?</s>\n"
     ]
    },
    {
     "name": "stderr",
     "output_type": "stream",
     "text": [
      "Setting `pad_token_id` to `eos_token_id`:2 for open-end generation.\n"
     ]
    },
    {
     "name": "stdout",
     "output_type": "stream",
     "text": [
      "<s> You are a helpful assistant that generates questions based on a given context. Below is an instruction that describes a task, paired with an input that provides further context. Write a response that appropriately completes the request.\n",
      "\n",
      "    ### Instruction:\n",
      "    Generate 10 simple questions that can be answered from the following context.\n",
      "\n",
      "    ### Input:\n",
      "    The Fulbright Program is administered by cooperating organizations such as the Institute of International Education and operates in over 160 countries around the world. The Bureau of Educational and Cultural Affairs of the U.S. Department of State sponsors the Fulbright Program and receives funding from the United States Congress via annual appropriation bills. Additional direct and in-kind support comes from partner governments, foundations, corporations, and host institutions both in and outside the U.S. In 49 countries, a bi-national Fulbright Commission administers and oversees the Fulbright Program. In countries that have an active program but no Fulbright Commission, the Public Affairs Section of the U.S. Embassy oversees the Fulbright Program. More than 370,000 people have participated in the program since it began; 62 Fulbright alumni have won Nobel Prizes; 88 have won Pulitzer Prizes.\n",
      "\n",
      "    ### Response:\n",
      "    1. What is the Fulbright Program?\n",
      "   2. Who administers the Fulbright Program?\n",
      "   3. How many countries does the Fulbright Program operate in?\n",
      "   4. Who sponsors the Fulbright Program?\n",
      "   5. Where does the funding for the Fulbright Program come from?\n",
      "   6. How many people have participated in the Fulbright Program since its inception?\n",
      "   7. How many Fulbright alumni have won Nobel Prizes?\n",
      "   8. How many Fulbright alumni have won Pulitzer Prizes?\n",
      "   9. What is the role of the Institute of International Education in the Fulbright Program?\n",
      "   10. What is the role of the Bureau of Educational and Cultural Affairs of the U.S. Department of State in the Fulbright Program?</s>\n"
     ]
    },
    {
     "name": "stderr",
     "output_type": "stream",
     "text": [
      "Setting `pad_token_id` to `eos_token_id`:2 for open-end generation.\n"
     ]
    },
    {
     "name": "stdout",
     "output_type": "stream",
     "text": [
      "<s> You are a helpful assistant that generates questions based on a given context. Below is an instruction that describes a task, paired with an input that provides further context. Write a response that appropriately completes the request.\n",
      "\n",
      "    ### Instruction:\n",
      "    Generate 10 simple questions that can be answered from the following context.\n",
      "\n",
      "    ### Input:\n",
      "    In 1945, Senator J. William Fulbright proposed a bill to use the proceeds from selling surplus U.S. government war property to fund international exchange between the U.S. and other countries. With the crucial timing of the aftermath of the Second World War and with the pressing establishment of the United Nations, the Fulbright Program was an attempt to promote peace and understanding through educational exchange. The bill devised a plan to forgo the debts foreign countries amassed during the war in return for funding an international educational program. It was through the belief that this program would be an essential vehicle to promote peace and mutual understanding between individuals, institutions and future leaders wherever they may be.\n",
      "\n",
      "    ### Response:\n",
      "    1. Who proposed the bill for the Fulbright Program?\n",
      "   2. When was the Fulbright Program established?\n",
      "   3. What was the purpose of the Fulbright Program?\n",
      "   4. What was the timing of the establishment of the Fulbright Program?\n",
      "   5. What was the main goal of the Fulbright Program?\n",
      "   6. How did the Fulbright Program promote peace and understanding?\n",
      "   7. What was the plan for funding the Fulbright Program?\n",
      "   8. What was the significance of the Fulbright Program in the aftermath of World War II?\n",
      "   9. How did the Fulbright Program promote international exchange?\n",
      "   10. What was the impact of the Fulbright Program on future leaders?</s>\n"
     ]
    },
    {
     "name": "stderr",
     "output_type": "stream",
     "text": [
      "Setting `pad_token_id` to `eos_token_id`:2 for open-end generation.\n"
     ]
    },
    {
     "name": "stdout",
     "output_type": "stream",
     "text": [
      "<s> You are a helpful assistant that generates questions based on a given context. Below is an instruction that describes a task, paired with an input that provides further context. Write a response that appropriately completes the request.\n",
      "\n",
      "    ### Instruction:\n",
      "    Generate 10 simple questions that can be answered from the following context.\n",
      "\n",
      "    ### Input:\n",
      "    Vietnam has an extensive state-controlled network of schools, colleges, and universities and a growing number of privately run and partially privatised institutions. General education in Vietnam is divided into five categories: kindergarten, elementary schools, middle schools, high schools, and universities. A large number of public schools have been constructed across the country to raise the national literacy rate, which stood at 90% in 2008. Most universities are located in major cities of Hanoi and Ho Chi Minh City with the country's education system continuously undergoing a series of reforms by the government. Basic education in the country is relatively free for the poor although some families may still have trouble paying tuition fees for their children without some form of public or private assistance. Regardless, Vietnam's school enrolment is among the highest in the world. The number of colleges and universities increased dramatically in the 2000s from 178 in 2000 to 299 in 2005. In higher education, the government provides subsidised loans for students through the national bank, although there are deep concerns about access to the loans as well the burden on students to repay them. Since 1995, enrolment in higher education has grown tenfold to over 2.2 million with 84,000 lecturers and 419 institutions of higher education. A number of foreign universities operate private campuses in Vietnam, including Harvard University (United States) and the Royal Melbourne Institute of Technology (Australia). The government's strong commitment to education has fostered significant growth but still need to be sustained to retain academics. In 2018, a decree on university autonomy allowing them to operate independently without ministerial control is in its final stages of approval. The government will continue investing in education especially for the poor to have access to basic education.\n",
      "\n",
      "    ### Response:\n",
      "    1. What is the literacy rate in Vietnam?\n",
      "   2. How many universities are there in Vietnam?\n",
      "   3. What is the government's commitment to education in Vietnam?\n",
      "   4. How has the number of colleges and universities increased in Vietnam?\n",
      "   5. What is the government's policy on providing loans for students in higher education?\n",
      "   6. How has the enrolment in higher education grown in Vietnam?\n",
      "   7. What is the government's plan for sustaining growth in education?\n",
      "   8. How does the government support access to basic education for the poor?\n",
      "   9. What is the government's stance on foreign universities operating private campuses in Vietnam?\n",
      "   10. What is the government's plan for university autonomy in Vietnam?</s>\n"
     ]
    },
    {
     "name": "stderr",
     "output_type": "stream",
     "text": [
      "Setting `pad_token_id` to `eos_token_id`:2 for open-end generation.\n"
     ]
    },
    {
     "name": "stdout",
     "output_type": "stream",
     "text": [
      "<s> You are a helpful assistant that generates questions based on a given context. Below is an instruction that describes a task, paired with an input that provides further context. Write a response that appropriately completes the request.\n",
      "\n",
      "    ### Instruction:\n",
      "    Generate 10 simple questions that can be answered from the following context.\n",
      "\n",
      "    ### Input:\n",
      "    Vietnam went through prolonged warfare in the 20th century. After World War II, France returned to reclaim colonial power in the First Indochina War, from which Vietnam emerged victorious in 1954. As a result of the treaties signed between the Viet Minh and France, Vietnam was also separated into two parts. The Vietnam War began shortly after, between the communist North Vietnam, supported by the Soviet Union and China, and the anti-communist South Vietnam, supported by the United States. Upon the North Vietnamese victory in 1975, Vietnam reunified as a unitary socialist state under the Communist Party of Vietnam (CPV) in 1976. An ineffective planned economy, a trade embargo by the West, and wars with Cambodia and China crippled the country further. In 1986, the CPV initiated economic and political reforms similar to the Chinese economic reform, transforming the country to a socialist-oriented market economy. The reforms facilitated Vietnamese reintegration into the global economy and politics.\n",
      "\n",
      "    ### Response:\n",
      "    1. What was the outcome of the First Indochina War?\n",
      "   2. When did the Vietnam War begin?\n",
      "   3. Who supported North Vietnam during the Vietnam War?\n",
      "   4. When did Vietnam reunify as a unitary socialist state?\n",
      "   5. What were the consequences of the Vietnam War for the country?\n",
      "   6. When did the CPV initiate economic and political reforms?\n",
      "   7. How did the reforms facilitate Vietnamese reintegration into the global economy and politics?\n",
      "   8. What was the outcome of the wars with Cambodia and China?\n",
      "   9. What was the impact of the trade embargo by the West on Vietnam?\n",
      "   10. When did the CPV transform the country to a socialist-oriented market economy?</s>\n"
     ]
    },
    {
     "name": "stderr",
     "output_type": "stream",
     "text": [
      "Setting `pad_token_id` to `eos_token_id`:2 for open-end generation.\n"
     ]
    },
    {
     "name": "stdout",
     "output_type": "stream",
     "text": [
      "<s> You are a helpful assistant that generates questions based on a given context. Below is an instruction that describes a task, paired with an input that provides further context. Write a response that appropriately completes the request.\n",
      "\n",
      "    ### Instruction:\n",
      "    Generate 10 simple questions that can be answered from the following context.\n",
      "\n",
      "    ### Input:\n",
      "    Archaeological excavations have revealed the existence of humans in what is now Vietnam as early as the Paleolithic age. Stone artefacts excavated in Gia Lai province have been claimed to date to 0.78 Ma, based on associated find of tektites, however this claim has been challenged because tektites are often found in archaeological sites of various ages in Vietnam. Homo erectus fossils dating to around 500,000 BC have been found in caves in Lang Son and Nghe An provinces in northern Vietnam. The oldest Homo sapiens fossils from mainland Southeast Asia are of Middle Pleistocene provenance, and include isolated tooth fragments from Tham Om and Hang Hum. Teeth attributed to Homo sapiens from the Late Pleistocene have been found at Dong Can, and from the Early Holocene at Mai Da Dieu, Lang Gao and Lang Cuom. Areas comprising what is now Vietnam participated in the Maritime Jade Road, as ascertained by archeological research.\n",
      "\n",
      "    ### Response:\n",
      "    1. What is the earliest evidence of human existence in Vietnam?\n",
      "   2. What is the significance of the stone artefacts excavated in Gia Lai province?\n",
      "   3. What is the controversy surrounding the claim of the 0.78 Ma stone artefacts?\n",
      "   4. When were the Homo erectus fossils found in Vietnam?\n",
      "   5. What is the significance of the Homo sapiens fossils found in Vietnam?\n",
      "   6. What is the Maritime Jade Road and how does it relate to Vietnam?\n",
      "   7. What is the significance of the Middle Pleistocene Homo sapiens fossils found in Vietnam?\n",
      "   8. What is the significance of the Late Pleistocene Homo sapiens fossils found in Vietnam?\n",
      "   9. What is the significance of the Early Holocene Homo sapiens fossils found in Vietnam?\n",
      "   10. What is the significance of the archeological research on the Maritime Jade Road in Vietnam?</s>\n"
     ]
    },
    {
     "name": "stderr",
     "output_type": "stream",
     "text": [
      "Setting `pad_token_id` to `eos_token_id`:2 for open-end generation.\n"
     ]
    },
    {
     "name": "stdout",
     "output_type": "stream",
     "text": [
      "<s> You are a helpful assistant that generates questions based on a given context. Below is an instruction that describes a task, paired with an input that provides further context. Write a response that appropriately completes the request.\n",
      "\n",
      "    ### Instruction:\n",
      "    Generate 10 simple questions that can be answered from the following context.\n",
      "\n",
      "    ### Input:\n",
      "    In 2010, Vietnam's total state spending on science and technology amounted to roughly 0.45% of its GDP. Vietnamese scientists have made many significant contributions in various fields of study, most notably in mathematics. Hoang Tuy pioneered the applied mathematics field of global optimisation in the 20th century, while Ngo Bao Chau won the 2010 Fields Medal for his proof of fundamental lemma in the theory of automorphic forms. Since the establishment of the Vietnam Academy of Science and Technology (VAST) by the government in 1975, the country is working to develop its first national space flight program especially after the completion of the infrastructure at the Vietnam Space Centre (VSC) in 2018. Vietnam has also made significant advances in the development of robots, such as the TOPIO humanoid model. One of Vietnam's main messaging apps, Zalo, was developed by Vuong Quang Khai, a Vietnamese hacker who later worked with the country's largest information technology service company, the FPT Group.\n",
      "\n",
      "    ### Response:\n",
      "    1. What percentage of Vietnam's GDP was spent on science and technology in 2010?\n",
      "   2. Who pioneered the applied mathematics field of global optimisation in the 20th century?\n",
      "   3. Who won the Fields Medal in 2010 for his proof of fundamental lemma in the theory of automorphic forms?\n",
      "   4. When was the Vietnam Academy of Science and Technology (VAST) established?\n",
      "   5. What is the name of Vietnam's first national space flight program?\n",
      "   6. What is the name of the infrastructure completed in 2018 at the Vietnam Space Centre (VSC)?\n",
      "   7. What is the name of the main messaging app developed by a Vietnamese hacker?\n",
      "   8. Who is the founder of the FPT Group?\n",
      "   9. What is the name of the humanoid robot developed by Vietnam?\n",
      "   10. What is the name of the largest information technology service company in Vietnam?</s>\n"
     ]
    },
    {
     "name": "stderr",
     "output_type": "stream",
     "text": [
      "Setting `pad_token_id` to `eos_token_id`:2 for open-end generation.\n"
     ]
    },
    {
     "name": "stdout",
     "output_type": "stream",
     "text": [
      "<s> You are a helpful assistant that generates questions based on a given context. Below is an instruction that describes a task, paired with an input that provides further context. Write a response that appropriately completes the request.\n",
      "\n",
      "    ### Instruction:\n",
      "    Generate 10 simple questions that can be answered from the following context.\n",
      "\n",
      "    ### Input:\n",
      "    Throughout the history of Vietnam, its economy has been based largely on agriculture—primarily wet rice cultivation. Bauxite, an important material in the production of aluminium, is mined in central Vietnam. Since reunification, the country's economy is shaped primarily by the CPV through Five Year Plans decided upon at the plenary sessions of the Central Committee and national congresses. The collectivisation of farms, factories, and capital goods was carried out as part of the establishment of central planning, with millions of people working for state enterprises. Under strict state control, Vietnam's economy continued to be plagued by inefficiency, corruption in state-owned enterprises, poor quality and underproduction. With the decline in economic aid from its main trading partner, the Soviet Union, following the erosion of the Eastern bloc in the late 1980s, and the subsequent collapse of the Soviet Union, as well as the negative impacts of the post-war trade embargo imposed by the United States, Vietnam began to liberalise its trade by devaluing its exchange rate to increase exports and embarked on a policy of economic development.\n",
      "\n",
      "    ### Response:\n",
      "    1. What is the main economic activity in Vietnam?\n",
      "   2. What is bauxite and how is it used in the production of aluminium?\n",
      "   3. How is the economy of Vietnam shaped?\n",
      "   4. What is the role of the CPV in the economy of Vietnam?\n",
      "   5. What was the impact of the decline in economic aid from the Soviet Union on the economy of Vietnam?\n",
      "   6. What was the policy of economic development adopted by Vietnam?\n",
      "   7. What was the impact of the trade embargo imposed by the United States on the economy of Vietnam?\n",
      "   8. How did the economy of Vietnam change after the collapse of the Soviet Union?\n",
      "   9. What was the impact of the devaluation of the exchange rate on the economy of Vietnam?\n",
      "   10. What is the current state of the economy of Vietnam?</s>\n"
     ]
    },
    {
     "name": "stderr",
     "output_type": "stream",
     "text": [
      "Setting `pad_token_id` to `eos_token_id`:2 for open-end generation.\n"
     ]
    },
    {
     "name": "stdout",
     "output_type": "stream",
     "text": [
      "<s> You are a helpful assistant that generates questions based on a given context. Below is an instruction that describes a task, paired with an input that provides further context. Write a response that appropriately completes the request.\n",
      "\n",
      "    ### Instruction:\n",
      "    Generate 10 simple questions that can be answered from the following context.\n",
      "\n",
      "    ### Input:\n",
      "    As a result of several land reform measures, Vietnam has become a major exporter of agricultural products. It is now the world's largest producer of cashew nuts, with a one-third global share; the largest producer of black pepper, accounting for one-third of the world's market; and the second-largest rice exporter in the world after Thailand since the 1990s. Subsequently, Vietnam is also the world's second largest exporter of coffee. The country has the highest proportion of land use for permanent crops together with other states in the Greater Mekong Subregion. Other primary exports include tea, rubber and fishery products. Agriculture's share of Vietnam's GDP has fallen in recent decades, declining from 42% in 1989 to 20% in 2006 as production in other sectors of the economy has risen.\n",
      "\n",
      "    ### Response:\n",
      "    1. What is Vietnam's largest exported agricultural product?\n",
      "   2. What is the global share of cashew nuts produced by Vietnam?\n",
      "   3. What is the second largest exporter of coffee in the world?\n",
      "   4. What is the proportion of land use for permanent crops in Vietnam?\n",
      "   5. What is the share of agriculture in Vietnam's GDP?\n",
      "   6. When did the share of agriculture in Vietnam's GDP decline?\n",
      "   7. What is the global market share of black pepper produced by Vietnam?\n",
      "   8. What is the world's largest producer of black pepper?\n",
      "   9. What is the second largest exporter of rice in the world?\n",
      "   10. What is the global market share of coffee produced by Vietnam?</s>\n"
     ]
    },
    {
     "name": "stderr",
     "output_type": "stream",
     "text": [
      "Setting `pad_token_id` to `eos_token_id`:2 for open-end generation.\n"
     ]
    },
    {
     "name": "stdout",
     "output_type": "stream",
     "text": [
      "<s> You are a helpful assistant that generates questions based on a given context. Below is an instruction that describes a task, paired with an input that provides further context. Write a response that appropriately completes the request.\n",
      "\n",
      "    ### Instruction:\n",
      "    Generate 10 simple questions that can be answered from the following context.\n",
      "\n",
      "    ### Input:\n",
      "    In 1986, the Sixth National Congress of the CPV introduced socialist-oriented market economic reforms as part of the Đoi Moi reform program. Private ownership began to be encouraged in industry, commerce and agriculture and state enterprises were restructured to operate under market constraints. This led to the five-year economic plans being replaced by the socialist-oriented market mechanism. As a result of these reforms, Vietnam achieved approximately 8% annual gross domestic product (GDP) growth between 1990 and 1997. The United States ended its economic embargo against Vietnam in early 1994. Although the 1997 Asian financial crisis caused an economic slowdown to 4–5% growth per year, its economy began to recover in 1999, and grew at around 7% per year from 2000 to 2005, one of the fastest in the world. On 11 January 2007, Vietnam became the 150th member of the WTO (World Trade Organization). According to the General Statistics Office of Vietnam (GSO), growth remained strong despite the late-2000s global recession, holding at 6.8% in 2010. Vietnam's year-on-year inflation rate reached 11.8% in December 2010 and the currency, the Vietnamese đồng, was devalued three times.\n",
      "\n",
      "    ### Response:\n",
      "    1. What year did the Sixth National Congress of the CPV introduce socialist-oriented market economic reforms?\n",
      "   2. What was the result of the Đoi Moi reform program?\n",
      "   3. When did the United States end its economic embargo against Vietnam?\n",
      "   4. What was the growth rate of Vietnam's economy between 1990 and 1997?\n",
      "   5. What caused an economic slowdown in Vietnam in 1997?\n",
      "   6. When did Vietnam become a member of the WTO?\n",
      "   7. What was the growth rate of Vietnam's economy despite the late-2000s global recession?\n",
      "   8. What was the inflation rate in Vietnam in December 2010?\n",
      "   9. When was the Vietnamese đồng devalued?\n",
      "   10. What was the result of the Đoi Moi reform program?</s>\n"
     ]
    },
    {
     "name": "stderr",
     "output_type": "stream",
     "text": [
      "Setting `pad_token_id` to `eos_token_id`:2 for open-end generation.\n"
     ]
    },
    {
     "name": "stdout",
     "output_type": "stream",
     "text": [
      "<s> You are a helpful assistant that generates questions based on a given context. Below is an instruction that describes a task, paired with an input that provides further context. Write a response that appropriately completes the request.\n",
      "\n",
      "    ### Instruction:\n",
      "    Generate 10 simple questions that can be answered from the following context.\n",
      "\n",
      "    ### Input:\n",
      "    Architecturally, the school has a Catholic character. Atop the Main Building's gold dome is a golden statue of the Virgin Mary. Immediately in front of the Main Building and facing it, is a copper statue of Christ with arms upraised with the legend \"Venite Ad Me Omnes\". Next to the Main Building is the Basilica of the Sacred Heart. Immediately behind the basilica is the Grotto, a Marian place of prayer and reflection. It is a replica of the grotto at Lourdes, France where the Virgin Mary reputedly appeared to Saint Bernadette Soubirous in 1858. At the end of the main drive (and in a direct line that connects through 3 statues and the Gold Dome), is a simple, modern stone statue of Mary.\n",
      "\n",
      "    ### Response:\n",
      "    1. What is the architectural character of the school?\n",
      "   2. What is the name of the statue on top of the Main Building?\n",
      "   3. What is the legend on the statue of Christ?\n",
      "   4. What is the name of the building next to the Main Building?\n",
      "   5. What is the name of the place of prayer and reflection behind the Basilica?\n",
      "   6. What is the significance of the statue of Mary at the end of the main drive?\n",
      "   7. What is the name of the statue of Mary at the end of the main drive?\n",
      "   8. What is the significance of the statue of Mary at the end of the main drive?\n",
      "   9. What is the name of the statue of Mary at the end of the main drive?\n",
      "   10. What is the significance of the statue of Mary at the end of the main drive?</s>\n"
     ]
    },
    {
     "name": "stderr",
     "output_type": "stream",
     "text": [
      "Setting `pad_token_id` to `eos_token_id`:2 for open-end generation.\n"
     ]
    },
    {
     "name": "stdout",
     "output_type": "stream",
     "text": [
      "<s> You are a helpful assistant that generates questions based on a given context. Below is an instruction that describes a task, paired with an input that provides further context. Write a response that appropriately completes the request.\n",
      "\n",
      "    ### Instruction:\n",
      "    Generate 10 simple questions that can be answered from the following context.\n",
      "\n",
      "    ### Input:\n",
      "    As at most other universities, Notre Dame's students run a number of news media outlets. The nine student-run outlets include three newspapers, both a radio and television station, and several magazines and journals. Begun as a one-page journal in September 1876, the Scholastic magazine is issued twice monthly and claims to be the oldest continuous collegiate publication in the United States. The other magazine, The Juggler, is released twice a year and focuses on student literature and artwork. The Dome yearbook is published annually. The newspapers have varying publication interests, with The Observer published daily and mainly reporting university and other news, and staffed by students from both Notre Dame and Saint Mary's College. Unlike Scholastic and The Dome, The Observer is an independent publication and does not have a faculty advisor or any editorial oversight from the University. In 1987, when some students believed that The Observer began to show a conservative bias, a liberal newspaper, Common Sense was published. Likewise, in 2003, when other students believed that the paper showed a liberal bias, the conservative paper Irish Rover went into production. Neither paper is published as often as The Observer; however, all three are distributed to all students. Finally, in Spring 2008 an undergraduate journal for political science research, Beyond Politics, made its debut.\n",
      "\n",
      "    ### Response:\n",
      "    1. What is the oldest continuous collegiate publication in the United States?\n",
      "   2. How many student-run news media outlets are there at Notre Dame?\n",
      "   3. When was The Observer newspaper first published?\n",
      "   4. What is the focus of The Juggler magazine?\n",
      "   5. Who is the faculty advisor for Scholastic magazine?\n",
      "   6. How often is The Dome yearbook published?\n",
      "   7. What is the difference between The Observer and The Juggler?\n",
      "   8. When was Common Sense newspaper first published?\n",
      "   9. How often is Irish Rover newspaper published?\n",
      "   10. What is the focus of Beyond Politics journal?</s>\n"
     ]
    },
    {
     "name": "stderr",
     "output_type": "stream",
     "text": [
      "Setting `pad_token_id` to `eos_token_id`:2 for open-end generation.\n"
     ]
    },
    {
     "name": "stdout",
     "output_type": "stream",
     "text": [
      "<s> You are a helpful assistant that generates questions based on a given context. Below is an instruction that describes a task, paired with an input that provides further context. Write a response that appropriately completes the request.\n",
      "\n",
      "    ### Instruction:\n",
      "    Generate 10 simple questions that can be answered from the following context.\n",
      "\n",
      "    ### Input:\n",
      "    The university is the major seat of the Congregation of Holy Cross (albeit not its official headquarters, which are in Rome). Its main seminary, Moreau Seminary, is located on the campus across St. Joseph lake from the Main Building. Old College, the oldest building on campus and located near the shore of St. Mary lake, houses undergraduate seminarians. Retired priests and brothers reside in Fatima House (a former retreat center), Holy Cross House, as well as Columba Hall near the Grotto. The university through the Moreau Seminary has ties to theologian Frederick Buechner. While not Catholic, Buechner has praised writers from Notre Dame and Moreau Seminary created a Buechner Prize for Preaching.\n",
      "\n",
      "    ### Response:\n",
      "    1. What is the main seminary located on the campus of the university?\n",
      "   2. Where is the official headquarters of the Congregation of Holy Cross located?\n",
      "   3. What is the oldest building on campus?\n",
      "   4. Where do retired priests and brothers reside?\n",
      "   5. What ties does the university have to theologian Frederick Buechner?\n",
      "   6. What is the name of the prize for preaching created by Moreau Seminary?\n",
      "   7. What is the name of the lake near the Main Building?\n",
      "   8. What is the name of the lake near Old College?\n",
      "   9. What is the name of the retreat center on campus?\n",
      "   10. What is the name of the building where undergraduate seminarians reside?</s>\n"
     ]
    },
    {
     "name": "stderr",
     "output_type": "stream",
     "text": [
      "Setting `pad_token_id` to `eos_token_id`:2 for open-end generation.\n"
     ]
    },
    {
     "name": "stdout",
     "output_type": "stream",
     "text": [
      "<s> You are a helpful assistant that generates questions based on a given context. Below is an instruction that describes a task, paired with an input that provides further context. Write a response that appropriately completes the request.\n",
      "\n",
      "    ### Instruction:\n",
      "    Generate 10 simple questions that can be answered from the following context.\n",
      "\n",
      "    ### Input:\n",
      "    The College of Engineering was established in 1920, however, early courses in civil and mechanical engineering were a part of the College of Science since the 1870s. Today the college, housed in the Fitzpatrick, Cushing, and Stinson-Remick Halls of Engineering, includes five departments of study – aerospace and mechanical engineering, chemical and biomolecular engineering, civil engineering and geological sciences, computer science and engineering, and electrical engineering – with eight B.S. degrees offered. Additionally, the college offers five-year dual degree programs with the Colleges of Arts and Letters and of Business awarding additional B.A. and Master of Business Administration (MBA) degrees, respectively.\n",
      "\n",
      "    ### Response:\n",
      "    1. When was the College of Engineering established?\n",
      "   2. What were the early courses in civil and mechanical engineering?\n",
      "   3. What departments of study are included in the College of Engineering today?\n",
      "   4. How many B.S. degrees are offered by the College of Engineering?\n",
      "   5. What dual degree programs are offered by the College of Engineering?\n",
      "   6. What additional degrees can be earned through the dual degree programs?\n",
      "   7. What is the name of the hall where the College of Engineering is housed?\n",
      "   8. When were the early courses in civil and mechanical engineering first offered?\n",
      "   9. What is the name of the College of Engineering's five-year dual degree program?\n",
      "   10. What is the name of the College of Engineering's dual degree program with the College of Business?</s>\n"
     ]
    },
    {
     "name": "stderr",
     "output_type": "stream",
     "text": [
      "Setting `pad_token_id` to `eos_token_id`:2 for open-end generation.\n"
     ]
    },
    {
     "name": "stdout",
     "output_type": "stream",
     "text": [
      "<s> You are a helpful assistant that generates questions based on a given context. Below is an instruction that describes a task, paired with an input that provides further context. Write a response that appropriately completes the request.\n",
      "\n",
      "    ### Instruction:\n",
      "    Generate 10 simple questions that can be answered from the following context.\n",
      "\n",
      "    ### Input:\n",
      "    All of Notre Dame's undergraduate students are a part of one of the five undergraduate colleges at the school or are in the First Year of Studies program. The First Year of Studies program was established in 1962 to guide incoming freshmen in their first year at the school before they have declared a major. Each student is given an academic advisor from the program who helps them to choose classes that give them exposure to any major in which they are interested. The program also includes a Learning Resource Center which provides time management, collaborative learning, and subject tutoring. This program has been recognized previously, by U.S. News & World Report, as outstanding.\n",
      "\n",
      "    ### Response:\n",
      "    1. What is the First Year of Studies program at Notre Dame?\n",
      "   2. When was the First Year of Studies program established?\n",
      "   3. What is the purpose of the First Year of Studies program?\n",
      "   4. Who helps students in the First Year of Studies program choose classes?\n",
      "   5. What services does the Learning Resource Center provide?\n",
      "   6. How has the First Year of Studies program been recognized?\n",
      "   7. What is the role of an academic advisor in the First Year of Studies program?\n",
      "   8. What is the goal of the First Year of Studies program?\n",
      "   9. How does the First Year of Studies program help students in their first year at Notre Dame?\n",
      "   10. What is the importance of the First Year of Studies program for incoming freshmen?</s>\n"
     ]
    },
    {
     "name": "stderr",
     "output_type": "stream",
     "text": [
      "Setting `pad_token_id` to `eos_token_id`:2 for open-end generation.\n"
     ]
    },
    {
     "name": "stdout",
     "output_type": "stream",
     "text": [
      "<s> You are a helpful assistant that generates questions based on a given context. Below is an instruction that describes a task, paired with an input that provides further context. Write a response that appropriately completes the request.\n",
      "\n",
      "    ### Instruction:\n",
      "    Generate 10 simple questions that can be answered from the following context.\n",
      "\n",
      "    ### Input:\n",
      "    The university first offered graduate degrees, in the form of a Master of Arts (MA), in the 1854–1855 academic year. The program expanded to include Master of Laws (LL.M.) and Master of Civil Engineering in its early stages of growth, before a formal graduate school education was developed with a thesis not required to receive the degrees. This changed in 1924 with formal requirements developed for graduate degrees, including offering Doctorate (PhD) degrees. Today each of the five colleges offer graduate education. Most of the departments from the College of Arts and Letters offer PhD programs, while a professional Master of Divinity (M.Div.) program also exists. All of the departments in the College of Science offer PhD programs, except for the Department of Pre-Professional Studies. The School of Architecture offers a Master of Architecture, while each of the departments of the College of Engineering offer PhD programs. The College of Business offers multiple professional programs including MBA and Master of Science in Accountancy programs. It also operates facilities in Chicago and Cincinnati for its executive MBA program. Additionally, the Alliance for Catholic Education program offers a Master of Education program where students study at the university during the summer and teach in Catholic elementary schools, middle schools, and high schools across the Southern United States for two school years.\n",
      "\n",
      "    ### Response:\n",
      "    1. When did the university first offer graduate degrees?\n",
      "   2. What are the different types of graduate degrees offered by the university?\n",
      "   3. When did the university start offering PhD degrees?\n",
      "   4. Which colleges offer graduate education at the university?\n",
      "   5. Which departments in the College of Arts and Letters offer PhD programs?\n",
      "   6. Which departments in the College of Science offer PhD programs?\n",
      "   7. Which departments in the College of Engineering offer PhD programs?\n",
      "   8. What professional programs does the College of Business offer?\n",
      "   9. What facilities does the university operate for its executive MBA program?\n",
      "   10. What is the Alliance for Catholic Education program and what does it offer?</s>\n"
     ]
    },
    {
     "name": "stderr",
     "output_type": "stream",
     "text": [
      "Setting `pad_token_id` to `eos_token_id`:2 for open-end generation.\n"
     ]
    },
    {
     "name": "stdout",
     "output_type": "stream",
     "text": [
      "<s> You are a helpful assistant that generates questions based on a given context. Below is an instruction that describes a task, paired with an input that provides further context. Write a response that appropriately completes the request.\n",
      "\n",
      "    ### Instruction:\n",
      "    Generate 10 simple questions that can be answered from the following context.\n",
      "\n",
      "    ### Input:\n",
      "    The Joan B. Kroc Institute for International Peace Studies at the University of Notre Dame is dedicated to research, education and outreach on the causes of violent conflict and the conditions for sustainable peace. It offers PhD, Master's, and undergraduate degrees in peace studies. It was founded in 1986 through the donations of Joan B. Kroc, the widow of McDonald's owner Ray Kroc. The institute was inspired by the vision of the Rev. Theodore M. Hesburgh CSC, President Emeritus of the University of Notre Dame. The institute has contributed to international policy discussions about peace building practices.\n",
      "\n",
      "    ### Response:\n",
      "    1. What is the mission of the Joan B. Kroc Institute for International Peace Studies?\n",
      "   2. What degrees does the institute offer?\n",
      "   3. When was the institute founded?\n",
      "   4. Who founded the institute?\n",
      "   5. What inspired the creation of the institute?\n",
      "   6. What is the institute's contribution to international policy discussions?\n",
      "   7. What is the institute's focus on peace building practices?\n",
      "   8. What is the institute's vision for peace?\n",
      "   9. What is the institute's approach to conflict resolution?\n",
      "   10. How does the institute engage in outreach activities?</s>\n"
     ]
    },
    {
     "name": "stderr",
     "output_type": "stream",
     "text": [
      "Setting `pad_token_id` to `eos_token_id`:2 for open-end generation.\n"
     ]
    },
    {
     "name": "stdout",
     "output_type": "stream",
     "text": [
      "<s> You are a helpful assistant that generates questions based on a given context. Below is an instruction that describes a task, paired with an input that provides further context. Write a response that appropriately completes the request.\n",
      "\n",
      "    ### Instruction:\n",
      "    Generate 10 simple questions that can be answered from the following context.\n",
      "\n",
      "    ### Input:\n",
      "    The library system of the university is divided between the main library and each of the colleges and schools. The main building is the 14-story Theodore M. Hesburgh Library, completed in 1963, which is the third building to house the main collection of books. The front of the library is adorned with the Word of Life mural designed by artist Millard Sheets. This mural is popularly known as \"Touchdown Jesus\" because of its proximity to Notre Dame Stadium and Jesus' arms appearing to make the signal for a touchdown.\n",
      "\n",
      "    ### Response:\n",
      "    1. What is the name of the main library building at the university?\n",
      "   2. When was the main library building completed?\n",
      "   3. Who designed the Word of Life mural on the front of the library?\n",
      "   4. What is the mural on the front of the library commonly known as?\n",
      "   5. How many stories is the main library building?\n",
      "   6. What is the name of the artist who designed the Word of Life mural?\n",
      "   7. When was the main library building the third building to house the main collection of books?\n",
      "   8. What is the proximity of the Word of Life mural to Notre Dame Stadium?\n",
      "   9. What is the significance of the arms of Jesus in the Word of Life mural?\n",
      "   10. What is the name of the main collection of books housed in the main library building?</s>\n"
     ]
    },
    {
     "name": "stderr",
     "output_type": "stream",
     "text": [
      "Setting `pad_token_id` to `eos_token_id`:2 for open-end generation.\n"
     ]
    },
    {
     "name": "stdout",
     "output_type": "stream",
     "text": [
      "<s> You are a helpful assistant that generates questions based on a given context. Below is an instruction that describes a task, paired with an input that provides further context. Write a response that appropriately completes the request.\n",
      "\n",
      "    ### Instruction:\n",
      "    Generate 10 simple questions that can be answered from the following context.\n",
      "\n",
      "    ### Input:\n",
      "    Notre Dame is known for its competitive admissions, with the incoming class enrolling in fall 2015 admitting 3,577 from a pool of 18,156 (19.7%). The academic profile of the enrolled class continues to rate among the top 10 to 15 in the nation for national research universities. The university practices a non-restrictive early action policy that allows admitted students to consider admission to Notre Dame as well as any other colleges to which they were accepted. 1,400 of the 3,577 (39.1%) were admitted under the early action plan. Admitted students came from 1,311 high schools and the average student traveled more than 750 miles to Notre Dame, making it arguably the most representative university in the United States. While all entering students begin in the College of the First Year of Studies, 25% have indicated they plan to study in the liberal arts or social sciences, 24% in engineering, 24% in business, 24% in science, and 3% in architecture.\n",
      "\n",
      "    ### Response:\n",
      "    1. What is the acceptance rate for Notre Dame's incoming class in fall 2015?\n",
      "   2. What is the academic profile of the enrolled class at Notre Dame?\n",
      "   3. How many students were admitted under the early action plan at Notre Dame?\n",
      "   4. How many high schools were represented in the admitted students at Notre Dame?\n",
      "   5. What is the average distance traveled by admitted students to Notre Dame?\n",
      "   6. What percentage of students plan to study in the liberal arts or social sciences at Notre Dame?\n",
      "   7. What percentage of students plan to study in the engineering program at Notre Dame?\n",
      "   8. What percentage of students plan to study in the business program at Notre Dame?\n",
      "   9. What percentage of students plan to study in the science program at Notre Dame?\n",
      "   10. What percentage of students plan to study in the architecture program at Notre Dame?</s>\n"
     ]
    },
    {
     "name": "stderr",
     "output_type": "stream",
     "text": [
      "Setting `pad_token_id` to `eos_token_id`:2 for open-end generation.\n"
     ]
    },
    {
     "name": "stdout",
     "output_type": "stream",
     "text": [
      "<s> You are a helpful assistant that generates questions based on a given context. Below is an instruction that describes a task, paired with an input that provides further context. Write a response that appropriately completes the request.\n",
      "\n",
      "    ### Instruction:\n",
      "    Generate 10 simple questions that can be answered from the following context.\n",
      "\n",
      "    ### Input:\n",
      "    In 2015-2016, Notre Dame ranked 18th overall among \"national universities\" in the United States in U.S. News & World Report's Best Colleges 2016. In 2014, USA Today ranked Notre Dame 10th overall for American universities based on data from College Factual. Forbes.com's America's Best Colleges ranks Notre Dame 13th among colleges in the United States in 2015, 8th among Research Universities, and 1st in the Midwest. U.S. News & World Report also lists Notre Dame Law School as 22nd overall. BusinessWeek ranks Mendoza College of Business undergraduate school as 1st overall. It ranks the MBA program as 20th overall. The Philosophical Gourmet Report ranks Notre Dame's graduate philosophy program as 15th nationally, while ARCHITECT Magazine ranked the undergraduate architecture program as 12th nationally. Additionally, the study abroad program ranks sixth in highest participation percentage in the nation, with 57.6% of students choosing to study abroad in 17 countries. According to payscale.com, undergraduate alumni of University of Notre Dame have a mid-career median salary $110,000, making it the 24th highest among colleges and universities in the United States. The median starting salary of $55,300 ranked 58th in the same peer group.\n",
      "\n",
      "    ### Response:\n",
      "    1. What is the ranking of Notre Dame among national universities in the United States in U.S. News & World Report's Best Colleges 2016?\n",
      "   2. In what year did USA Today rank Notre Dame 10th overall for American universities?\n",
      "   3. What is the ranking of Notre Dame Law School according to U.S. News & World Report?\n",
      "   4. What is the ranking of Mendoza College of Business undergraduate school according to BusinessWeek?\n",
      "   5. What is the ranking of Notre Dame's graduate philosophy program according to the Philosophical Gourmet Report?\n",
      "   6. What is the ranking of Notre Dame's undergraduate architecture program according to ARCHITECT Magazine?\n",
      "   7. What is the ranking of Notre Dame's study abroad program according to a study?\n",
      "   8. What is the median starting salary of undergraduate alumni of University of Notre Dame according to payscale.com?\n",
      "   9. What is the mid-career median salary of undergraduate alumni of University of Notre Dame according to payscale.com?\n",
      "   10. What is the ranking of Notre Dame among colleges and universities in the United States according to payscale.com?</s>\n"
     ]
    },
    {
     "name": "stderr",
     "output_type": "stream",
     "text": [
      "Setting `pad_token_id` to `eos_token_id`:2 for open-end generation.\n"
     ]
    },
    {
     "name": "stdout",
     "output_type": "stream",
     "text": [
      "<s> You are a helpful assistant that generates questions based on a given context. Below is an instruction that describes a task, paired with an input that provides further context. Write a response that appropriately completes the request.\n",
      "\n",
      "    ### Instruction:\n",
      "    Generate 10 simple questions that can be answered from the following context.\n",
      "\n",
      "    ### Input:\n",
      "    Father Joseph Carrier, C.S.C. was Director of the Science Museum and the Library and Professor of Chemistry and Physics until 1874. Carrier taught that scientific research and its promise for progress were not antagonistic to the ideals of intellectual and moral culture endorsed by the Church. One of Carrier's students was Father John Augustine Zahm (1851–1921) who was made Professor and Co-Director of the Science Department at age 23 and by 1900 was a nationally prominent scientist and naturalist. Zahm was active in the Catholic Summer School movement, which introduced Catholic laity to contemporary intellectual issues. His book Evolution and Dogma (1896) defended certain aspects of evolutionary theory as true, and argued, moreover, that even the great Church teachers Thomas Aquinas and Augustine taught something like it. The intervention of Irish American Catholics in Rome prevented Zahm's censure by the Vatican. In 1913, Zahm and former President Theodore Roosevelt embarked on a major expedition through the Amazon.\n",
      "\n",
      "    ### Response:\n",
      "    1. Who was the Director of the Science Museum and the Library at the University of Notre Dame?\n",
      "   2. What was Father Joseph Carrier's main focus in his teaching?\n",
      "   3. When did Father John Augustine Zahm become a Professor and Co-Director of the Science Department?\n",
      "   4. What was the main argument of Father John Augustine Zahm's book Evolution and Dogma?\n",
      "   5. What was the Catholic Summer School movement and what was its purpose?\n",
      "   6. Who was the former President of the United States who joined Father John Augustine Zahm on an expedition through the Amazon?\n",
      "   7. What was the main focus of Father Joseph Carrier's teaching?\n",
      "   8. When did Father John Augustine Zahm become a Professor and Co-Director of the Science Department?\n",
      "   9. What was the main argument of Father John Augustine Zahm's book Evolution and Dogma?\n",
      "   10. What was the Catholic Summer School movement and what was its purpose?</s>\n"
     ]
    },
    {
     "name": "stderr",
     "output_type": "stream",
     "text": [
      "Setting `pad_token_id` to `eos_token_id`:2 for open-end generation.\n"
     ]
    },
    {
     "name": "stdout",
     "output_type": "stream",
     "text": [
      "<s> You are a helpful assistant that generates questions based on a given context. Below is an instruction that describes a task, paired with an input that provides further context. Write a response that appropriately completes the request.\n",
      "\n",
      "    ### Instruction:\n",
      "    Generate 10 simple questions that can be answered from the following context.\n",
      "\n",
      "    ### Input:\n",
      "    In 1882, Albert Zahm (John Zahm's brother) built an early wind tunnel used to compare lift to drag of aeronautical models. Around 1899, Professor Jerome Green became the first American to send a wireless message. In 1931, Father Julius Nieuwland performed early work on basic reactions that was used to create neoprene. Study of nuclear physics at the university began with the building of a nuclear accelerator in 1936, and continues now partly through a partnership in the Joint Institute for Nuclear Astrophysics.\n",
      "\n",
      "    ### Response:\n",
      "    1. Who built the first wind tunnel used to compare lift to drag of aeronautical models?\n",
      "   2. When did Professor Jerome Green become the first American to send a wireless message?\n",
      "   3. Who performed early work on basic reactions that was used to create neoprene?\n",
      "   4. When did the study of nuclear physics at the university begin?\n",
      "   5. What year was the nuclear accelerator built at the university?\n",
      "   6. What is the name of the partnership in the Joint Institute for Nuclear Astrophysics?\n",
      "   7. Who was the first American to send a wireless message?\n",
      "   8. What year did the study of nuclear physics at the university begin?\n",
      "   9. Who built the first wind tunnel used to compare lift to drag of aeronautical models?\n",
      "   10. When did the study of nuclear physics at the university begin?</s>\n"
     ]
    },
    {
     "name": "stderr",
     "output_type": "stream",
     "text": [
      "Setting `pad_token_id` to `eos_token_id`:2 for open-end generation.\n"
     ]
    },
    {
     "name": "stdout",
     "output_type": "stream",
     "text": [
      "<s> You are a helpful assistant that generates questions based on a given context. Below is an instruction that describes a task, paired with an input that provides further context. Write a response that appropriately completes the request.\n",
      "\n",
      "    ### Instruction:\n",
      "    Generate 10 simple questions that can be answered from the following context.\n",
      "\n",
      "    ### Input:\n",
      "    The Lobund Institute grew out of pioneering research in germ-free-life which began in 1928. This area of research originated in a question posed by Pasteur as to whether animal life was possible without bacteria. Though others had taken up this idea, their research was short lived and inconclusive. Lobund was the first research organization to answer definitively, that such life is possible and that it can be prolonged through generations. But the objective was not merely to answer Pasteur's question but also to produce the germ free animal as a new tool for biological and medical research. This objective was reached and for years Lobund was a unique center for the study and production of germ free animals and for their use in biological and medical investigations. Today the work has spread to other universities. In the beginning it was under the Department of Biology and a program leading to the master's degree accompanied the research program. In the 1940s Lobund achieved independent status as a purely research organization and in 1950 was raised to the status of an Institute. In 1958 it was brought back into the Department of Biology as integral part of that department, but with its own program leading to the degree of PhD in Gnotobiotics.\n",
      "\n",
      "    ### Response:\n",
      "    1. What was the initial research focus of the Lobund Institute?\n",
      "   2. Who first posed the question about the possibility of animal life without bacteria?\n",
      "   3. When was the Lobund Institute established?\n",
      "   4. What was the objective of the Lobund Institute's research?\n",
      "   5. When did the Lobund Institute achieve independent status?\n",
      "   6. What degree program was established at the Lobund Institute?\n",
      "   7. When was the Lobund Institute brought back into the Department of Biology?\n",
      "   8. What is the current status of the Lobund Institute?\n",
      "   9. What is the focus of the research conducted at the Lobund Institute?\n",
      "   10. How has the research at the Lobund Institute impacted the field of biology and medicine?</s>\n"
     ]
    },
    {
     "name": "stderr",
     "output_type": "stream",
     "text": [
      "Setting `pad_token_id` to `eos_token_id`:2 for open-end generation.\n"
     ]
    },
    {
     "name": "stdout",
     "output_type": "stream",
     "text": [
      "<s> You are a helpful assistant that generates questions based on a given context. Below is an instruction that describes a task, paired with an input that provides further context. Write a response that appropriately completes the request.\n",
      "\n",
      "    ### Instruction:\n",
      "    Generate 10 simple questions that can be answered from the following context.\n",
      "\n",
      "    ### Input:\n",
      "    The Review of Politics was founded in 1939 by Gurian, modeled after German Catholic journals. It quickly emerged as part of an international Catholic intellectual revival, offering an alternative vision to positivist philosophy. For 44 years, the Review was edited by Gurian, Matthew Fitzsimons, Frederick Crosson, and Thomas Stritch. Intellectual leaders included Gurian, Jacques Maritain, Frank O'Malley, Leo Richard Ward, F. A. Hermens, and John U. Nef. It became a major forum for political ideas and modern political concerns, especially from a Catholic and scholastic tradition.\n",
      "\n",
      "    ### Response:\n",
      "    1. Who founded the Review of Politics in 1939?\n",
      "   2. What was the inspiration behind the founding of the Review of Politics?\n",
      "   3. How did the Review of Politics differ from other political journals at the time?\n",
      "   4. Who were some of the intellectual leaders of the Review of Politics?\n",
      "   5. How did the Review of Politics contribute to the Catholic intellectual revival?\n",
      "   6. What was the focus of the Review of Politics during its first 44 years?\n",
      "   7. Who were the editors of the Review of Politics during its first 44 years?\n",
      "   8. What was the significance of the Review of Politics in the field of political thought?\n",
      "   9. How did the Review of Politics address modern political concerns?\n",
      "   10. What was the scholastic tradition that influenced the Review of Politics?</s>\n"
     ]
    },
    {
     "name": "stderr",
     "output_type": "stream",
     "text": [
      "Setting `pad_token_id` to `eos_token_id`:2 for open-end generation.\n"
     ]
    },
    {
     "name": "stdout",
     "output_type": "stream",
     "text": [
      "<s> You are a helpful assistant that generates questions based on a given context. Below is an instruction that describes a task, paired with an input that provides further context. Write a response that appropriately completes the request.\n",
      "\n",
      "    ### Instruction:\n",
      "    Generate 10 simple questions that can be answered from the following context.\n",
      "\n",
      "    ### Input:\n",
      "    As of 2012[update] research continued in many fields. The university president, John Jenkins, described his hope that Notre Dame would become \"one of the pre–eminent research institutions in the world\" in his inaugural address. The university has many multi-disciplinary institutes devoted to research in varying fields, including the Medieval Institute, the Kellogg Institute for International Studies, the Kroc Institute for International Peace studies, and the Center for Social Concerns. Recent research includes work on family conflict and child development, genome mapping, the increasing trade deficit of the United States with China, studies in fluid mechanics, computational science and engineering, and marketing trends on the Internet. As of 2013, the university is home to the Notre Dame Global Adaptation Index which ranks countries annually based on how vulnerable they are to climate change and how prepared they are to adapt.\n",
      "\n",
      "    ### Response:\n",
      "    1. What is the goal of Notre Dame University in terms of research?\n",
      "   2. What are some of the multi-disciplinary institutes at Notre Dame?\n",
      "   3. What are some of the recent research projects at Notre Dame?\n",
      "   4. What is the Notre Dame Global Adaptation Index and what does it do?\n",
      "   5. Who is the current president of Notre Dame University?\n",
      "   6. When was the last time research was conducted at Notre Dame?\n",
      "   7. What is the hope for Notre Dame University in terms of research?\n",
      "   8. What is the Kellogg Institute for International Studies?\n",
      "   9. What is the Center for Social Concerns at Notre Dame?\n",
      "   10. What is the Kroc Institute for International Peace studies?</s>\n"
     ]
    },
    {
     "name": "stderr",
     "output_type": "stream",
     "text": [
      "Setting `pad_token_id` to `eos_token_id`:2 for open-end generation.\n"
     ]
    },
    {
     "name": "stdout",
     "output_type": "stream",
     "text": [
      "<s> You are a helpful assistant that generates questions based on a given context. Below is an instruction that describes a task, paired with an input that provides further context. Write a response that appropriately completes the request.\n",
      "\n",
      "    ### Instruction:\n",
      "    Generate 10 simple questions that can be answered from the following context.\n",
      "\n",
      "    ### Input:\n",
      "    In 2014 the Notre Dame student body consisted of 12,179 students, with 8,448 undergraduates, 2,138 graduate and professional and 1,593 professional (Law, M.Div., Business, M.Ed.) students. Around 21–24% of students are children of alumni, and although 37% of students come from the Midwestern United States, the student body represents all 50 states and 100 countries. As of March 2007[update] The Princeton Review ranked the school as the fifth highest 'dream school' for parents to send their children. As of March 2015[update] The Princeton Review ranked Notre Dame as the ninth highest. The school has been previously criticized for its lack of diversity, and The Princeton Review ranks the university highly among schools at which \"Alternative Lifestyles [are] Not an Alternative.\" It has also been commended by some diversity oriented publications; Hispanic Magazine in 2004 ranked the university ninth on its list of the top–25 colleges for Latinos, and The Journal of Blacks in Higher Education recognized the university in 2006 for raising enrollment of African-American students. With 6,000 participants, the university's intramural sports program was named in 2004 by Sports Illustrated as the best program in the country, while in 2007 The Princeton Review named it as the top school where \"Everyone Plays Intramural Sports.\" The annual Bookstore Basketball tournament is the largest outdoor five-on-five tournament in the world with over 700 teams participating each year, while the Notre Dame Men's Boxing Club hosts the annual Bengal Bouts tournament that raises money for the Holy Cross Missions in Bangladesh.\n",
      "\n",
      "    ### Response:\n",
      "    1. How many students were enrolled at Notre Dame in 2014?\n",
      "   2. What percentage of students at Notre Dame are children of alumni?\n",
      "   3. What is the geographical distribution of students at Notre Dame?\n",
      "   4. What is the ranking of Notre Dame as a \"dream school\" for parents to send their children?\n",
      "   5. How has Notre Dame been criticized for its lack of diversity?\n",
      "   6. What publications have recognized Notre Dame for its diversity efforts?\n",
      "   7. How many participants were there in the university's intramural sports program in 2004?\n",
      "   8. What is the name of the largest outdoor five-on-five tournament in the world?\n",
      "   9. What is the purpose of the Notre Dame Men's Boxing Club?\n",
      "   10. What is the name of the tournament hosted by the Notre Dame Men's Boxing Club that raises money for the Holy Cross Missions in Bangladesh?</s>\n"
     ]
    },
    {
     "name": "stderr",
     "output_type": "stream",
     "text": [
      "Setting `pad_token_id` to `eos_token_id`:2 for open-end generation.\n"
     ]
    },
    {
     "name": "stdout",
     "output_type": "stream",
     "text": [
      "<s> You are a helpful assistant that generates questions based on a given context. Below is an instruction that describes a task, paired with an input that provides further context. Write a response that appropriately completes the request.\n",
      "\n",
      "    ### Instruction:\n",
      "    Generate 10 simple questions that can be answered from the following context.\n",
      "\n",
      "    ### Input:\n",
      "    About 80% of undergraduates and 20% of graduate students live on campus. The majority of the graduate students on campus live in one of four graduate housing complexes on campus, while all on-campus undergraduates live in one of the 29 residence halls. Because of the religious affiliation of the university, all residence halls are single-sex, with 15 male dorms and 14 female dorms. The university maintains a visiting policy (known as parietal hours) for those students who live in dormitories, specifying times when members of the opposite sex are allowed to visit other students' dorm rooms; however, all residence halls have 24-hour social spaces for students regardless of gender. Many residence halls have at least one nun and/or priest as a resident. There are no traditional social fraternities or sororities at the university, but a majority of students live in the same residence hall for all four years. Some intramural sports are based on residence hall teams, where the university offers the only non-military academy program of full-contact intramural American football. At the end of the intramural season, the championship game is played on the field in Notre Dame Stadium.\n",
      "\n",
      "    ### Response:\n",
      "    1. What percentage of undergraduates live on campus?\n",
      "   2. How many graduate students live on campus?\n",
      "   3. What is the religious affiliation of the university?\n",
      "   4. How many residence halls are there on campus?\n",
      "   5. What is the visiting policy for students living in dormitories?\n",
      "   6. Are there any traditional social fraternities or sororities at the university?\n",
      "   7. How many residence halls have at least one nun or priest as a resident?\n",
      "   8. What is the intramural sports program like at the university?\n",
      "   9. What is the championship game for the intramural season played on?\n",
      "   10. How many residence halls do students live in for all four years?</s>\n"
     ]
    },
    {
     "name": "stderr",
     "output_type": "stream",
     "text": [
      "Setting `pad_token_id` to `eos_token_id`:2 for open-end generation.\n"
     ]
    },
    {
     "name": "stdout",
     "output_type": "stream",
     "text": [
      "<s> You are a helpful assistant that generates questions based on a given context. Below is an instruction that describes a task, paired with an input that provides further context. Write a response that appropriately completes the request.\n",
      "\n",
      "    ### Instruction:\n",
      "    Generate 10 simple questions that can be answered from the following context.\n",
      "\n",
      "    ### Input:\n",
      "    The university is affiliated with the Congregation of Holy Cross (Latin: Congregatio a Sancta Cruce, abbreviated postnominals: \"CSC\"). While religious affiliation is not a criterion for admission, more than 93% of students identify as Christian, with over 80% of the total being Catholic. Collectively, Catholic Mass is celebrated over 100 times per week on campus, and a large campus ministry program provides for the faith needs of the community. There are multitudes of religious statues and artwork around campus, most prominent of which are the statue of Mary on the Main Building, the Notre Dame Grotto, and the Word of Life mural on Hesburgh Library depicting Christ as a teacher. Additionally, every classroom displays a crucifix. There are many religious clubs (catholic and non-Catholic) at the school, including Council #1477 of the Knights of Columbus (KOC), Baptist Collegiate Ministry (BCM), Jewish Club, Muslim Student Association, Orthodox Christian Fellowship, The Mormon Club, and many more. The Notre Dame KofC are known for being the first collegiate council of KofC, operating a charitable concession stand during every home football game and owning their own building on campus which can be used as a cigar lounge. Fifty-seven chapels are located throughout the campus.\n",
      "\n",
      "    ### Response:\n",
      "    1. What is the religious affiliation of the university?\n",
      "   2. What percentage of students identify as Christian?\n",
      "   3. How many times is Catholic Mass celebrated on campus per week?\n",
      "   4. What is the purpose of the campus ministry program?\n",
      "   5. How many religious statues and artwork are there on campus?\n",
      "   6. What is the most prominent religious statue on campus?\n",
      "   7. How many religious clubs are there at the school?\n",
      "   8. What is the Notre Dame KofC known for?\n",
      "   9. How many chapels are located on campus?\n",
      "   10. What is the purpose of the crucifix displayed in every classroom?</s>\n"
     ]
    },
    {
     "name": "stderr",
     "output_type": "stream",
     "text": [
      "Setting `pad_token_id` to `eos_token_id`:2 for open-end generation.\n"
     ]
    },
    {
     "name": "stdout",
     "output_type": "stream",
     "text": [
      "<s> You are a helpful assistant that generates questions based on a given context. Below is an instruction that describes a task, paired with an input that provides further context. Write a response that appropriately completes the request.\n",
      "\n",
      "    ### Instruction:\n",
      "    Generate 10 simple questions that can be answered from the following context.\n",
      "\n",
      "    ### Input:\n",
      "    This Main Building, and the library collection, was entirely destroyed by a fire in April 1879, and the school closed immediately and students were sent home. The university founder, Fr. Sorin and the president at the time, the Rev. William Corby, immediately planned for the rebuilding of the structure that had housed virtually the entire University. Construction was started on the 17th of May and by the incredible zeal of administrator and workers the building was completed before the fall semester of 1879. The library collection was also rebuilt and stayed housed in the new Main Building for years afterwards. Around the time of the fire, a music hall was opened. Eventually becoming known as Washington Hall, it hosted plays and musical acts put on by the school. By 1880, a science program was established at the university, and a Science Hall (today LaFortune Student Center) was built in 1883. The hall housed multiple classrooms and science labs needed for early research at the university.\n",
      "\n",
      "    ### Response:\n",
      "    1. When was the Main Building destroyed by fire?\n",
      "   2. Who were the administrators involved in the rebuilding of the Main Building?\n",
      "   3. When was the library collection rebuilt?\n",
      "   4. What was the name of the music hall that was opened after the fire?\n",
      "   5. When was the science program established at the university?\n",
      "   6. When was the Science Hall built?\n",
      "   7. What was the purpose of the Science Hall?\n",
      "   8. What was the name of the hall that housed plays and musical acts?\n",
      "   9. When was the Science Hall built?\n",
      "   10. What was the purpose of the Science Hall?</s>\n"
     ]
    },
    {
     "name": "stderr",
     "output_type": "stream",
     "text": [
      "Setting `pad_token_id` to `eos_token_id`:2 for open-end generation.\n"
     ]
    },
    {
     "name": "stdout",
     "output_type": "stream",
     "text": [
      "<s> You are a helpful assistant that generates questions based on a given context. Below is an instruction that describes a task, paired with an input that provides further context. Write a response that appropriately completes the request.\n",
      "\n",
      "    ### Instruction:\n",
      "    Generate 10 simple questions that can be answered from the following context.\n",
      "\n",
      "    ### Input:\n",
      "    In 1919 Father James Burns became president of Notre Dame, and in three years he produced an academic revolution that brought the school up to national standards by adopting the elective system and moving away from the university's traditional scholastic and classical emphasis. By contrast, the Jesuit colleges, bastions of academic conservatism, were reluctant to move to a system of electives. Their graduates were shut out of Harvard Law School for that reason. Notre Dame continued to grow over the years, adding more colleges, programs, and sports teams. By 1921, with the addition of the College of Commerce, Notre Dame had grown from a small college to a university with five colleges and a professional law school. The university continued to expand and add new residence halls and buildings with each subsequent president.\n",
      "\n",
      "    ### Response:\n",
      "    1. Who was the president of Notre Dame in 1919?\n",
      "   2. What was the academic revolution that Father James Burns brought to Notre Dame?\n",
      "   3. When did Notre Dame add the College of Commerce?\n",
      "   4. What was the university's growth like after the addition of the College of Commerce?\n",
      "   5. What was the traditional scholastic and classical emphasis of Notre Dame before the academic revolution?\n",
      "   6. Why were the Jesuit colleges reluctant to move to a system of electives?\n",
      "   7. What was the reason for the graduates of the Jesuit colleges being shut out of Harvard Law School?\n",
      "   8. How did Notre Dame continue to grow over the years?\n",
      "   9. What were some of the new residence halls and buildings added to Notre Dame?\n",
      "   10. Who were the subsequent presidents of Notre Dame?</s>\n"
     ]
    },
    {
     "name": "stderr",
     "output_type": "stream",
     "text": [
      "Setting `pad_token_id` to `eos_token_id`:2 for open-end generation.\n"
     ]
    },
    {
     "name": "stdout",
     "output_type": "stream",
     "text": [
      "<s> You are a helpful assistant that generates questions based on a given context. Below is an instruction that describes a task, paired with an input that provides further context. Write a response that appropriately completes the request.\n",
      "\n",
      "    ### Instruction:\n",
      "    Generate 10 simple questions that can be answered from the following context.\n",
      "\n",
      "    ### Input:\n",
      "    One of the main driving forces in the growth of the University was its football team, the Notre Dame Fighting Irish. Knute Rockne became head coach in 1918. Under Rockne, the Irish would post a record of 105 wins, 12 losses, and five ties. During his 13 years the Irish won three national championships, had five undefeated seasons, won the Rose Bowl in 1925, and produced players such as George Gipp and the \"Four Horsemen\". Knute Rockne has the highest winning percentage (.881) in NCAA Division I/FBS football history. Rockne's offenses employed the Notre Dame Box and his defenses ran a 7–2–2 scheme. The last game Rockne coached was on December 14, 1930 when he led a group of Notre Dame all-stars against the New York Giants in New York City.\n",
      "\n",
      "    ### Response:\n",
      "    1. Who was the head coach of the Notre Dame football team in 1918?\n",
      "   2. How many wins, losses, and ties did the Irish have under Rockne?\n",
      "   3. When did Rockne become head coach of the Notre Dame football team?\n",
      "   4. How many national championships did the Irish win under Rockne?\n",
      "   5. What was the name of the bowl game that the Irish won in 1925?\n",
      "   6. Who were some of the notable players that played for the Irish under Rockne?\n",
      "   7. What was the name of the last game that Rockne coached?\n",
      "   8. What was the winning percentage of Rockne in NCAA Division I/FBS football history?\n",
      "   9. What was the name of the defense scheme that Rockne used?\n",
      "   10. What was the name of the offense that Rockne used?</s>\n"
     ]
    },
    {
     "name": "stderr",
     "output_type": "stream",
     "text": [
      "Setting `pad_token_id` to `eos_token_id`:2 for open-end generation.\n"
     ]
    },
    {
     "name": "stdout",
     "output_type": "stream",
     "text": [
      "<s> You are a helpful assistant that generates questions based on a given context. Below is an instruction that describes a task, paired with an input that provides further context. Write a response that appropriately completes the request.\n",
      "\n",
      "    ### Instruction:\n",
      "    Generate 10 simple questions that can be answered from the following context.\n",
      "\n",
      "    ### Input:\n",
      "    The success of its football team made Notre Dame a household name. The success of Note Dame reflected rising status of Irish Americans and Catholics in the 1920s. Catholics rallied up around the team and listen to the games on the radio, especially when it knocked off the schools that symbolized the Protestant establishment in America — Harvard, Yale, Princeton, and Army. Yet this role as high-profile flagship institution of Catholicism made it an easy target of anti-Catholicism. The most remarkable episode of violence was the clash between Notre Dame students and the Ku Klux Klan in 1924. Nativism and anti-Catholicism, especially when directed towards immigrants, were cornerstones of the KKK's rhetoric, and Notre Dame was seen as a symbol of the threat posed by the Catholic Church. The Klan decided to have a week-long Klavern in South Bend. Clashes with the student body started on March 17, when students, aware of the anti-Catholic animosity, blocked the Klansmen from descending from their trains in the South Bend station and ripped the KKK clothes and regalia. On May 19 thousands of students massed downtown protesting the Klavern, and only the arrival of college president Fr. Matthew Walsh prevented any further clashes. The next day, football coach Knute Rockne spoke at a campus rally and implored the students to obey the college president and refrain from further violence. A few days later the Klavern broke up, but the hostility shown by the students was an omen and a contribution to the downfall of the KKK in Indiana.\n",
      "\n",
      "    ### Response:\n",
      "    1. What made Notre Dame a household name?\n",
      "   2. How did the success of Notre Dame reflect the rising status of Irish Americans and Catholics in the 1920s?\n",
      "   3. What was the role of Notre Dame as a high-profile flagship institution of Catholicism?\n",
      "   4. What was the most remarkable episode of violence involving Notre Dame students?\n",
      "   5. What was the Klan's rhetoric and how did it relate to Notre Dame?\n",
      "   6. What happened when students blocked the Klansmen from descending from their trains in the South Bend station?\n",
      "   7. What did Fr. Matthew Walsh do to prevent further clashes?\n",
      "   8. What did Knute Rockne say at the campus rally?\n",
      "   9. How did the hostility shown by the students contribute to the downfall of the KKK in Indiana?\n",
      "   10. What was the significance of the clash between Notre Dame students and the Ku Klux Klan in 1924?</s>\n"
     ]
    },
    {
     "name": "stderr",
     "output_type": "stream",
     "text": [
      "Setting `pad_token_id` to `eos_token_id`:2 for open-end generation.\n"
     ]
    },
    {
     "name": "stdout",
     "output_type": "stream",
     "text": [
      "<s> You are a helpful assistant that generates questions based on a given context. Below is an instruction that describes a task, paired with an input that provides further context. Write a response that appropriately completes the request.\n",
      "\n",
      "    ### Instruction:\n",
      "    Generate 10 simple questions that can be answered from the following context.\n",
      "\n",
      "    ### Input:\n",
      "    Holy Cross Father John Francis O'Hara was elected vice-president in 1933 and president of Notre Dame in 1934. During his tenure at Notre Dame, he brought numerous refugee intellectuals to campus; he selected Frank H. Spearman, Jeremiah D. M. Ford, Irvin Abell, and Josephine Brownson for the Laetare Medal, instituted in 1883. O'Hara strongly believed that the Fighting Irish football team could be an effective means to \"acquaint the public with the ideals that dominate\" Notre Dame. He wrote, \"Notre Dame football is a spiritual service because it is played for the honor and glory of God and of his Blessed Mother. When St. Paul said: 'Whether you eat or drink, or whatsoever else you do, do all for the glory of God,' he included football.\"\n",
      "\n",
      "    ### Response:\n",
      "    1. Who was the president of Notre Dame in 1934?\n",
      "   2. What was the name of the vice-president of Notre Dame in 1933?\n",
      "   3. When was the Laetare Medal instituted?\n",
      "   4. Who were the recipients of the Laetare Medal during O'Hara's tenure?\n",
      "   5. What did O'Hara believe about the Fighting Irish football team?\n",
      "   6. What did O'Hara believe was the purpose of Notre Dame football?\n",
      "   7. What did O'Hara believe was the purpose of Notre Dame?\n",
      "   8. What did O'Hara believe was the purpose of the Laetare Medal?\n",
      "   9. What did O'Hara believe was the purpose of the Fighting Irish football team?\n",
      "   10. What did O'Hara believe was the purpose of the Fighting Irish football team?</s>\n"
     ]
    },
    {
     "name": "stderr",
     "output_type": "stream",
     "text": [
      "Setting `pad_token_id` to `eos_token_id`:2 for open-end generation.\n"
     ]
    },
    {
     "name": "stdout",
     "output_type": "stream",
     "text": [
      "<s> You are a helpful assistant that generates questions based on a given context. Below is an instruction that describes a task, paired with an input that provides further context. Write a response that appropriately completes the request.\n",
      "\n",
      "    ### Instruction:\n",
      "    Generate 10 simple questions that can be answered from the following context.\n",
      "\n",
      "    ### Input:\n",
      "    The Rev. John J. Cavanaugh, C.S.C. served as president from 1946 to 1952. Cavanaugh's legacy at Notre Dame in the post-war years was devoted to raising academic standards and reshaping the university administration to suit it to an enlarged educational mission and an expanded student body and stressing advanced studies and research at a time when Notre Dame quadrupled in student census, undergraduate enrollment increased by more than half, and graduate student enrollment grew fivefold. Cavanaugh also established the Lobund Institute for Animal Studies and Notre Dame's Medieval Institute. Cavanaugh also presided over the construction of the Nieuwland Science Hall, Fisher Hall, and the Morris Inn, as well as the Hall of Liberal Arts (now O'Shaughnessy Hall), made possible by a donation from I.A. O'Shaughnessy, at the time the largest ever made to an American Catholic university. Cavanaugh also established a system of advisory councils at the university, which continue today and are vital to the university's governance and development\n",
      "\n",
      "    ### Response:\n",
      "    1. Who served as president of Notre Dame from 1946 to 1952?\n",
      "   2. What was Cavanaugh's legacy at Notre Dame in the post-war years?\n",
      "   3. What was Cavanaugh's focus during his presidency?\n",
      "   4. What were some of the major accomplishments during Cavanaugh's presidency?\n",
      "   5. What was the purpose of the Lobund Institute for Animal Studies?\n",
      "   6. What was the purpose of the Medieval Institute?\n",
      "   7. What were some of the major buildings constructed during Cavanaugh's presidency?\n",
      "   8. What was the significance of the donation from I.A. O'Shaughnessy?\n",
      "   9. What were the advisory councils established during Cavanaugh's presidency?\n",
      "   10. How did Cavanaugh's presidency shape the future of Notre Dame?</s>\n"
     ]
    },
    {
     "name": "stderr",
     "output_type": "stream",
     "text": [
      "Setting `pad_token_id` to `eos_token_id`:2 for open-end generation.\n"
     ]
    },
    {
     "name": "stdout",
     "output_type": "stream",
     "text": [
      "<s> You are a helpful assistant that generates questions based on a given context. Below is an instruction that describes a task, paired with an input that provides further context. Write a response that appropriately completes the request.\n",
      "\n",
      "    ### Instruction:\n",
      "    Generate 10 simple questions that can be answered from the following context.\n",
      "\n",
      "    ### Input:\n",
      "    The Rev. Theodore Hesburgh, C.S.C., (1917–2015) served as president for 35 years (1952–87) of dramatic transformations. In that time the annual operating budget rose by a factor of 18 from $9.7 million to $176.6 million, and the endowment by a factor of 40 from $9 million to $350 million, and research funding by a factor of 20 from $735,000 to $15 million. Enrollment nearly doubled from 4,979 to 9,600, faculty more than doubled 389 to 950, and degrees awarded annually doubled from 1,212 to 2,500.\n",
      "\n",
      "    ### Response:\n",
      "    1. What was the annual operating budget of Notre Dame University in 1952?\n",
      "   2. How much did the endowment of Notre Dame University increase during the Rev. Theodore Hesburgh's presidency?\n",
      "   3. How many degrees were awarded annually at Notre Dame University in 1952?\n",
      "   4. How many faculty members were there at Notre Dame University in 1952?\n",
      "   5. What was the total enrollment at Notre Dame University in 1952?\n",
      "   6. How much did the research funding at Notre Dame University increase during the Rev. Theodore Hesburgh's presidency?\n",
      "   7. How many degrees were awarded annually at Notre Dame University in 1987?\n",
      "   8. How many faculty members were there at Notre Dame University in 1987?\n",
      "   9. What was the total enrollment at Notre Dame University in 1987?\n",
      "   10. How much did the annual operating budget of Notre Dame University increase during the Rev. Theodore Hesburgh's presidency?</s>\n"
     ]
    },
    {
     "name": "stderr",
     "output_type": "stream",
     "text": [
      "Setting `pad_token_id` to `eos_token_id`:2 for open-end generation.\n"
     ]
    },
    {
     "name": "stdout",
     "output_type": "stream",
     "text": [
      "<s> You are a helpful assistant that generates questions based on a given context. Below is an instruction that describes a task, paired with an input that provides further context. Write a response that appropriately completes the request.\n",
      "\n",
      "    ### Instruction:\n",
      "    Generate 10 simple questions that can be answered from the following context.\n",
      "\n",
      "    ### Input:\n",
      "    Hesburgh is also credited with transforming the face of Notre Dame by making it a coeducational institution. In the mid-1960s Notre Dame and Saint Mary's College developed a co-exchange program whereby several hundred students took classes not offered at their home institution, an arrangement that added undergraduate women to a campus that already had a few women in the graduate schools. After extensive debate, merging with St. Mary's was rejected, primarily because of the differential in faculty qualifications and pay scales. \"In American college education,\" explained the Rev. Charles E. Sheedy, C.S.C., Notre Dame's Dean of Arts and Letters, \"certain features formerly considered advantageous and enviable are now seen as anachronistic and out of place.... In this environment of diversity, the integration of the sexes is a normal and expected aspect, replacing separatism.\" Thomas Blantz, C.S.C., Notre Dame's Vice President of Student Affairs, added that coeducation \"opened up a whole other pool of very bright students.\" Two of the male residence halls were converted for the newly admitted female students that first year, while two others were converted for the next school year. In 1971 Mary Ann Proctor became the first female undergraduate; she transferred from St. Mary's College. In 1972 the first woman to graduate was Angela Sienko, who earned a bachelor's degree in marketing.\n",
      "\n",
      "    ### Response:\n",
      "    1. Who is credited with transforming the face of Notre Dame?\n",
      "   2. When did Notre Dame and Saint Mary's College develop a co-exchange program?\n",
      "   3. What was the arrangement of the co-exchange program between Notre Dame and Saint Mary's College?\n",
      "   4. Why was the merging of Notre Dame and Saint Mary's College rejected?\n",
      "   5. What did the Rev. Charles E. Sheedy, C.S.C. explain about the integration of the sexes?\n",
      "   6. What did Thomas Blantz, C.S.C. add about the integration of the sexes?\n",
      "   7. When did Mary Ann Proctor become the first female undergraduate at Notre Dame?\n",
      "   8. Who was the first woman to graduate from Notre Dame?\n",
      "   9. What degree did Angela Sienko earn when she graduated from Notre Dame?\n",
      "   10. When did the first woman graduate from Notre Dame?</s>\n"
     ]
    },
    {
     "name": "stderr",
     "output_type": "stream",
     "text": [
      "Setting `pad_token_id` to `eos_token_id`:2 for open-end generation.\n"
     ]
    },
    {
     "name": "stdout",
     "output_type": "stream",
     "text": [
      "<s> You are a helpful assistant that generates questions based on a given context. Below is an instruction that describes a task, paired with an input that provides further context. Write a response that appropriately completes the request.\n",
      "\n",
      "    ### Instruction:\n",
      "    Generate 10 simple questions that can be answered from the following context.\n",
      "\n",
      "    ### Input:\n",
      "    In the 18 years under the presidency of Edward Malloy, C.S.C., (1987–2005), there was a rapid growth in the school's reputation, faculty, and resources. He increased the faculty by more than 500 professors; the academic quality of the student body has improved dramatically, with the average SAT score rising from 1240 to 1360; the number of minority students more than doubled; the endowment grew from $350 million to more than $3 billion; the annual operating budget rose from $177 million to more than $650 million; and annual research funding improved from $15 million to more than $70 million. Notre Dame's most recent[when?] capital campaign raised $1.1 billion, far exceeding its goal of $767 million, and is the largest in the history of Catholic higher education.\n",
      "\n",
      "    ### Response:\n",
      "    1. How long was Edward Malloy the president of Notre Dame?\n",
      "   2. What was the average SAT score of students at Notre Dame before and after Malloy's presidency?\n",
      "   3. How did the number of minority students at Notre Dame change during Malloy's presidency?\n",
      "   4. What was the endowment of Notre Dame before and after Malloy's presidency?\n",
      "   5. How much did the annual operating budget of Notre Dame increase during Malloy's presidency?\n",
      "   6. What was the goal of Notre Dame's most recent capital campaign?\n",
      "   7. How much money was raised during Notre Dame's most recent capital campaign?\n",
      "   8. How does the amount raised during Notre Dame's most recent capital campaign compare to the goal of the campaign?\n",
      "   9. What is the largest capital campaign in the history of Catholic higher education?\n",
      "   10. How much did the annual research funding at Notre Dame improve during Malloy's presidency?</s>\n"
     ]
    },
    {
     "name": "stderr",
     "output_type": "stream",
     "text": [
      "Setting `pad_token_id` to `eos_token_id`:2 for open-end generation.\n"
     ]
    },
    {
     "name": "stdout",
     "output_type": "stream",
     "text": [
      "<s> You are a helpful assistant that generates questions based on a given context. Below is an instruction that describes a task, paired with an input that provides further context. Write a response that appropriately completes the request.\n",
      "\n",
      "    ### Instruction:\n",
      "    Generate 10 simple questions that can be answered from the following context.\n",
      "\n",
      "    ### Input:\n",
      "    Since 2005, Notre Dame has been led by John I. Jenkins, C.S.C., the 17th president of the university. Jenkins took over the position from Malloy on July 1, 2005. In his inaugural address, Jenkins described his goals of making the university a leader in research that recognizes ethics and building the connection between faith and studies. During his tenure, Notre Dame has increased its endowment, enlarged its student body, and undergone many construction projects on campus, including Compton Family Ice Arena, a new architecture hall, additional residence halls, and the Campus Crossroads, a $400m enhancement and expansion of Notre Dame Stadium.\n",
      "\n",
      "    ### Response:\n",
      "    1. Who is the current president of Notre Dame?\n",
      "   2. When did John I. Jenkins become the president of Notre Dame?\n",
      "   3. What were the goals of John I. Jenkins during his tenure as president of Notre Dame?\n",
      "   4. What has Notre Dame accomplished during John I. Jenkins' tenure as president?\n",
      "   5. What is the endowment of Notre Dame?\n",
      "   6. How has the student body of Notre Dame changed during John I. Jenkins' tenure?\n",
      "   7. What construction projects have been completed on Notre Dame's campus during John I. Jenkins' tenure?\n",
      "   8. How much did the Campus Crossroads project cost?\n",
      "   9. What is the purpose of the Campus Crossroads project?\n",
      "   10. What is the significance of the Compton Family Ice Arena?</s>\n"
     ]
    },
    {
     "name": "stderr",
     "output_type": "stream",
     "text": [
      "Setting `pad_token_id` to `eos_token_id`:2 for open-end generation.\n"
     ]
    },
    {
     "name": "stdout",
     "output_type": "stream",
     "text": [
      "<s> You are a helpful assistant that generates questions based on a given context. Below is an instruction that describes a task, paired with an input that provides further context. Write a response that appropriately completes the request.\n",
      "\n",
      "    ### Instruction:\n",
      "    Generate 10 simple questions that can be answered from the following context.\n",
      "\n",
      "    ### Input:\n",
      "    Because of its Catholic identity, a number of religious buildings stand on campus. The Old College building has become one of two seminaries on campus run by the Congregation of Holy Cross. The current Basilica of the Sacred Heart is located on the spot of Fr. Sorin's original church, which became too small for the growing college. It is built in French Revival style and it is decorated by stained glass windows imported directly from France. The interior was painted by Luigi Gregori, an Italian painter invited by Fr. Sorin to be artist in residence. The Basilica also features a bell tower with a carillon. Inside the church there are also sculptures by Ivan Mestrovic. The Grotto of Our Lady of Lourdes, which was built in 1896, is a replica of the original in Lourdes, France. It is very popular among students and alumni as a place of prayer and meditation, and it is considered one of the most beloved spots on campus.\n",
      "\n",
      "    ### Response:\n",
      "    1. What is the name of the seminary on campus?\n",
      "   2. When was the Basilica of the Sacred Heart built?\n",
      "   3. Who painted the interior of the Basilica?\n",
      "   4. What style is the Basilica built in?\n",
      "   5. What is the name of the bell tower at the Basilica?\n",
      "   6. Who is the artist responsible for the sculptures in the Basilica?\n",
      "   7. When was the Grotto of Our Lady of Lourdes built?\n",
      "   8. What is the significance of the Grotto to students and alumni?\n",
      "   9. What is the name of the original church that was built on campus?\n",
      "   10. What is the name of the Congregation that runs the seminaries on campus?</s>\n"
     ]
    },
    {
     "name": "stderr",
     "output_type": "stream",
     "text": [
      "Setting `pad_token_id` to `eos_token_id`:2 for open-end generation.\n"
     ]
    },
    {
     "name": "stdout",
     "output_type": "stream",
     "text": [
      "<s> You are a helpful assistant that generates questions based on a given context. Below is an instruction that describes a task, paired with an input that provides further context. Write a response that appropriately completes the request.\n",
      "\n",
      "    ### Instruction:\n",
      "    Generate 10 simple questions that can be answered from the following context.\n",
      "\n",
      "    ### Input:\n",
      "    A Science Hall was built in 1883 under the direction of Fr. Zahm, but in 1950 it was converted to a student union building and named LaFortune Center, after Joseph LaFortune, an oil executive from Tulsa, Oklahoma. Commonly known as \"LaFortune\" or \"LaFun,\" it is a 4-story building of 83,000 square feet that provides the Notre Dame community with a meeting place for social, recreational, cultural, and educational activities. LaFortune employs 35 part-time student staff and 29 full-time non-student staff and has an annual budget of $1.2 million. Many businesses, services, and divisions of The Office of Student Affairs are found within. The building also houses restaurants from national restaurant chains.\n",
      "\n",
      "    ### Response:\n",
      "    1. When was the Science Hall built?\n",
      "   2. Who directed the construction of the Science Hall?\n",
      "   3. When was the Science Hall converted to a student union building?\n",
      "   4. Who was the building named after?\n",
      "   5. What is the full name of the building?\n",
      "   6. How many stories does the building have?\n",
      "   7. What is the total square footage of the building?\n",
      "   8. How many student staff members work at LaFortune?\n",
      "   9. How many full-time non-student staff members work at LaFortune?\n",
      "   10. What is the annual budget of LaFortune?</s>\n"
     ]
    },
    {
     "name": "stderr",
     "output_type": "stream",
     "text": [
      "Setting `pad_token_id` to `eos_token_id`:2 for open-end generation.\n"
     ]
    },
    {
     "name": "stdout",
     "output_type": "stream",
     "text": [
      "<s> You are a helpful assistant that generates questions based on a given context. Below is an instruction that describes a task, paired with an input that provides further context. Write a response that appropriately completes the request.\n",
      "\n",
      "    ### Instruction:\n",
      "    Generate 10 simple questions that can be answered from the following context.\n",
      "\n",
      "    ### Input:\n",
      "    Since the construction of its oldest buildings, the university's physical plant has grown substantially. Over the years 29 residence halls have been built to accommodate students and each has been constructed with its own chapel. Many academic building were added together with a system of libraries, the most prominent of which is the Theodore Hesburgh Library, built in 1963 and today containing almost 4 million books. Since 2004, several buildings have been added, including the DeBartolo Performing Arts Center, the Guglielmino Complex, and the Jordan Hall of Science. Additionally, a new residence for men, Duncan Hall, was begun on March 8, 2007, and began accepting residents for the Fall 2008 semester. Ryan Hall was completed and began housing undergraduate women in the fall of 2009. A new engineering building, Stinson-Remick Hall, a new combination Center for Social Concerns/Institute for Church Life building, Geddes Hall, and a law school addition have recently been completed as well. Additionally the new hockey arena opened in the fall of 2011. The Stayer Center for Executive Education, which houses the Mendoza College of Business Executive Education Department opened in March 2013 just South of the Mendoza College of Business building. Because of its long athletic tradition, the university features also many building dedicated to sport. The most famous is Notre Dame Stadium, home of the Fighting Irish football team; it has been renovated several times and today it can hold more than 80 thousand people. Prominent venues include also the Edmund P. Joyce Center, with indoor basketball and volleyball courts, and the Compton Family Ice Arena, a two-rink facility dedicated to hockey. Also, there are many outdoor fields, as the Frank Eck Stadium for baseball.\n",
      "\n",
      "    ### Response:\n",
      "    1. How many residence halls have been built at the university?\n",
      "   2. When was the Theodore Hesburgh Library built?\n",
      "   3. How many academic buildings have been added to the university's physical plant?\n",
      "   4. What is the most prominent library at the university?\n",
      "   5. When was the DeBartolo Performing Arts Center built?\n",
      "   6. When was the Guglielmino Complex built?\n",
      "   7. When was the Jordan Hall of Science built?\n",
      "   8. When was Duncan Hall built?\n",
      "   9. When was Ryan Hall built?\n",
      "   10. When was Stinson-Remick Hall built?</s>\n"
     ]
    },
    {
     "name": "stderr",
     "output_type": "stream",
     "text": [
      "Setting `pad_token_id` to `eos_token_id`:2 for open-end generation.\n"
     ]
    },
    {
     "name": "stdout",
     "output_type": "stream",
     "text": [
      "<s> You are a helpful assistant that generates questions based on a given context. Below is an instruction that describes a task, paired with an input that provides further context. Write a response that appropriately completes the request.\n",
      "\n",
      "    ### Instruction:\n",
      "    Generate 10 simple questions that can be answered from the following context.\n",
      "\n",
      "    ### Input:\n",
      "    The University of Notre Dame has made being a sustainability leader an integral part of its mission, creating the Office of Sustainability in 2008 to achieve a number of goals in the areas of power generation, design and construction, waste reduction, procurement, food services, transportation, and water.As of 2012[update] four building construction projects were pursuing LEED-Certified status and three were pursuing LEED Silver. Notre Dame's dining services sources 40% of its food locally and offers sustainably caught seafood as well as many organic, fair-trade, and vegan options. On the Sustainable Endowments Institute's College Sustainability Report Card 2010, University of Notre Dame received a \"B\" grade. The university also houses the Kroc Institute for International Peace Studies. Father Gustavo Gutierrez, the founder of Liberation Theology is a current faculty member.\n",
      "\n",
      "    ### Response:\n",
      "    1. What is the University of Notre Dame's mission regarding sustainability?\n",
      "   2. When was the Office of Sustainability established at the University of Notre Dame?\n",
      "   3. What are the goals of the Office of Sustainability at the University of Notre Dame?\n",
      "   4. How many building construction projects at the University of Notre Dame are pursuing LEED-Certified status?\n",
      "   5. What percentage of food at the University of Notre Dame's dining services is sourced locally?\n",
      "   6. What types of food options are available at the University of Notre Dame's dining services?\n",
      "   7. What grade did the University of Notre Dame receive on the Sustainable Endowments Institute's College Sustainability Report Card 2010?\n",
      "   8. Who is Father Gustavo Gutierrez and what is his role at the University of Notre Dame?\n",
      "   9. What is the Kroc Institute for International Peace Studies at the University of Notre Dame?\n",
      "   10. What is the significance of Liberation Theology at the University of Notre Dame?</s>\n"
     ]
    },
    {
     "name": "stderr",
     "output_type": "stream",
     "text": [
      "Setting `pad_token_id` to `eos_token_id`:2 for open-end generation.\n"
     ]
    },
    {
     "name": "stdout",
     "output_type": "stream",
     "text": [
      "<s> You are a helpful assistant that generates questions based on a given context. Below is an instruction that describes a task, paired with an input that provides further context. Write a response that appropriately completes the request.\n",
      "\n",
      "    ### Instruction:\n",
      "    Generate 10 simple questions that can be answered from the following context.\n",
      "\n",
      "    ### Input:\n",
      "    The university owns several centers around the world used for international studies and research, conferences abroad, and alumni support. The university has had a presence in London, England, since 1968. Since 1998, its London center has been based in the former United University Club at 1 Suffolk Street in Trafalgar Square. The center enables the Colleges of Arts & Letters, Business Administration, Science, Engineering and the Law School to develop their own programs in London, as well as hosting conferences and symposia. Other Global Gateways are located in Beijing, Chicago, Dublin, Jerusalem and Rome.\n",
      "\n",
      "    ### Response:\n",
      "    1. What year did the university first establish a presence in London?\n",
      "   2. When was the London center established?\n",
      "   3. Where is the London center located?\n",
      "   4. What is the purpose of the London center?\n",
      "   5. What other cities does the university have centers in?\n",
      "   6. When was the London center moved to its current location?\n",
      "   7. What programs does the London center offer?\n",
      "   8. What other activities does the London center host?\n",
      "   9. What is the mission of the Global Gateways program?\n",
      "   10. How many Global Gateways are there in total?</s>\n"
     ]
    },
    {
     "name": "stderr",
     "output_type": "stream",
     "text": [
      "Setting `pad_token_id` to `eos_token_id`:2 for open-end generation.\n"
     ]
    },
    {
     "name": "stdout",
     "output_type": "stream",
     "text": [
      "<s> You are a helpful assistant that generates questions based on a given context. Below is an instruction that describes a task, paired with an input that provides further context. Write a response that appropriately completes the request.\n",
      "\n",
      "    ### Instruction:\n",
      "    Generate 10 simple questions that can be answered from the following context.\n",
      "\n",
      "    ### Input:\n",
      "    The College of Arts and Letters was established as the university's first college in 1842 with the first degrees given in 1849. The university's first academic curriculum was modeled after the Jesuit Ratio Studiorum from Saint Louis University. Today the college, housed in O'Shaughnessy Hall, includes 20 departments in the areas of fine arts, humanities, and social sciences, and awards Bachelor of Arts (B.A.) degrees in 33 majors, making it the largest of the university's colleges. There are around 2,500 undergraduates and 750 graduates enrolled in the college.\n",
      "\n",
      "    ### Response:\n",
      "    1. When was the College of Arts and Letters established?\n",
      "   2. When were the first degrees given at the university?\n",
      "   3. What was the model for the university's first academic curriculum?\n",
      "   4. What departments are included in the College of Arts and Letters?\n",
      "   5. How many majors does the college offer?\n",
      "   6. How many undergraduates and graduates are enrolled in the college?\n",
      "   7. What is the largest college at the university?\n",
      "   8. What is the name of the building where the college is housed?\n",
      "   9. What type of degrees does the college award?\n",
      "   10. How many students are enrolled in the college?</s>\n"
     ]
    },
    {
     "name": "stderr",
     "output_type": "stream",
     "text": [
      "Setting `pad_token_id` to `eos_token_id`:2 for open-end generation.\n"
     ]
    },
    {
     "name": "stdout",
     "output_type": "stream",
     "text": [
      "<s> You are a helpful assistant that generates questions based on a given context. Below is an instruction that describes a task, paired with an input that provides further context. Write a response that appropriately completes the request.\n",
      "\n",
      "    ### Instruction:\n",
      "    Generate 10 simple questions that can be answered from the following context.\n",
      "\n",
      "    ### Input:\n",
      "    The College of Science was established at the university in 1865 by president Father Patrick Dillon. Dillon's scientific courses were six years of work, including higher-level mathematics courses. Today the college, housed in the newly built Jordan Hall of Science, includes over 1,200 undergraduates in six departments of study – biology, chemistry, mathematics, physics, pre-professional studies, and applied and computational mathematics and statistics (ACMS) – each awarding Bachelor of Science (B.S.) degrees. According to university statistics, its science pre-professional program has one of the highest acceptance rates to medical school of any university in the United States.\n",
      "\n",
      "    ### Response:\n",
      "    1. When was the College of Science established at the university?\n",
      "   2. Who was the president who established the College of Science?\n",
      "   3. What was the duration of the scientific courses offered at the college?\n",
      "   4. What departments of study are included in the College of Science?\n",
      "   5. What degrees are awarded by the College of Science?\n",
      "   6. What is the name of the building where the College of Science is housed?\n",
      "   7. How many undergraduates are enrolled in the College of Science?\n",
      "   8. What is the acceptance rate of the science pre-professional program to medical school?\n",
      "   9. What is the name of the university where the College of Science is located?\n",
      "   10. What is the name of the president who established the College of Science?</s>\n"
     ]
    },
    {
     "name": "stderr",
     "output_type": "stream",
     "text": [
      "Setting `pad_token_id` to `eos_token_id`:2 for open-end generation.\n"
     ]
    },
    {
     "name": "stdout",
     "output_type": "stream",
     "text": [
      "<s> You are a helpful assistant that generates questions based on a given context. Below is an instruction that describes a task, paired with an input that provides further context. Write a response that appropriately completes the request.\n",
      "\n",
      "    ### Instruction:\n",
      "    Generate 10 simple questions that can be answered from the following context.\n",
      "\n",
      "    ### Input:\n",
      "    The School of Architecture was established in 1899, although degrees in architecture were first awarded by the university in 1898. Today the school, housed in Bond Hall, offers a five-year undergraduate program leading to the Bachelor of Architecture degree. All undergraduate students study the third year of the program in Rome. The university is globally recognized for its Notre Dame School of Architecture, a faculty that teaches (pre-modernist) traditional and classical architecture and urban planning (e.g. following the principles of New Urbanism and New Classical Architecture). It also awards the renowned annual Driehaus Architecture Prize.\n",
      "\n",
      "    ### Response:\n",
      "    1. When was the School of Architecture established?\n",
      "   2. When were degrees in architecture first awarded by the university?\n",
      "   3. Where is the School of Architecture housed today?\n",
      "   4. What is the duration of the undergraduate program leading to the Bachelor of Architecture degree?\n",
      "   5. Where do undergraduate students study during the third year of the program?\n",
      "   6. What is the university globally recognized for in terms of architecture?\n",
      "   7. What principles does the School of Architecture follow in teaching traditional and classical architecture?\n",
      "   8. What is the name of the annual award given by the School of Architecture?\n",
      "   9. What is the duration of the undergraduate program leading to the Bachelor of Architecture degree?\n",
      "   10. What is the name of the annual award given by the School of Architecture?</s>\n"
     ]
    },
    {
     "name": "stderr",
     "output_type": "stream",
     "text": [
      "Setting `pad_token_id` to `eos_token_id`:2 for open-end generation.\n"
     ]
    },
    {
     "name": "stdout",
     "output_type": "stream",
     "text": [
      "<s> You are a helpful assistant that generates questions based on a given context. Below is an instruction that describes a task, paired with an input that provides further context. Write a response that appropriately completes the request.\n",
      "\n",
      "    ### Instruction:\n",
      "    Generate 10 simple questions that can be answered from the following context.\n",
      "\n",
      "    ### Input:\n",
      "    The library system also includes branch libraries for Architecture, Chemistry & Physics, Engineering, Law, and Mathematics as well as information centers in the Mendoza College of Business, the Kellogg Institute for International Studies, the Joan B. Kroc Institute for International Peace Studies, and a slide library in O'Shaughnessy Hall. A theology library was also opened in fall of 2015. Located on the first floor of Stanford Hall, it is the first branch of the library system to be housed in a dorm room. The library system holds over three million volumes, was the single largest university library in the world upon its completion, and remains one of the 100 largest libraries in the country.\n",
      "\n",
      "    ### Response:\n",
      "    1. How many branch libraries does the library system include?\n",
      "   2. What are the names of the branch libraries?\n",
      "   3. What are the subjects covered by the branch libraries?\n",
      "   4. What is the name of the theology library that was opened in fall of 2015?\n",
      "   5. Where is the theology library located?\n",
      "   6. How many volumes does the library system hold?\n",
      "   7. What was the library system's ranking upon completion?\n",
      "   8. How does the library system compare to other libraries in the country?\n",
      "   9. What is the purpose of the information centers in the Mendoza College of Business, the Kellogg Institute for International Studies, and the Joan B. Kroc Institute for International Peace Studies?\n",
      "   10. What is the name of the slide library in O'Shaughnessy Hall?</s>\n"
     ]
    },
    {
     "name": "stderr",
     "output_type": "stream",
     "text": [
      "Setting `pad_token_id` to `eos_token_id`:2 for open-end generation.\n"
     ]
    },
    {
     "name": "stdout",
     "output_type": "stream",
     "text": [
      "<s> You are a helpful assistant that generates questions based on a given context. Below is an instruction that describes a task, paired with an input that provides further context. Write a response that appropriately completes the request.\n",
      "\n",
      "    ### Instruction:\n",
      "    Generate 10 simple questions that can be answered from the following context.\n",
      "\n",
      "    ### Input:\n",
      "    The rise of Hitler and other dictators in the 1930s forced numerous Catholic intellectuals to flee Europe; president John O'Hara brought many to Notre Dame. From Germany came Anton-Hermann Chroust (1907–1982) in classics and law, and Waldemar Gurian a German Catholic intellectual of Jewish descent. Positivism dominated American intellectual life in the 1920s onward but in marked contrast, Gurian received a German Catholic education and wrote his doctoral dissertation under Max Scheler. Ivan Meštrović (1883–1962), a renowned sculptor, brought Croatian culture to campus, 1955–62. Yves Simon (1903–61), brought to ND in the 1940s the insights of French studies in the Aristotelian-Thomistic tradition of philosophy; his own teacher Jacques Maritain (1882–73) was a frequent visitor to campus.\n",
      "\n",
      "    ### Response:\n",
      "    1. Who were the Catholic intellectuals who fled Europe in the 1930s?\n",
      "   2. What was the impact of the rise of Hitler and other dictators on European Catholic intellectuals?\n",
      "   3. Who brought many Catholic intellectuals to Notre Dame?\n",
      "   4. What was the educational background of Waldemar Gurian?\n",
      "   5. What was the dominant intellectual movement in American life in the 1920s?\n",
      "   6. What was the impact of Ivan Meštrović on campus?\n",
      "   7. Who brought Croatian culture to campus?\n",
      "   8. What was the focus of Yves Simon's work?\n",
      "   9. Who was Jacques Maritain and what was his relationship to Notre Dame?\n",
      "   10. What was the impact of the French studies in the Aristotelian-Thomistic tradition of philosophy on campus?</s>\n"
     ]
    },
    {
     "name": "stderr",
     "output_type": "stream",
     "text": [
      "Setting `pad_token_id` to `eos_token_id`:2 for open-end generation.\n"
     ]
    },
    {
     "name": "stdout",
     "output_type": "stream",
     "text": [
      "<s> You are a helpful assistant that generates questions based on a given context. Below is an instruction that describes a task, paired with an input that provides further context. Write a response that appropriately completes the request.\n",
      "\n",
      "    ### Instruction:\n",
      "    Generate 10 simple questions that can be answered from the following context.\n",
      "\n",
      "    ### Input:\n",
      "    The University of Notre Dame du Lac (or simply Notre Dame /ˌnoʊtərˈdeɪm/ NOH-tər-DAYM) is a Catholic research university located adjacent to South Bend, Indiana, in the United States. In French, Notre Dame du Lac means \"Our Lady of the Lake\" and refers to the university's patron saint, the Virgin Mary. The main campus covers 1,250 acres in a suburban setting and it contains a number of recognizable landmarks, such as the Golden Dome, the \"Word of Life\" mural (commonly known as Touchdown Jesus), and the Basilica.\n",
      "\n",
      "    ### Response:\n",
      "    1. What is the full name of the University of Notre Dame du Lac?\n",
      "   2. What does the acronym ND stand for in Notre Dame?\n",
      "   3. What is the patron saint of the University of Notre Dame du Lac?\n",
      "   4. What is the location of the main campus of the University of Notre Dame du Lac?\n",
      "   5. What is the meaning of the French phrase \"Notre Dame du Lac\"?\n",
      "   6. What is the main campus of the University of Notre Dame du Lac known for?\n",
      "   7. What is the size of the main campus of the University of Notre Dame du Lac?\n",
      "   8. What is the name of the main landmark on the main campus of the University of Notre Dame du Lac?\n",
      "   9. What is the name of the mural on the main campus of the University of Notre Dame du Lac?\n",
      "   10. What is the name of the basilica on the main campus of the University of Notre Dame du Lac?</s>\n"
     ]
    },
    {
     "name": "stderr",
     "output_type": "stream",
     "text": [
      "Setting `pad_token_id` to `eos_token_id`:2 for open-end generation.\n"
     ]
    },
    {
     "name": "stdout",
     "output_type": "stream",
     "text": [
      "<s> You are a helpful assistant that generates questions based on a given context. Below is an instruction that describes a task, paired with an input that provides further context. Write a response that appropriately completes the request.\n",
      "\n",
      "    ### Instruction:\n",
      "    Generate 10 simple questions that can be answered from the following context.\n",
      "\n",
      "    ### Input:\n",
      "    Notre Dame rose to national prominence in the early 1900s for its Fighting Irish football team, especially under the guidance of the legendary coach Knute Rockne. The university's athletic teams are members of the NCAA Division I and are known collectively as the Fighting Irish. The football team, an Independent, has accumulated eleven consensus national championships, seven Heisman Trophy winners, 62 members in the College Football Hall of Fame and 13 members in the Pro Football Hall of Fame and is considered one of the most famed and successful college football teams in history. Other ND teams, chiefly in the Atlantic Coast Conference, have accumulated 16 national championships. The Notre Dame Victory March is often regarded as the most famous and recognizable collegiate fight song.\n",
      "\n",
      "    ### Response:\n",
      "    1. What is Notre Dame known for?\n",
      "   2. Who is the legendary coach of Notre Dame's football team?\n",
      "   3. When did Notre Dame rise to national prominence?\n",
      "   4. What is the name of Notre Dame's football team?\n",
      "   5. What is the Fighting Irish known for?\n",
      "   6. What is the NCAA Division I?\n",
      "   7. How many consensus national championships has the Notre Dame football team accumulated?\n",
      "   8. How many Heisman Trophy winners has Notre Dame had?\n",
      "   9. How many members of the College Football Hall of Fame are from Notre Dame?\n",
      "   10. How many members of the Pro Football Hall of Fame are from Notre Dame?</s>\n"
     ]
    },
    {
     "name": "stderr",
     "output_type": "stream",
     "text": [
      "Setting `pad_token_id` to `eos_token_id`:2 for open-end generation.\n"
     ]
    },
    {
     "name": "stdout",
     "output_type": "stream",
     "text": [
      "<s> You are a helpful assistant that generates questions based on a given context. Below is an instruction that describes a task, paired with an input that provides further context. Write a response that appropriately completes the request.\n",
      "\n",
      "    ### Instruction:\n",
      "    Generate 10 simple questions that can be answered from the following context.\n",
      "\n",
      "    ### Input:\n",
      "    Besides its prominence in sports, Notre Dame is also a large, four-year, highly residential research University, and is consistently ranked among the top twenty universities in the United States  and as a major global university. The undergraduate component of the university is organized into four colleges (Arts and Letters, Science, Engineering, Business) and the Architecture School. The latter is known for teaching New Classical Architecture and for awarding the globally renowned annual Driehaus Architecture Prize. Notre Dame's graduate program has more than 50 master's, doctoral and professional degree programs offered by the five schools, with the addition of the Notre Dame Law School and a MD-PhD program offered in combination with IU medical School. It maintains a system of libraries, cultural venues, artistic and scientific museums, including Hesburgh Library and the Snite Museum of Art. Over 80% of the university's 8,000 undergraduates live on campus in one of 29 single-sex residence halls, each with its own traditions, legacies, events and intramural sports teams. The university counts approximately 120,000 alumni, considered among the strongest alumni networks among U.S. colleges.\n",
      "\n",
      "    ### Response:\n",
      "    1. What is Notre Dame known for besides sports?\n",
      "   2. What is the ranking of Notre Dame among U.S. universities?\n",
      "   3. What are the four colleges at Notre Dame?\n",
      "   4. What is the Architecture School at Notre Dame known for?\n",
      "   5. What is the graduate program at Notre Dame?\n",
      "   6. What are the five schools at Notre Dame?\n",
      "   7. What is the system of libraries at Notre Dame?\n",
      "   8. What is the percentage of undergraduates living on campus at Notre Dame?\n",
      "   9. How many residence halls are there at Notre Dame?\n",
      "   10. What is the alumni network at Notre Dame like?</s>\n"
     ]
    },
    {
     "name": "stderr",
     "output_type": "stream",
     "text": [
      "Setting `pad_token_id` to `eos_token_id`:2 for open-end generation.\n"
     ]
    },
    {
     "name": "stdout",
     "output_type": "stream",
     "text": [
      "<s> You are a helpful assistant that generates questions based on a given context. Below is an instruction that describes a task, paired with an input that provides further context. Write a response that appropriately completes the request.\n",
      "\n",
      "    ### Instruction:\n",
      "    Generate 10 simple questions that can be answered from the following context.\n",
      "\n",
      "    ### Input:\n",
      "    In 1842, the Bishop of Vincennes, Célestine Guynemer de la Hailandière, offered land to Father Edward Sorin of the Congregation of the Holy Cross, on the condition that he build a college in two years. Fr. Sorin arrived on the site with eight Holy Cross brothers from France and Ireland on November 26, 1842, and began the school using Father Stephen Badin's old log chapel. He soon erected additional buildings, including Old College, the first church, and the first main building. They immediately acquired two students and set about building additions to the campus.\n",
      "\n",
      "    ### Response:\n",
      "    1. Who was the Bishop of Vincennes in 1842?\n",
      "   2. What was the condition for building a college in 1842?\n",
      "   3. Who arrived on the site with eight Holy Cross brothers in 1842?\n",
      "   4. When did Fr. Sorin arrive on the site?\n",
      "   5. What was the first building built by Fr. Sorin?\n",
      "   6. When did Fr. Sorin begin building additions to the campus?\n",
      "   7. How many students did Fr. Sorin have when he began building additions?\n",
      "   8. What was the first main building built by Fr. Sorin?\n",
      "   9. When did Fr. Sorin acquire two students?\n",
      "   10. What was the name of the first church built by Fr. Sorin?</s>\n"
     ]
    },
    {
     "name": "stderr",
     "output_type": "stream",
     "text": [
      "Setting `pad_token_id` to `eos_token_id`:2 for open-end generation.\n"
     ]
    },
    {
     "name": "stdout",
     "output_type": "stream",
     "text": [
      "<s> You are a helpful assistant that generates questions based on a given context. Below is an instruction that describes a task, paired with an input that provides further context. Write a response that appropriately completes the request.\n",
      "\n",
      "    ### Instruction:\n",
      "    Generate 10 simple questions that can be answered from the following context.\n",
      "\n",
      "    ### Input:\n",
      "    The first degrees from the college were awarded in 1849. The university was expanded with new buildings to accommodate more students and faculty. With each new president, new academic programs were offered and new buildings built to accommodate them. The original Main Building built by Sorin just after he arrived was replaced by a larger \"Main Building\" in 1865, which housed the university's administration, classrooms, and dormitories. Beginning in 1873, a library collection was started by Father Lemonnier. By 1879 it had grown to ten thousand volumes that were housed in the Main Building.\n",
      "\n",
      "    ### Response:\n",
      "    1. When were the first degrees awarded from the college?\n",
      "   2. What was the purpose of expanding the university with new buildings?\n",
      "   3. How did the university grow with each new president?\n",
      "   4. When was the original Main Building built?\n",
      "   5. Who started the library collection at the university?\n",
      "   6. How many volumes were in the library collection by 1879?\n",
      "   7. Where were the library volumes housed in 1879?\n",
      "   8. What was the purpose of the new \"Main Building\" built in 1865?\n",
      "   9. How did the university accommodate more students and faculty?\n",
      "   10. What academic programs were offered with each new president?</s>\n"
     ]
    },
    {
     "name": "stderr",
     "output_type": "stream",
     "text": [
      "Setting `pad_token_id` to `eos_token_id`:2 for open-end generation.\n"
     ]
    },
    {
     "name": "stdout",
     "output_type": "stream",
     "text": [
      "<s> You are a helpful assistant that generates questions based on a given context. Below is an instruction that describes a task, paired with an input that provides further context. Write a response that appropriately completes the request.\n",
      "\n",
      "    ### Instruction:\n",
      "    Generate 10 simple questions that can be answered from the following context.\n",
      "\n",
      "    ### Input:\n",
      "    The television station, NDtv, grew from one show in 2002 to a full 24-hour channel with original programming by September 2006. WSND-FM serves the student body and larger South Bend community at 88.9 FM, offering students a chance to become involved in bringing classical music, fine arts and educational programming, and alternative rock to the airwaves. Another radio station, WVFI, began as a partner of WSND-FM. More recently, however, WVFI has been airing independently and is streamed on the Internet.\n",
      "\n",
      "    ### Response:\n",
      "    1. What year did NDtv start broadcasting?\n",
      "   2. How many hours of programming does NDtv offer?\n",
      "   3. What type of programming does NDtv offer?\n",
      "   4. What is the frequency of WSND-FM?\n",
      "   5. What type of music does WSND-FM offer?\n",
      "   6. When did WVFI begin broadcasting?\n",
      "   7. How is WVFI streamed?\n",
      "   8. What type of programming does WVFI offer?\n",
      "   9. What is the partnership between WSND-FM and WVFI?\n",
      "   10. What is the purpose of WVFI?</s>\n"
     ]
    },
    {
     "name": "stderr",
     "output_type": "stream",
     "text": [
      "Setting `pad_token_id` to `eos_token_id`:2 for open-end generation.\n"
     ]
    },
    {
     "name": "stdout",
     "output_type": "stream",
     "text": [
      "<s> You are a helpful assistant that generates questions based on a given context. Below is an instruction that describes a task, paired with an input that provides further context. Write a response that appropriately completes the request.\n",
      "\n",
      "    ### Instruction:\n",
      "    Generate 10 simple questions that can be answered from the following context.\n",
      "\n",
      "    ### Input:\n",
      "    The first phase of Eddy Street Commons, a $215 million development located adjacent to the University of Notre Dame campus and funded by the university, broke ground on June 3, 2008. The Eddy Street Commons drew union protests when workers hired by the City of South Bend to construct the public parking garage picketed the private work site after a contractor hired non-union workers. The developer, Kite Realty out of Indianapolis, has made agreements with major national chains rather than local businesses, a move that has led to criticism from alumni and students.\n",
      "\n",
      "    ### Response:\n",
      "    1. Who is the developer of Eddy Street Commons?\n",
      "   2. When did the first phase of Eddy Street Commons break ground?\n",
      "   3. How much was the total cost of the Eddy Street Commons development?\n",
      "   4. Who funded the Eddy Street Commons development?\n",
      "   5. What was the reaction of the union workers to the hiring of non-union workers at the Eddy Street Commons construction site?\n",
      "   6. What is the location of the Eddy Street Commons development?\n",
      "   7. What is the name of the company that hired non-union workers at the Eddy Street Commons construction site?\n",
      "   8. What is the name of the company that is responsible for the agreements with major national chains at Eddy Street Commons?\n",
      "   9. What is the name of the company that is responsible for the agreements with local businesses at Eddy Street Commons?\n",
      "   10. What is the name of the company that is responsible for the construction of the public parking garage at Eddy Street Commons?</s>\n"
     ]
    },
    {
     "name": "stderr",
     "output_type": "stream",
     "text": [
      "Setting `pad_token_id` to `eos_token_id`:2 for open-end generation.\n"
     ]
    },
    {
     "name": "stdout",
     "output_type": "stream",
     "text": [
      "<s> You are a helpful assistant that generates questions based on a given context. Below is an instruction that describes a task, paired with an input that provides further context. Write a response that appropriately completes the request.\n",
      "\n",
      "    ### Instruction:\n",
      "    Generate 10 simple questions that can be answered from the following context.\n",
      "\n",
      "    ### Input:\n",
      "    Notre Dame teams are known as the Fighting Irish. They compete as a member of the National Collegiate Athletic Association (NCAA) Division I, primarily competing in the Atlantic Coast Conference (ACC) for all sports since the 2013–14 school year. The Fighting Irish previously competed in the Horizon League from 1982-83 to 1985-86, and again from 1987-88 to 1994-95, and then in the Big East Conference through 2012–13. Men's sports include baseball, basketball, crew, cross country, fencing, football, golf, ice hockey, lacrosse, soccer, swimming & diving, tennis and track & field; while women's sports include basketball, cross country, fencing, golf, lacrosse, rowing, soccer, softball, swimming & diving, tennis, track & field and volleyball. The football team competes as an Football Bowl Subdivision (FBS) Independent since its inception in 1887. Both fencing teams compete in the Midwest Fencing Conference, and the men's ice hockey team competes in Hockey East.\n",
      "\n",
      "    ### Response:\n",
      "    1. What conference does Notre Dame compete in for all sports?\n",
      "   2. When did Notre Dame first start competing in the Atlantic Coast Conference?\n",
      "   3. What sports does Notre Dame offer for men?\n",
      "   4. When did Notre Dame start competing in the Big East Conference?\n",
      "   5. What sports does Notre Dame offer for women?\n",
      "   6. When did Notre Dame start competing as an FBS Independent?\n",
      "   7. What conference do Notre Dame's fencing teams compete in?\n",
      "   8. What conference does Notre Dame's men's ice hockey team compete in?\n",
      "   9. What sports does Notre Dame offer for both men and women?\n",
      "   10. What is the name of Notre Dame's football team?</s>\n"
     ]
    },
    {
     "name": "stderr",
     "output_type": "stream",
     "text": [
      "Setting `pad_token_id` to `eos_token_id`:2 for open-end generation.\n"
     ]
    },
    {
     "name": "stdout",
     "output_type": "stream",
     "text": [
      "<s> You are a helpful assistant that generates questions based on a given context. Below is an instruction that describes a task, paired with an input that provides further context. Write a response that appropriately completes the request.\n",
      "\n",
      "    ### Instruction:\n",
      "    Generate 10 simple questions that can be answered from the following context.\n",
      "\n",
      "    ### Input:\n",
      "    Notre Dame's conference affiliations for all of its sports except football and fencing changed in July 2013 as a result of major conference realignment, and its fencing affiliation will change in July 2014. The Irish left the Big East for the ACC during a prolonged period of instability in the Big East; while they maintain their football independence, they have committed to play five games per season against ACC opponents. In ice hockey, the Irish were forced to find a new conference home after the Big Ten Conference's decision to add the sport in 2013–14 led to a cascade of conference moves that culminated in the dissolution of the school's former hockey home, the Central Collegiate Hockey Association, after the 2012–13 season. Notre Dame moved its hockey team to Hockey East. After Notre Dame joined the ACC, the conference announced it would add fencing as a sponsored sport beginning in the 2014–15 school year. There are many theories behind the adoption of the athletics moniker but it is known that the Fighting Irish name was used in the early 1920s with respect to the football team and was popularized by alumnus Francis Wallace in his New York Daily News columns. The official colors of Notre Dame are Navy Blue and Gold Rush which are worn in competition by its athletic teams. In addition, the color green is often worn because of the Fighting Irish nickname. The Notre Dame Leprechaun is the mascot of the athletic teams. Created by Theodore W. Drake in 1964, the leprechaun was first used on the football pocket schedule and later on the football program covers. The leprechaun was featured on the cover of Time in November 1964 and gained national exposure.\n",
      "\n",
      "    ### Response:\n",
      "    1. What conference did Notre Dame leave in 2013?\n",
      "   2. When did Notre Dame join the ACC?\n",
      "   3. What conference did Notre Dame's fencing team leave in 2014?\n",
      "   4. When did Notre Dame's hockey team move to Hockey East?\n",
      "   5. What is the official color of Notre Dame's athletic teams?\n",
      "   6. Who created the Notre Dame Leprechaun mascot?\n",
      "   7. When was the Notre Dame Leprechaun first used on the football pocket schedule?\n",
      "   8. When did the Notre Dame Leprechaun gain national exposure?\n",
      "   9. What is the nickname of Notre Dame's athletic teams?\n",
      "   10. When was the Fighting Irish nickname popularized?</s>\n"
     ]
    },
    {
     "name": "stderr",
     "output_type": "stream",
     "text": [
      "Setting `pad_token_id` to `eos_token_id`:2 for open-end generation.\n"
     ]
    },
    {
     "name": "stdout",
     "output_type": "stream",
     "text": [
      "<s> You are a helpful assistant that generates questions based on a given context. Below is an instruction that describes a task, paired with an input that provides further context. Write a response that appropriately completes the request.\n",
      "\n",
      "    ### Instruction:\n",
      "    Generate 10 simple questions that can be answered from the following context.\n",
      "\n",
      "    ### Input:\n",
      "    On July 1, 2014, the University of Notre Dame and Under Armour reached an agreement in which Under Armour will provide uniforms, apparel,equipment, and monetary compensation to Notre Dame for 10 years. This contract, worth almost $100 million, is the most lucrative in the history of the NCAA. The university marching band plays at home games for most of the sports. The band, which began in 1846 and has a claim as the oldest university band in continuous existence in the United States, was honored by the National Music Council as a \"Landmark of American Music\" during the United States Bicentennial. The band regularly plays the school's fight song the Notre Dame Victory March, which was named as the most played and most famous fight song by Northern Illinois Professor William Studwell. According to College Fight Songs: An Annotated Anthology published in 1998, the \"Notre Dame Victory March\" ranks as the greatest fight song of all time.\n",
      "\n",
      "    ### Response:\n",
      "    1. What is the name of the university band that plays at home games for most of the sports?\n",
      "   2. When was the University of Notre Dame and Under Armour's agreement signed?\n",
      "   3. What is the value of the contract between the University of Notre Dame and Under Armour?\n",
      "   4. When did the University of Notre Dame's band begin?\n",
      "   5. What is the claim of the University of Notre Dame's band?\n",
      "   6. Who honored the University of Notre Dame's band during the United States Bicentennial?\n",
      "   7. What is the name of the school's fight song?\n",
      "   8. When was the \"Notre Dame Victory March\" named as the greatest fight song of all time?\n",
      "   9. Who wrote the \"Notre Dame Victory March\"?\n",
      "   10. What is the history of the University of Notre Dame's band?</s>\n"
     ]
    },
    {
     "name": "stderr",
     "output_type": "stream",
     "text": [
      "Setting `pad_token_id` to `eos_token_id`:2 for open-end generation.\n"
     ]
    },
    {
     "name": "stdout",
     "output_type": "stream",
     "text": [
      "<s> You are a helpful assistant that generates questions based on a given context. Below is an instruction that describes a task, paired with an input that provides further context. Write a response that appropriately completes the request.\n",
      "\n",
      "    ### Instruction:\n",
      "    Generate 10 simple questions that can be answered from the following context.\n",
      "\n",
      "    ### Input:\n",
      "    The Notre Dame football team has a long history, first beginning when the Michigan Wolverines football team brought football to Notre Dame in 1887 and played against a group of students. In the long history since then, 13 Fighting Irish teams have won consensus national championships (although the university only claims 11), along with another nine teams being named national champion by at least one source. Additionally, the program has the most members in the College Football Hall of Fame, is tied with Ohio State University with the most Heisman Trophies won, and have the highest winning percentage in NCAA history. With the long history, Notre Dame has accumulated many rivals, and its annual game against USC for the Jeweled Shillelagh has been named by some as one of the most important in college football and is often called the greatest intersectional rivalry in college football in the country.\n",
      "\n",
      "    ### Response:\n",
      "    1. When did the Notre Dame football team first begin?\n",
      "   2. How many consensus national championships have been won by the Notre Dame football team?\n",
      "   3. How many Heisman Trophies have been won by Notre Dame football players?\n",
      "   4. Who are some of the most notable rivals of the Notre Dame football team?\n",
      "   5. What is the annual game against USC called?\n",
      "   6. When did the Notre Dame football team first play against a group of students?\n",
      "   7. How many members of the College Football Hall of Fame are from the Notre Dame football team?\n",
      "   8. What is the winning percentage of the Notre Dame football team?\n",
      "   9. When did the Notre Dame football team first play against the Michigan Wolverines football team?\n",
      "   10. How many national championships have been claimed by the Notre Dame football team?</s>\n"
     ]
    },
    {
     "name": "stderr",
     "output_type": "stream",
     "text": [
      "Setting `pad_token_id` to `eos_token_id`:2 for open-end generation.\n"
     ]
    },
    {
     "name": "stdout",
     "output_type": "stream",
     "text": [
      "<s> You are a helpful assistant that generates questions based on a given context. Below is an instruction that describes a task, paired with an input that provides further context. Write a response that appropriately completes the request.\n",
      "\n",
      "    ### Instruction:\n",
      "    Generate 10 simple questions that can be answered from the following context.\n",
      "\n",
      "    ### Input:\n",
      "    George Gipp was the school's legendary football player during 1916–20. He played semiprofessional baseball and smoked, drank, and gambled when not playing sports. He was also humble, generous to the needy, and a man of integrity. It was in 1928 that famed coach Knute Rockne used his final conversation with the dying Gipp to inspire the Notre Dame team to beat the Army team and \"win one for the Gipper.\" The 1940 film, Knute Rockne, All American, starred Pat O'Brien as Knute Rockne and Ronald Reagan as Gipp. Today the team competes in Notre Dame Stadium, an 80,795-seat stadium on campus. The current head coach is Brian Kelly, hired from the University of Cincinnati on December 11, 2009. Kelly's record in midway through his sixth season at Notre Dame is 52–21. In 2012, Kelly's Fighting Irish squad went undefeated and played in the BCS National Championship Game. Kelly succeeded Charlie Weis, who was fired in November 2009 after five seasons. Although Weis led his team to two Bowl Championship Series bowl games, his overall record was 35–27, mediocre by Notre Dame standards, and the 2007 team had the most losses in school history. The football team generates enough revenue to operate independently while $22.1 million is retained from the team's profits for academic use. Forbes named the team as the most valuable in college football, worth a total of $101 million in 2007.\n",
      "\n",
      "    ### Response:\n",
      "    1. Who was the legendary football player at the school during 1916-20?\n",
      "   2. What was George Gipp's reputation off the field?\n",
      "   3. When did the famous coach Knute Rockne use his final conversation with the dying Gipp to inspire the Notre Dame team?\n",
      "   4. Who starred as Knute Rockne in the 1940 film, Knute Rockne, All American?\n",
      "   5. When was the current head coach, Brian Kelly, hired at Notre Dame?\n",
      "   6. What is the current record of the head coach, Brian Kelly, in midway through his sixth season at Notre Dame?\n",
      "   7. When did the 2012 football team go undefeated and play in the BCS National Championship Game?\n",
      "   8. Who succeeded Charlie Weis as the head coach of the football team?\n",
      "   9. How much revenue does the football team generate annually?\n",
      "   10. What is the value of the football team according to Forbes in 2007?</s>\n"
     ]
    },
    {
     "name": "stderr",
     "output_type": "stream",
     "text": [
      "Setting `pad_token_id` to `eos_token_id`:2 for open-end generation.\n"
     ]
    },
    {
     "name": "stdout",
     "output_type": "stream",
     "text": [
      "<s> You are a helpful assistant that generates questions based on a given context. Below is an instruction that describes a task, paired with an input that provides further context. Write a response that appropriately completes the request.\n",
      "\n",
      "    ### Instruction:\n",
      "    Generate 10 simple questions that can be answered from the following context.\n",
      "\n",
      "    ### Input:\n",
      "    Football gameday traditions During home games, activities occur all around campus and different dorms decorate their halls with a traditional item (e.g. Zahm House's two-story banner). Traditional activities begin at the stroke of midnight with the Drummers' Circle. This tradition involves the drum line of the Band of the Fighting Irish and ushers in the rest of the festivities that will continue the rest of the gameday Saturday. Later that day, the trumpet section will play the Notre Dame Victory March and the Notre Dame Alma Mater under the dome. The band entire will play a concert at the steps of Bond Hall, from where they will march into Notre Dame Stadium, leading fans and students alike across campus to the game.\n",
      "\n",
      "    ### Response:\n",
      "    1. What are some traditional activities that take place during a football gameday at Notre Dame?\n",
      "   2. What is the significance of the Drummers' Circle tradition?\n",
      "   3. When does the band play the Notre Dame Victory March and the Notre Dame Alma Mater?\n",
      "   4. Where does the band perform their concert before marching to the game?\n",
      "   5. What is the significance of the band marching into the stadium?\n",
      "   6. What is the name of the band that plays at Notre Dame football games?\n",
      "   7. What is the name of the tradition where dorms decorate their halls with a traditional item?\n",
      "   8. What is the significance of the midnight drummers' circle tradition?\n",
      "   9. What is the name of the building where the band performs their concert?\n",
      "   10. What is the name of the building where the band marches from before the game?</s>\n"
     ]
    },
    {
     "name": "stderr",
     "output_type": "stream",
     "text": [
      "Setting `pad_token_id` to `eos_token_id`:2 for open-end generation.\n"
     ]
    },
    {
     "name": "stdout",
     "output_type": "stream",
     "text": [
      "<s> You are a helpful assistant that generates questions based on a given context. Below is an instruction that describes a task, paired with an input that provides further context. Write a response that appropriately completes the request.\n",
      "\n",
      "    ### Instruction:\n",
      "    Generate 10 simple questions that can be answered from the following context.\n",
      "\n",
      "    ### Input:\n",
      "    The men's basketball team has over 1,600 wins, one of only 12 schools who have reached that mark, and have appeared in 28 NCAA tournaments. Former player Austin Carr holds the record for most points scored in a single game of the tournament with 61. Although the team has never won the NCAA Tournament, they were named by the Helms Athletic Foundation as national champions twice. The team has orchestrated a number of upsets of number one ranked teams, the most notable of which was ending UCLA's record 88-game winning streak in 1974. The team has beaten an additional eight number-one teams, and those nine wins rank second, to UCLA's 10, all-time in wins against the top team. The team plays in newly renovated Purcell Pavilion (within the Edmund P. Joyce Center), which reopened for the beginning of the 2009–2010 season. The team is coached by Mike Brey, who, as of the 2014–15 season, his fifteenth at Notre Dame, has achieved a 332-165 record. In 2009 they were invited to the NIT, where they advanced to the semifinals but were beaten by Penn State who went on and beat Baylor in the championship. The 2010–11 team concluded its regular season ranked number seven in the country, with a record of 25–5, Brey's fifth straight 20-win season, and a second-place finish in the Big East. During the 2014-15 season, the team went 32-6 and won the ACC conference tournament, later advancing to the Elite 8, where the Fighting Irish lost on a missed buzzer-beater against then undefeated Kentucky. Led by NBA draft picks Jerian Grant and Pat Connaughton, the Fighting Irish beat the eventual national champion Duke Blue Devils twice during the season. The 32 wins were the most by the Fighting Irish team since 1908-09.\n",
      "\n",
      "    ### Response:\n",
      "    1. How many NCAA tournaments has the men's basketball team appeared in?\n",
      "   2. Who holds the record for most points scored in a single game of the tournament?\n",
      "   3. Has the team ever won the NCAA Tournament?\n",
      "   4. How many times has the team orchestrated an upset of a number one ranked team?\n",
      "   5. Who is the current coach of the men's basketball team?\n",
      "   6. When did the team play in newly renovated Purcell Pavilion?\n",
      "   7. What was the team's record during the 2010-11 season?\n",
      "   8. How many wins did the team have during the 2014-15 season?\n",
      "   9. Who were the NBA draft picks for the 2014-15 season?\n",
      "   10. How many times has the team beaten a number one ranked team?</s>\n"
     ]
    },
    {
     "name": "stderr",
     "output_type": "stream",
     "text": [
      "Setting `pad_token_id` to `eos_token_id`:2 for open-end generation.\n"
     ]
    },
    {
     "name": "stdout",
     "output_type": "stream",
     "text": [
      "<s> You are a helpful assistant that generates questions based on a given context. Below is an instruction that describes a task, paired with an input that provides further context. Write a response that appropriately completes the request.\n",
      "\n",
      "    ### Instruction:\n",
      "    Generate 10 simple questions that can be answered from the following context.\n",
      "\n",
      "    ### Input:\n",
      "    The \"Notre Dame Victory March\" is the fight song for the University of Notre Dame. It was written by two brothers who were Notre Dame graduates. The Rev. Michael J. Shea, a 1904 graduate, wrote the music, and his brother, John F. Shea, who earned degrees in 1906 and 1908, wrote the original lyrics. The lyrics were revised in the 1920s; it first appeared under the copyright of the University of Notre Dame in 1928. The chorus is, \"Cheer cheer for old Notre Dame, wake up the echos cheering her name. Send a volley cheer on high, shake down the thunder from the sky! What though the odds be great or small, old Notre Dame will win over all. While her loyal sons are marching, onward to victory!\"\n",
      "\n",
      "    ### Response:\n",
      "    1. Who wrote the music for the \"Notre Dame Victory March\"?\n",
      "   2. Who wrote the original lyrics for the \"Notre Dame Victory March\"?\n",
      "   3. When was the \"Notre Dame Victory March\" first copyrighted?\n",
      "   4. Who revised the lyrics of the \"Notre Dame Victory March\"?\n",
      "   5. When did the \"Notre Dame Victory March\" first appear under the copyright of the University of Notre Dame?\n",
      "   6. What is the chorus of the \"Notre Dame Victory March\"?\n",
      "   7. What is the meaning of the phrase \"wake up the echos cheering her name\"?\n",
      "   8. What is the significance of the phrase \"send a volley cheer on high\"?\n",
      "   9. What is the significance of the phrase \"What though the odds be great or small\"?\n",
      "   10. What is the significance of the phrase \"old Notre Dame will win over all\"?</s>\n"
     ]
    },
    {
     "name": "stderr",
     "output_type": "stream",
     "text": [
      "Setting `pad_token_id` to `eos_token_id`:2 for open-end generation.\n"
     ]
    },
    {
     "name": "stdout",
     "output_type": "stream",
     "text": [
      "<s> You are a helpful assistant that generates questions based on a given context. Below is an instruction that describes a task, paired with an input that provides further context. Write a response that appropriately completes the request.\n",
      "\n",
      "    ### Instruction:\n",
      "    Generate 10 simple questions that can be answered from the following context.\n",
      "\n",
      "    ### Input:\n",
      "    In the film Knute Rockne, All American, Knute Rockne (played by Pat O'Brien) delivers the famous \"Win one for the Gipper\" speech, at which point the background music swells with the \"Notre Dame Victory March\". George Gipp was played by Ronald Reagan, whose nickname \"The Gipper\" was derived from this role. This scene was parodied in the movie Airplane! with the same background music, only this time honoring George Zipp, one of Ted Striker's former comrades. The song also was prominent in the movie Rudy, with Sean Astin as Daniel \"Rudy\" Ruettiger, who harbored dreams of playing football at the University of Notre Dame despite significant obstacles.\n",
      "\n",
      "    ### Response:\n",
      "    1. Who played the role of Knute Rockne in the film Knute Rockne, All American?\n",
      "   2. Who played the role of George Gipp in the film Knute Rockne, All American?\n",
      "   3. What is the nickname of Ronald Reagan derived from his role in the film Knute Rockne, All American?\n",
      "   4. What is the name of the background music that swells in the film Knute Rockne, All American?\n",
      "   5. Who played the role of Daniel \"Rudy\" Ruettiger in the movie Rudy?\n",
      "   6. What is the name of the song that was prominent in the movie Rudy?\n",
      "   7. What is the name of the movie that parodied the scene from the film Knute Rockne, All American?\n",
      "   8. Who played the role of Ted Striker in the movie Airplane!?\n",
      "   9. What is the nickname of Sean Astin in the movie Rudy?\n",
      "   10. What is the name of the song that was prominent in the movie Rudy?</s>\n"
     ]
    },
    {
     "name": "stderr",
     "output_type": "stream",
     "text": [
      "Setting `pad_token_id` to `eos_token_id`:2 for open-end generation.\n"
     ]
    },
    {
     "name": "stdout",
     "output_type": "stream",
     "text": [
      "<s> You are a helpful assistant that generates questions based on a given context. Below is an instruction that describes a task, paired with an input that provides further context. Write a response that appropriately completes the request.\n",
      "\n",
      "    ### Instruction:\n",
      "    Generate 10 simple questions that can be answered from the following context.\n",
      "\n",
      "    ### Input:\n",
      "    Notre Dame alumni work in various fields. Alumni working in political fields include state governors, members of the United States Congress, and former United States Secretary of State Condoleezza Rice. A notable alumnus of the College of Science is Medicine Nobel Prize winner Eric F. Wieschaus. A number of university heads are alumni, including Notre Dame's current president, the Rev. John Jenkins. Additionally, many alumni are in the media, including talk show hosts Regis Philbin and Phil Donahue, and television and radio personalities such as Mike Golic and Hannah Storm. With the university having high profile sports teams itself, a number of alumni went on to become involved in athletics outside the university, including professional baseball, basketball, football, and ice hockey players, such as Joe Theismann, Joe Montana, Tim Brown, Ross Browner, Rocket Ismail, Ruth Riley, Jeff Samardzija, Jerome Bettis, Brett Lebda, Olympic gold medalist Mariel Zagunis, professional boxer Mike Lee, former football coaches such as Charlie Weis, Frank Leahy and Knute Rockne, and Basketball Hall of Famers Austin Carr and Adrian Dantley. Other notable alumni include prominent businessman Edward J. DeBartolo, Jr. and astronaut Jim Wetherbee.\n",
      "\n",
      "    ### Response:\n",
      "    1. Who are some notable alumni of Notre Dame University?\n",
      "   2. What fields do Notre Dame alumni work in?\n",
      "   3. Who are some alumni of the College of Science at Notre Dame?\n",
      "   4. What is the current president of Notre Dame University?\n",
      "   5. How many alumni of Notre Dame University are involved in athletics?\n",
      "   6. Who are some famous alumni of Notre Dame University who are involved in athletics?\n",
      "   7. What is the name of the Nobel Prize winner who is an alumnus of Notre Dame University?\n",
      "   8. Who are some alumni of Notre Dame University who are involved in media?\n",
      "   9. What is the name of the former United States Secretary of State who is an alumnus of Notre Dame University?\n",
      "   10. How many alumni of Notre Dame University are involved in politics?</s>\n"
     ]
    },
    {
     "name": "stderr",
     "output_type": "stream",
     "text": [
      "Setting `pad_token_id` to `eos_token_id`:2 for open-end generation.\n"
     ]
    },
    {
     "name": "stdout",
     "output_type": "stream",
     "text": [
      "<s> You are a helpful assistant that generates questions based on a given context. Below is an instruction that describes a task, paired with an input that provides further context. Write a response that appropriately completes the request.\n",
      "\n",
      "    ### Instruction:\n",
      "    Generate 10 simple questions that can be answered from the following context.\n",
      "\n",
      "    ### Input:\n",
      "    Beyoncé Giselle Knowles-Carter (/biːˈjɒnseɪ/ bee-YON-say) (born September 4, 1981) is an American singer, songwriter, record producer and actress. Born and raised in Houston, Texas, she performed in various singing and dancing competitions as a child, and rose to fame in the late 1990s as lead singer of R&B girl-group Destiny's Child. Managed by her father, Mathew Knowles, the group became one of the world's best-selling girl groups of all time. Their hiatus saw the release of Beyoncé's debut album, Dangerously in Love (2003), which established her as a solo artist worldwide, earned five Grammy Awards and featured the Billboard Hot 100 number-one singles \"Crazy in Love\" and \"Baby Boy\".\n",
      "\n",
      "    ### Response:\n",
      "    1. Who is Beyoncé Giselle Knowles-Carter?\n",
      "   2. Where was Beyoncé born and raised?\n",
      "   3. When did Beyoncé rise to fame?\n",
      "   4. Who managed Beyoncé's career?\n",
      "   5. What group did Beyoncé perform in as a child?\n",
      "   6. How did Beyoncé become a solo artist?\n",
      "   7. When was Beyoncé's debut album released?\n",
      "   8. How many Grammy Awards did Beyoncé's debut album earn?\n",
      "   9. What were the two Billboard Hot 100 number-one singles from Beyoncé's debut album?\n",
      "   10. What is Beyoncé's full name?</s>\n"
     ]
    },
    {
     "name": "stderr",
     "output_type": "stream",
     "text": [
      "Setting `pad_token_id` to `eos_token_id`:2 for open-end generation.\n"
     ]
    },
    {
     "name": "stdout",
     "output_type": "stream",
     "text": [
      "<s> You are a helpful assistant that generates questions based on a given context. Below is an instruction that describes a task, paired with an input that provides further context. Write a response that appropriately completes the request.\n",
      "\n",
      "    ### Instruction:\n",
      "    Generate 10 simple questions that can be answered from the following context.\n",
      "\n",
      "    ### Input:\n",
      "    Following the disbandment of Destiny's Child in June 2005, she released her second solo album, B'Day (2006), which contained hits \"Déjà Vu\", \"Irreplaceable\", and \"Beautiful Liar\". Beyoncé also ventured into acting, with a Golden Globe-nominated performance in Dreamgirls (2006), and starring roles in The Pink Panther (2006) and Obsessed (2009). Her marriage to rapper Jay Z and portrayal of Etta James in Cadillac Records (2008) influenced her third album, I Am... Sasha Fierce (2008), which saw the birth of her alter-ego Sasha Fierce and earned a record-setting six Grammy Awards in 2010, including Song of the Year for \"Single Ladies (Put a Ring on It)\". Beyoncé took a hiatus from music in 2010 and took over management of her career; her fourth album 4 (2011) was subsequently mellower in tone, exploring 1970s funk, 1980s pop, and 1990s soul. Her critically acclaimed fifth studio album, Beyoncé (2013), was distinguished from previous releases by its experimental production and exploration of darker themes.\n",
      "\n",
      "    ### Response:\n",
      "    1. Who is Beyoncé?\n",
      "   2. When did Destiny's Child disband?\n",
      "   3. What are some of Beyoncé's hit songs?\n",
      "   4. When did Beyoncé release her second solo album?\n",
      "   5. What is the name of Beyoncé's alter-ego?\n",
      "   6. When did Beyoncé take a hiatus from music?\n",
      "   7. What is the title of Beyoncé's fourth album?\n",
      "   8. What is the theme of Beyoncé's fifth studio album?\n",
      "   9. When did Beyoncé take over management of her career?\n",
      "   10. What is the name of Beyoncé's third album?</s>\n"
     ]
    },
    {
     "name": "stderr",
     "output_type": "stream",
     "text": [
      "Setting `pad_token_id` to `eos_token_id`:2 for open-end generation.\n"
     ]
    },
    {
     "name": "stdout",
     "output_type": "stream",
     "text": [
      "<s> You are a helpful assistant that generates questions based on a given context. Below is an instruction that describes a task, paired with an input that provides further context. Write a response that appropriately completes the request.\n",
      "\n",
      "    ### Instruction:\n",
      "    Generate 10 simple questions that can be answered from the following context.\n",
      "\n",
      "    ### Input:\n",
      "    A self-described \"modern-day feminist\", Beyoncé creates songs that are often characterized by themes of love, relationships, and monogamy, as well as female sexuality and empowerment. On stage, her dynamic, highly choreographed performances have led to critics hailing her as one of the best entertainers in contemporary popular music. Throughout a career spanning 19 years, she has sold over 118 million records as a solo artist, and a further 60 million with Destiny's Child, making her one of the best-selling music artists of all time. She has won 20 Grammy Awards and is the most nominated woman in the award's history. The Recording Industry Association of America recognized her as the Top Certified Artist in America during the 2000s decade. In 2009, Billboard named her the Top Radio Songs Artist of the Decade, the Top Female Artist of the 2000s and their Artist of the Millennium in 2011. Time listed her among the 100 most influential people in the world in 2013 and 2014. Forbes magazine also listed her as the most powerful female musician of 2015.\n",
      "\n",
      "    ### Response:\n",
      "    1. Who is Beyoncé?\n",
      "   2. What are some of Beyoncé's most popular themes in her songs?\n",
      "   3. How has Beyoncé's stage presence been described?\n",
      "   4. What is Beyoncé's record for sales as a solo artist?\n",
      "   5. How many Grammy Awards has Beyoncé won?\n",
      "   6. What is Beyoncé's record for being the most nominated woman in Grammy history?\n",
      "   7. What was Beyoncé's recognition from the Recording Industry Association of America?\n",
      "   8. When was Beyoncé named the Top Radio Songs Artist of the Decade?\n",
      "   9. When was Beyoncé named the Top Female Artist of the 2000s?\n",
      "   10. When was Beyoncé named the Artist of the Millennium?</s>\n"
     ]
    },
    {
     "name": "stderr",
     "output_type": "stream",
     "text": [
      "Setting `pad_token_id` to `eos_token_id`:2 for open-end generation.\n"
     ]
    },
    {
     "name": "stdout",
     "output_type": "stream",
     "text": [
      "<s> You are a helpful assistant that generates questions based on a given context. Below is an instruction that describes a task, paired with an input that provides further context. Write a response that appropriately completes the request.\n",
      "\n",
      "    ### Instruction:\n",
      "    Generate 10 simple questions that can be answered from the following context.\n",
      "\n",
      "    ### Input:\n",
      "    Beyoncé Giselle Knowles was born in Houston, Texas, to Celestine Ann \"Tina\" Knowles (née Beyincé), a hairdresser and salon owner, and Mathew Knowles, a Xerox sales manager. Beyoncé's name is a tribute to her mother's maiden name. Beyoncé's younger sister Solange is also a singer and a former member of Destiny's Child. Mathew is African-American, while Tina is of Louisiana Creole descent (with African, Native American, French, Cajun, and distant Irish and Spanish ancestry). Through her mother, Beyoncé is a descendant of Acadian leader Joseph Broussard. She was raised in a Methodist household.\n",
      "\n",
      "    ### Response:\n",
      "    1. Who is Beyoncé Giselle Knowles?\n",
      "   2. Where was Beyoncé born?\n",
      "   3. Who are Beyoncé's parents?\n",
      "   4. What is Beyoncé's full name?\n",
      "   5. What is Beyoncé's ethnicity?\n",
      "   6. Who is Beyoncé's younger sister?\n",
      "   7. What is Beyoncé's mother's maiden name?\n",
      "   8. What is Beyoncé's father's occupation?\n",
      "   9. What is Beyoncé's religious background?\n",
      "   10. What is Beyoncé's ancestry?</s>\n"
     ]
    },
    {
     "name": "stderr",
     "output_type": "stream",
     "text": [
      "Setting `pad_token_id` to `eos_token_id`:2 for open-end generation.\n"
     ]
    },
    {
     "name": "stdout",
     "output_type": "stream",
     "text": [
      "<s> You are a helpful assistant that generates questions based on a given context. Below is an instruction that describes a task, paired with an input that provides further context. Write a response that appropriately completes the request.\n",
      "\n",
      "    ### Instruction:\n",
      "    Generate 10 simple questions that can be answered from the following context.\n",
      "\n",
      "    ### Input:\n",
      "    Beyoncé attended St. Mary's Elementary School in Fredericksburg, Texas, where she enrolled in dance classes. Her singing talent was discovered when dance instructor Darlette Johnson began humming a song and she finished it, able to hit the high-pitched notes. Beyoncé's interest in music and performing continued after winning a school talent show at age seven, singing John Lennon's \"Imagine\" to beat 15/16-year-olds. In fall of 1990, Beyoncé enrolled in Parker Elementary School, a music magnet school in Houston, where she would perform with the school's choir. She also attended the High School for the Performing and Visual Arts and later Alief Elsik High School. Beyoncé was also a member of the choir at St. John's United Methodist Church as a soloist for two years.\n",
      "\n",
      "    ### Response:\n",
      "    1. What school did Beyoncé attend in Fredericksburg, Texas?\n",
      "   2. When did Beyoncé's singing talent first become apparent?\n",
      "   3. What song did Beyoncé sing in a school talent show at age seven?\n",
      "   4. What school did Beyoncé attend in Houston?\n",
      "   5. What choir did Beyoncé perform with in Houston?\n",
      "   6. What school did Beyoncé attend in Houston that was a music magnet school?\n",
      "   7. What church did Beyoncé attend in Houston?\n",
      "   8. How long was Beyoncé a soloist at the church in Houston?\n",
      "   9. What high school did Beyoncé attend in Houston?\n",
      "   10. What choir did Beyoncé perform with at the church in Houston?</s>\n"
     ]
    },
    {
     "name": "stderr",
     "output_type": "stream",
     "text": [
      "Setting `pad_token_id` to `eos_token_id`:2 for open-end generation.\n"
     ]
    },
    {
     "name": "stdout",
     "output_type": "stream",
     "text": [
      "<s> You are a helpful assistant that generates questions based on a given context. Below is an instruction that describes a task, paired with an input that provides further context. Write a response that appropriately completes the request.\n",
      "\n",
      "    ### Instruction:\n",
      "    Generate 10 simple questions that can be answered from the following context.\n",
      "\n",
      "    ### Input:\n",
      "    At age eight, Beyoncé and childhood friend Kelly Rowland met LaTavia Roberson while in an audition for an all-girl entertainment group. They were placed into a group with three other girls as Girl's Tyme, and rapped and danced on the talent show circuit in Houston. After seeing the group, R&B producer Arne Frager brought them to his Northern California studio and placed them in Star Search, the largest talent show on national TV at the time. Girl's Tyme failed to win, and Beyoncé later said the song they performed was not good. In 1995 Beyoncé's father resigned from his job to manage the group. The move reduced Beyoncé's family's income by half, and her parents were forced to move into separated apartments. Mathew cut the original line-up to four and the group continued performing as an opening act for other established R&B girl groups. The girls auditioned before record labels and were finally signed to Elektra Records, moving to Atlanta Records briefly to work on their first recording, only to be cut by the company. This put further strain on the family, and Beyoncé's parents separated. On October 5, 1995, Dwayne Wiggins's Grass Roots Entertainment signed the group. In 1996, the girls began recording their debut album under an agreement with Sony Music, the Knowles family reunited, and shortly after, the group got a contract with Columbia Records.\n",
      "\n",
      "    ### Response:\n",
      "    1. Who was the producer that brought Girl's Tyme to his Northern California studio?\n",
      "   2. What was the name of the talent show that Girl's Tyme failed to win?\n",
      "   3. When did Beyoncé's father resign from his job to manage the group?\n",
      "   4. How did the move affect Beyoncé's family's income?\n",
      "   5. What was the name of the record label that signed the group?\n",
      "   6. When did the group begin recording their debut album?\n",
      "   7. Who signed the group to Sony Music?\n",
      "   8. When did the group get a contract with Columbia Records?\n",
      "   9. What was the name of the group's debut album?\n",
      "   10. Who was the producer that brought them to his Northern California studio and placed them in Star Search?</s>\n"
     ]
    },
    {
     "name": "stderr",
     "output_type": "stream",
     "text": [
      "Setting `pad_token_id` to `eos_token_id`:2 for open-end generation.\n"
     ]
    },
    {
     "name": "stdout",
     "output_type": "stream",
     "text": [
      "<s> You are a helpful assistant that generates questions based on a given context. Below is an instruction that describes a task, paired with an input that provides further context. Write a response that appropriately completes the request.\n",
      "\n",
      "    ### Instruction:\n",
      "    Generate 10 simple questions that can be answered from the following context.\n",
      "\n",
      "    ### Input:\n",
      "    The group changed their name to Destiny's Child in 1996, based upon a passage in the Book of Isaiah. In 1997, Destiny's Child released their major label debut song \"Killing Time\" on the soundtrack to the 1997 film, Men in Black. The following year, the group released their self-titled debut album, scoring their first major hit \"No, No, No\". The album established the group as a viable act in the music industry, with moderate sales and winning the group three Soul Train Lady of Soul Awards for Best R&B/Soul Album of the Year, Best R&B/Soul or Rap New Artist, and Best R&B/Soul Single for \"No, No, No\". The group released their multi-platinum second album The Writing's on the Wall in 1999. The record features some of the group's most widely known songs such as \"Bills, Bills, Bills\", the group's first number-one single, \"Jumpin' Jumpin'\" and \"Say My Name\", which became their most successful song at the time, and would remain one of their signature songs. \"Say My Name\" won the Best R&B Performance by a Duo or Group with Vocals and the Best R&B Song at the 43rd Annual Grammy Awards. The Writing's on the Wall sold more than eight million copies worldwide. During this time, Beyoncé recorded a duet with Marc Nelson, an original member of Boyz II Men, on the song \"After All Is Said and Done\" for the soundtrack to the 1999 film, The Best Man.\n",
      "\n",
      "    ### Response:\n",
      "    1. What was the name of the group before they changed it to Destiny's Child?\n",
      "   2. When was the group's debut album released?\n",
      "   3. What was the group's first major hit?\n",
      "   4. What were some of the group's most widely known songs from their second album?\n",
      "   5. When was the group's first number-one single released?\n",
      "   6. What were the group's most successful songs from their second album?\n",
      "   7. What awards did the group win for their second album?\n",
      "   8. When was the group's second album released?\n",
      "   9. Who did Beyoncé record a duet with for the soundtrack to The Best Man?\n",
      "   10. What was the title of the song Beyoncé recorded a duet with Marc Nelson for the soundtrack to The Best Man?</s>\n"
     ]
    },
    {
     "name": "stderr",
     "output_type": "stream",
     "text": [
      "Setting `pad_token_id` to `eos_token_id`:2 for open-end generation.\n"
     ]
    },
    {
     "name": "stdout",
     "output_type": "stream",
     "text": [
      "<s> You are a helpful assistant that generates questions based on a given context. Below is an instruction that describes a task, paired with an input that provides further context. Write a response that appropriately completes the request.\n",
      "\n",
      "    ### Instruction:\n",
      "    Generate 10 simple questions that can be answered from the following context.\n",
      "\n",
      "    ### Input:\n",
      "    LeToya Luckett and Roberson became unhappy with Mathew's managing of the band and eventually were replaced by Farrah Franklin and Michelle Williams. Beyoncé experienced depression following the split with Luckett and Roberson after being publicly blamed by the media, critics, and blogs for its cause. Her long-standing boyfriend left her at this time. The depression was so severe it lasted for a couple of years, during which she occasionally kept herself in her bedroom for days and refused to eat anything. Beyoncé stated that she struggled to speak about her depression because Destiny's Child had just won their first Grammy Award and she feared no one would take her seriously. Beyoncé would later speak of her mother as the person who helped her fight it. Franklin was dismissed, leaving just Beyoncé, Rowland, and Williams.\n",
      "\n",
      "    ### Response:\n",
      "    1. Who were the original members of Destiny's Child?\n",
      "   2. Why did LeToya Luckett and LaTavia Roberson leave Destiny's Child?\n",
      "   3. Who replaced LeToya Luckett and LaTavia Roberson in Destiny's Child?\n",
      "   4. What caused Beyoncé's depression?\n",
      "   5. How long did Beyoncé's depression last?\n",
      "   6. Who helped Beyoncé fight her depression?\n",
      "   7. When did Farrah Franklin leave Destiny's Child?\n",
      "   8. Who are the current members of Destiny's Child?\n",
      "   9. What was the reason for the split between Beyoncé and her long-standing boyfriend?\n",
      "   10. When did Destiny's Child win their first Grammy Award?</s>\n"
     ]
    },
    {
     "name": "stderr",
     "output_type": "stream",
     "text": [
      "Setting `pad_token_id` to `eos_token_id`:2 for open-end generation.\n"
     ]
    },
    {
     "name": "stdout",
     "output_type": "stream",
     "text": [
      "<s> You are a helpful assistant that generates questions based on a given context. Below is an instruction that describes a task, paired with an input that provides further context. Write a response that appropriately completes the request.\n",
      "\n",
      "    ### Instruction:\n",
      "    Generate 10 simple questions that can be answered from the following context.\n",
      "\n",
      "    ### Input:\n",
      "    The remaining band members recorded \"Independent Women Part I\", which appeared on the soundtrack to the 2000 film, Charlie's Angels. It became their best-charting single, topping the U.S. Billboard Hot 100 chart for eleven consecutive weeks. In early 2001, while Destiny's Child was completing their third album, Beyoncé landed a major role in the MTV made-for-television film, Carmen: A Hip Hopera, starring alongside American actor Mekhi Phifer. Set in Philadelphia, the film is a modern interpretation of the 19th century opera Carmen by French composer Georges Bizet. When the third album Survivor was released in May 2001, Luckett and Roberson filed a lawsuit claiming that the songs were aimed at them. The album debuted at number one on the U.S. Billboard 200, with first-week sales of 663,000 copies sold. The album spawned other number-one hits, \"Bootylicious\" and the title track, \"Survivor\", the latter of which earned the group a Grammy Award for Best R&B Performance by a Duo or Group with Vocals. After releasing their holiday album 8 Days of Christmas in October 2001, the group announced a hiatus to further pursue solo careers.\n",
      "\n",
      "    ### Response:\n",
      "    1. Who are the remaining band members of Destiny's Child?\n",
      "   2. What was the title of the film that featured the song \"Independent Women Part I\"?\n",
      "   3. How long did \"Independent Women Part I\" top the U.S. Billboard Hot 100 chart?\n",
      "   4. When was the third album Survivor released?\n",
      "   5. What was the title of the group's holiday album released in October 2001?\n",
      "   6. What was the name of the made-for-television film that Beyoncé starred in?\n",
      "   7. Who did Beyoncé star alongside in the made-for-television film?\n",
      "   8. What was the title of the song that earned the group a Grammy Award?\n",
      "   9. When did the group announce a hiatus?\n",
      "   10. What was the name of the group's holiday album released in October 2001?</s>\n"
     ]
    },
    {
     "name": "stderr",
     "output_type": "stream",
     "text": [
      "Setting `pad_token_id` to `eos_token_id`:2 for open-end generation.\n"
     ]
    },
    {
     "name": "stdout",
     "output_type": "stream",
     "text": [
      "<s> You are a helpful assistant that generates questions based on a given context. Below is an instruction that describes a task, paired with an input that provides further context. Write a response that appropriately completes the request.\n",
      "\n",
      "    ### Instruction:\n",
      "    Generate 10 simple questions that can be answered from the following context.\n",
      "\n",
      "    ### Input:\n",
      "    In July 2002, Beyoncé continued her acting career playing Foxxy Cleopatra alongside Mike Myers in the comedy film, Austin Powers in Goldmember, which spent its first weekend atop the US box office and grossed $73 million. Beyoncé released \"Work It Out\" as the lead single from its soundtrack album which entered the top ten in the UK, Norway, and Belgium. In 2003, Beyoncé starred opposite Cuba Gooding, Jr., in the musical comedy The Fighting Temptations as Lilly, a single mother whom Gooding's character falls in love with. The film received mixed reviews from critics but grossed $30 million in the U.S. Beyoncé released \"Fighting Temptation\" as the lead single from the film's soundtrack album, with Missy Elliott, MC Lyte, and Free which was also used to promote the film. Another of Beyoncé's contributions to the soundtrack, \"Summertime\", fared better on the US charts.\n",
      "\n",
      "    ### Response:\n",
      "    1. Who played Foxxy Cleopatra in the comedy film Austin Powers in Goldmember?\n",
      "   2. When was Beyoncé's acting career continued?\n",
      "   3. What was the first weekend gross of Austin Powers in Goldmember?\n",
      "   4. Who did Beyoncé star opposite in the musical comedy The Fighting Temptations?\n",
      "   5. What was the mixed reception of the film The Fighting Temptations?\n",
      "   6. How much did the film The Fighting Temptations gross in the US?\n",
      "   7. Who did Beyoncé release \"Fighting Temptation\" as the lead single from the film's soundtrack album?\n",
      "   8. What was the reception of the single \"Fighting Temptation\"?\n",
      "   9. What was another of Beyoncé's contributions to the soundtrack album of The Fighting Temptations?\n",
      "   10. How did the single \"Summertime\" fare on the US charts?</s>\n"
     ]
    },
    {
     "name": "stderr",
     "output_type": "stream",
     "text": [
      "Setting `pad_token_id` to `eos_token_id`:2 for open-end generation.\n"
     ]
    },
    {
     "name": "stdout",
     "output_type": "stream",
     "text": [
      "<s> You are a helpful assistant that generates questions based on a given context. Below is an instruction that describes a task, paired with an input that provides further context. Write a response that appropriately completes the request.\n",
      "\n",
      "    ### Instruction:\n",
      "    Generate 10 simple questions that can be answered from the following context.\n",
      "\n",
      "    ### Input:\n",
      "    Beyoncé's first solo recording was a feature on Jay Z's \"'03 Bonnie & Clyde\" that was released in October 2002, peaking at number four on the U.S. Billboard Hot 100 chart. Her first solo album Dangerously in Love was released on June 24, 2003, after Michelle Williams and Kelly Rowland had released their solo efforts. The album sold 317,000 copies in its first week, debuted atop the Billboard 200, and has since sold 11 million copies worldwide. The album's lead single, \"Crazy in Love\", featuring Jay Z, became Beyoncé's first number-one single as a solo artist in the US. The single \"Baby Boy\" also reached number one, and singles, \"Me, Myself and I\" and \"Naughty Girl\", both reached the top-five. The album earned Beyoncé a then record-tying five awards at the 46th Annual Grammy Awards; Best Contemporary R&B Album, Best Female R&B Vocal Performance for \"Dangerously in Love 2\", Best R&B Song and Best Rap/Sung Collaboration for \"Crazy in Love\", and Best R&B Performance by a Duo or Group with Vocals for \"The Closer I Get to You\" with Luther Vandross.\n",
      "\n",
      "    ### Response:\n",
      "    1. When was Beyoncé's first solo recording released?\n",
      "   2. Who did Beyoncé collaborate with on her first solo album?\n",
      "   3. How many copies did Beyoncé's first solo album sell in its first week?\n",
      "   4. What was the title of Beyoncé's first number-one single as a solo artist?\n",
      "   5. How many Grammy Awards did Beyoncé win for her first solo album?\n",
      "   6. Who did Beyoncé collaborate with on her first Grammy Award-winning song?\n",
      "   7. What was the title of Beyoncé's second number-one single from her first solo album?\n",
      "   8. Who did Beyoncé collaborate with on her second Grammy Award-winning song?\n",
      "   9. What was the title of Beyoncé's third number-one single from her first solo album?\n",
      "   10. Who did Beyoncé collaborate with on her third Grammy Award-winning song?</s>\n"
     ]
    },
    {
     "name": "stderr",
     "output_type": "stream",
     "text": [
      "Setting `pad_token_id` to `eos_token_id`:2 for open-end generation.\n"
     ]
    },
    {
     "name": "stdout",
     "output_type": "stream",
     "text": [
      "<s> You are a helpful assistant that generates questions based on a given context. Below is an instruction that describes a task, paired with an input that provides further context. Write a response that appropriately completes the request.\n",
      "\n",
      "    ### Instruction:\n",
      "    Generate 10 simple questions that can be answered from the following context.\n",
      "\n",
      "    ### Input:\n",
      "    In November 2003, she embarked on the Dangerously in Love Tour in Europe and later toured alongside Missy Elliott and Alicia Keys for the Verizon Ladies First Tour in North America. On February 1, 2004, Beyoncé performed the American national anthem at Super Bowl XXXVIII, at the Reliant Stadium in Houston, Texas. After the release of Dangerously in Love, Beyoncé had planned to produce a follow-up album using several of the left-over tracks. However, this was put on hold so she could concentrate on recording Destiny Fulfilled, the final studio album by Destiny's Child. Released on November 15, 2004, in the US and peaking at number two on the Billboard 200, Destiny Fulfilled included the singles \"Lose My Breath\" and \"Soldier\", which reached the top five on the Billboard Hot 100 chart. Destiny's Child embarked on a worldwide concert tour, Destiny Fulfilled... and Lovin' It and during the last stop of their European tour, in Barcelona on June 11, 2005, Rowland announced that Destiny's Child would disband following the North American leg of the tour. The group released their first compilation album Number 1's on October 25, 2005, in the US and accepted a star on the Hollywood Walk of Fame in March 2006.\n",
      "\n",
      "    ### Response:\n",
      "    1. Who embarked on the Dangerously in Love Tour in Europe?\n",
      "   2. Who toured alongside Missy Elliott and Alicia Keys for the Verizon Ladies First Tour?\n",
      "   3. When did Beyoncé perform the American national anthem at Super Bowl XXXVIII?\n",
      "   4. What was the title of Beyoncé's second studio album?\n",
      "   5. When was Destiny Fulfilled released?\n",
      "   6. What were the names of the two singles released from Destiny Fulfilled?\n",
      "   7. When did Destiny's Child disband?\n",
      "   8. When was the first compilation album by Destiny's Child released?\n",
      "   9. When did Destiny's Child receive a star on the Hollywood Walk of Fame?\n",
      "   10. Who announced that Destiny's Child would disband?</s>\n"
     ]
    },
    {
     "name": "stderr",
     "output_type": "stream",
     "text": [
      "Setting `pad_token_id` to `eos_token_id`:2 for open-end generation.\n"
     ]
    },
    {
     "name": "stdout",
     "output_type": "stream",
     "text": [
      "<s> You are a helpful assistant that generates questions based on a given context. Below is an instruction that describes a task, paired with an input that provides further context. Write a response that appropriately completes the request.\n",
      "\n",
      "    ### Instruction:\n",
      "    Generate 10 simple questions that can be answered from the following context.\n",
      "\n",
      "    ### Input:\n",
      "    Beyoncé's second solo album B'Day was released on September 5, 2006, in the US, to coincide with her twenty-fifth birthday. It sold 541,000 copies in its first week and debuted atop the Billboard 200, becoming Beyoncé's second consecutive number-one album in the United States. The album's lead single \"Déjà Vu\", featuring Jay Z, reached the top five on the Billboard Hot 100 chart. The second international single \"Irreplaceable\" was a commercial success worldwide, reaching number one in Australia, Hungary, Ireland, New Zealand and the United States. B'Day also produced three other singles; \"Ring the Alarm\", \"Get Me Bodied\", and \"Green Light\" (released in the United Kingdom only).\n",
      "\n",
      "    ### Response:\n",
      "    1. Who is Beyoncé?\n",
      "   2. When was Beyoncé's second solo album released?\n",
      "   3. What is the name of Beyoncé's second solo album?\n",
      "   4. Who is featured on the lead single of Beyoncé's second solo album?\n",
      "   5. How many copies did Beyoncé's second solo album sell in its first week?\n",
      "   6. What was the name of the first international single from Beyoncé's second solo album?\n",
      "   7. What was the name of the second international single from Beyoncé's second solo album?\n",
      "   8. How many singles were released from Beyoncé's second solo album?\n",
      "   9. What was the name of the third single released from Beyoncé's second solo album?\n",
      "   10. In which countries did the second international single from Beyoncé's second solo album reach number one?</s>\n"
     ]
    },
    {
     "name": "stderr",
     "output_type": "stream",
     "text": [
      "Setting `pad_token_id` to `eos_token_id`:2 for open-end generation.\n"
     ]
    },
    {
     "name": "stdout",
     "output_type": "stream",
     "text": [
      "<s> You are a helpful assistant that generates questions based on a given context. Below is an instruction that describes a task, paired with an input that provides further context. Write a response that appropriately completes the request.\n",
      "\n",
      "    ### Instruction:\n",
      "    Generate 10 simple questions that can be answered from the following context.\n",
      "\n",
      "    ### Input:\n",
      "    Her first acting role of 2006 was in the comedy film The Pink Panther starring opposite Steve Martin, grossing $158.8 million at the box office worldwide. Her second film Dreamgirls, the film version of the 1981 Broadway musical loosely based on The Supremes, received acclaim from critics and grossed $154 million internationally. In it, she starred opposite Jennifer Hudson, Jamie Foxx, and Eddie Murphy playing a pop singer based on Diana Ross. To promote the film, Beyoncé released \"Listen\" as the lead single from the soundtrack album. In April 2007, Beyoncé embarked on The Beyoncé Experience, her first worldwide concert tour, visiting 97 venues and grossed over $24 million.[note 1] Beyoncé conducted pre-concert food donation drives during six major stops in conjunction with her pastor at St. John's and America's Second Harvest. At the same time, B'Day was re-released with five additional songs, including her duet with Shakira \"Beautiful Liar\".\n",
      "\n",
      "    ### Response:\n",
      "    1. What was Beyoncé's first acting role in 2006?\n",
      "   2. Who did Beyoncé star opposite in the film The Pink Panther?\n",
      "   3. What was the box office gross of the film The Pink Panther?\n",
      "   4. What was the title of the film that Beyoncé starred in opposite Jennifer Hudson, Jamie Foxx, and Eddie Murphy?\n",
      "   5. What was the name of the musical that the film Dreamgirls was based on?\n",
      "   6. Who did Beyoncé release the lead single from the soundtrack album of Dreamgirls?\n",
      "   7. When did Beyoncé embark on her first worldwide concert tour?\n",
      "   8. How many venues did Beyoncé visit during her first worldwide concert tour?\n",
      "   9. How much did Beyoncé gross during her first worldwide concert tour?\n",
      "   10. What was the name of the charity that Beyoncé worked with during her pre-concert food donation drives?</s>\n"
     ]
    },
    {
     "name": "stderr",
     "output_type": "stream",
     "text": [
      "Setting `pad_token_id` to `eos_token_id`:2 for open-end generation.\n"
     ]
    },
    {
     "name": "stdout",
     "output_type": "stream",
     "text": [
      "<s> You are a helpful assistant that generates questions based on a given context. Below is an instruction that describes a task, paired with an input that provides further context. Write a response that appropriately completes the request.\n",
      "\n",
      "    ### Instruction:\n",
      "    Generate 10 simple questions that can be answered from the following context.\n",
      "\n",
      "    ### Input:\n",
      "    On April 4, 2008, Beyoncé married Jay Z. She publicly revealed their marriage in a video montage at the listening party for her third studio album, I Am... Sasha Fierce, in Manhattan's Sony Club on October 22, 2008. I Am... Sasha Fierce was released on November 18, 2008 in the United States. The album formally introduces Beyoncé's alter ego Sasha Fierce, conceived during the making of her 2003 single \"Crazy in Love\", selling 482,000 copies in its first week, debuting atop the Billboard 200, and giving Beyoncé her third consecutive number-one album in the US. The album featured the number-one song \"Single Ladies (Put a Ring on It)\" and the top-five songs \"If I Were a Boy\" and \"Halo\". Achieving the accomplishment of becoming her longest-running Hot 100 single in her career, \"Halo\"'s success in the US helped Beyoncé attain more top-ten singles on the list than any other woman during the 2000s. It also included the successful \"Sweet Dreams\", and singles \"Diva\", \"Ego\", \"Broken-Hearted Girl\" and \"Video Phone\". The music video for \"Single Ladies\" has been parodied and imitated around the world, spawning the \"first major dance craze\" of the Internet age according to the Toronto Star. The video has won several awards, including Best Video at the 2009 MTV Europe Music Awards, the 2009 Scottish MOBO Awards, and the 2009 BET Awards. At the 2009 MTV Video Music Awards, the video was nominated for nine awards, ultimately winning three including Video of the Year. Its failure to win the Best Female Video category, which went to American country pop singer Taylor Swift's \"You Belong with Me\", led to Kanye West interrupting the ceremony and Beyoncé improvising a re-presentation of Swift's award during her own acceptance speech. In March 2009, Beyoncé embarked on the I Am... World Tour, her second headlining worldwide concert tour, consisting of 108 shows, grossing $119.5 million.\n",
      "\n",
      "    ### Response:\n",
      "    1. When did Beyoncé marry Jay Z?\n",
      "   2. How many number-one albums has Beyoncé had in the US?\n",
      "   3. What is the name of Beyoncé's alter ego?\n",
      "   4. When was the album \"I Am... Sasha Fierce\" released?\n",
      "   5. What is the name of the song that became Beyoncé's longest-running Hot 100 single?\n",
      "   6. How many singles were included in the album \"I Am... Sasha Fierce\"?\n",
      "   7. What is the name of the music video that won several awards?\n",
      "   8. When did Beyoncé embark on her second headlining worldwide concert tour?\n",
      "   9. How much did the I Am... World Tour gross?\n",
      "   10. Who did Beyoncé win the Video of the Year award at the 2009 MTV Video Music Awards for?</s>\n"
     ]
    },
    {
     "name": "stderr",
     "output_type": "stream",
     "text": [
      "Setting `pad_token_id` to `eos_token_id`:2 for open-end generation.\n"
     ]
    },
    {
     "name": "stdout",
     "output_type": "stream",
     "text": [
      "<s> You are a helpful assistant that generates questions based on a given context. Below is an instruction that describes a task, paired with an input that provides further context. Write a response that appropriately completes the request.\n",
      "\n",
      "    ### Instruction:\n",
      "    Generate 10 simple questions that can be answered from the following context.\n",
      "\n",
      "    ### Input:\n",
      "    Beyoncé further expanded her acting career, starring as blues singer Etta James in the 2008 musical biopic, Cadillac Records. Her performance in the film received praise from critics, and she garnered several nominations for her portrayal of James, including a Satellite Award nomination for Best Supporting Actress, and a NAACP Image Award nomination for Outstanding Supporting Actress. Beyoncé donated her entire salary from the film to Phoenix House, an organization of rehabilitation centers for heroin addicts around the country. On January 20, 2009, Beyoncé performed James' \"At Last\" at the First Couple's first inaugural ball. Beyoncé starred opposite Ali Larter and Idris Elba in the thriller, Obsessed. She played Sharon Charles, a mother and wife who learns of a woman's obsessive behavior over her husband. Although the film received negative reviews from critics, the movie did well at the US box office, grossing $68 million—$60 million more than Cadillac Records—on a budget of $20 million. The fight scene finale between Sharon and the character played by Ali Larter also won the 2010 MTV Movie Award for Best Fight.\n",
      "\n",
      "    ### Response:\n",
      "    1. Who did Beyoncé portray in the musical biopic, Cadillac Records?\n",
      "   2. What was Beyoncé's performance in the film praised for?\n",
      "   3. What organization did Beyoncé donate her salary from the film to?\n",
      "   4. When did Beyoncé perform \"At Last\" at the First Couple's first inaugural ball?\n",
      "   5. Who did Beyoncé star opposite in the thriller, Obsessed?\n",
      "   6. What was the budget of the film, Obsessed?\n",
      "   7. How much did the film, Obsessed gross at the US box office?\n",
      "   8. What award did the fight scene finale between Sharon and the character played by Ali Larter win?\n",
      "   9. What was the title of the film in which Beyoncé starred opposite Ali Larter and Idris Elba?\n",
      "   10. What was the name of the character played by Beyoncé in the film, Obsessed?</s>\n"
     ]
    },
    {
     "name": "stderr",
     "output_type": "stream",
     "text": [
      "Setting `pad_token_id` to `eos_token_id`:2 for open-end generation.\n"
     ]
    },
    {
     "name": "stdout",
     "output_type": "stream",
     "text": [
      "<s> You are a helpful assistant that generates questions based on a given context. Below is an instruction that describes a task, paired with an input that provides further context. Write a response that appropriately completes the request.\n",
      "\n",
      "    ### Instruction:\n",
      "    Generate 10 simple questions that can be answered from the following context.\n",
      "\n",
      "    ### Input:\n",
      "    At the 52nd Annual Grammy Awards, Beyoncé received ten nominations, including Album of the Year for I Am... Sasha Fierce, Record of the Year for \"Halo\", and Song of the Year for \"Single Ladies (Put a Ring on It)\", among others. She tied with Lauryn Hill for most Grammy nominations in a single year by a female artist. In 2010, Beyoncé was featured on Lady Gaga's single \"Telephone\" and its music video. The song topped the US Pop Songs chart, becoming the sixth number-one for both Beyoncé and Gaga, tying them with Mariah Carey for most number-ones since the Nielsen Top 40 airplay chart launched in 1992. \"Telephone\" received a Grammy Award nomination for Best Pop Collaboration with Vocals.\n",
      "\n",
      "    ### Response:\n",
      "    1. Who received the most Grammy nominations in a single year?\n",
      "   2. How many Grammy nominations did Beyoncé receive in 2010?\n",
      "   3. What was the title of Beyoncé's album that received a Grammy nomination?\n",
      "   4. Who did Beyoncé collaborate with on the song \"Telephone\"?\n",
      "   5. How many number-one hits did Beyoncé and Lady Gaga have in 2010?\n",
      "   6. What was the title of the song that Beyoncé and Lady Gaga collaborated on?\n",
      "   7. What was the name of the music video that Beyoncé and Lady Gaga collaborated on?\n",
      "   8. What was the name of the song that Beyoncé and Lady Gaga collaborated on that topped the US Pop Songs chart?\n",
      "   9. What was the name of the song that Beyoncé and Lady Gaga collaborated on that received a Grammy Award nomination?\n",
      "   10. What was the name of the song that Beyoncé and Lady Gaga collaborated on that was featured in the music video?</s>\n"
     ]
    },
    {
     "name": "stderr",
     "output_type": "stream",
     "text": [
      "Setting `pad_token_id` to `eos_token_id`:2 for open-end generation.\n"
     ]
    },
    {
     "name": "stdout",
     "output_type": "stream",
     "text": [
      "<s> You are a helpful assistant that generates questions based on a given context. Below is an instruction that describes a task, paired with an input that provides further context. Write a response that appropriately completes the request.\n",
      "\n",
      "    ### Instruction:\n",
      "    Generate 10 simple questions that can be answered from the following context.\n",
      "\n",
      "    ### Input:\n",
      "    Beyoncé announced a hiatus from her music career in January 2010, heeding her mother's advice, \"to live life, to be inspired by things again\". During the break she and her father parted ways as business partners. Beyoncé's musical break lasted nine months and saw her visit multiple European cities, the Great Wall of China, the Egyptian pyramids, Australia, English music festivals and various museums and ballet performances.\n",
      "\n",
      "    ### Response:\n",
      "    1. Who is Beyoncé?\n",
      "   2. When did Beyoncé announce her hiatus from her music career?\n",
      "   3. What was the reason for Beyoncé's hiatus?\n",
      "   4. Who is Beyoncé's mother?\n",
      "   5. What advice did Beyoncé's mother give her?\n",
      "   6. How long did Beyoncé's musical break last?\n",
      "   7. Where did Beyoncé visit during her break?\n",
      "   8. What did Beyoncé do during her break?\n",
      "   9. Who did Beyoncé part ways with during her break?\n",
      "   10. What did Beyoncé do during her break that inspired her?</s>\n"
     ]
    },
    {
     "name": "stderr",
     "output_type": "stream",
     "text": [
      "Setting `pad_token_id` to `eos_token_id`:2 for open-end generation.\n"
     ]
    },
    {
     "name": "stdout",
     "output_type": "stream",
     "text": [
      "<s> You are a helpful assistant that generates questions based on a given context. Below is an instruction that describes a task, paired with an input that provides further context. Write a response that appropriately completes the request.\n",
      "\n",
      "    ### Instruction:\n",
      "    Generate 10 simple questions that can be answered from the following context.\n",
      "\n",
      "    ### Input:\n",
      "    In 2011, documents obtained by WikiLeaks revealed that Beyoncé was one of many entertainers who performed for the family of Libyan ruler Muammar Gaddafi. Rolling Stone reported that the music industry was urging them to return the money they earned for the concerts; a spokesperson for Beyoncé later confirmed to The Huffington Post that she donated the money to the Clinton Bush Haiti Fund. Later that year she became the first solo female artist to headline the main Pyramid stage at the 2011 Glastonbury Festival in over twenty years, and was named the highest-paid performer in the world per minute.\n",
      "\n",
      "    ### Response:\n",
      "    1. Who was one of the entertainers who performed for the family of Libyan ruler Muammar Gaddafi?\n",
      "   2. What was the name of the organization that obtained the documents revealing Beyoncé's performance for the Gaddafi family?\n",
      "   3. When did Beyoncé perform for the Gaddafi family?\n",
      "   4. What was the name of the organization that Beyoncé donated the money to?\n",
      "   5. When did Beyoncé become the first solo female artist to headline the main Pyramid stage at the 2011 Glastonbury Festival?\n",
      "   6. Who was the spokesperson for Beyoncé who confirmed her donation to the Clinton Bush Haiti Fund?\n",
      "   7. What was the name of the organization that Beyoncé donated the money to?\n",
      "   8. When did Beyoncé become the highest-paid performer in the world per minute?\n",
      "   9. What was the name of the organization that Beyoncé performed for?\n",
      "   10. Who was the spokesperson for Beyoncé who confirmed her donation to the Clinton Bush Haiti Fund?</s>\n"
     ]
    },
    {
     "name": "stderr",
     "output_type": "stream",
     "text": [
      "Setting `pad_token_id` to `eos_token_id`:2 for open-end generation.\n"
     ]
    },
    {
     "name": "stdout",
     "output_type": "stream",
     "text": [
      "<s> You are a helpful assistant that generates questions based on a given context. Below is an instruction that describes a task, paired with an input that provides further context. Write a response that appropriately completes the request.\n",
      "\n",
      "    ### Instruction:\n",
      "    Generate 10 simple questions that can be answered from the following context.\n",
      "\n",
      "    ### Input:\n",
      "    Her fourth studio album 4 was released on June 28, 2011 in the US. 4 sold 310,000 copies in its first week and debuted atop the Billboard 200 chart, giving Beyoncé her fourth consecutive number-one album in the US. The album was preceded by two of its singles \"Run the World (Girls)\" and \"Best Thing I Never Had\", which both attained moderate success. The fourth single \"Love on Top\" was a commercial success in the US. 4 also produced four other singles; \"Party\", \"Countdown\", \"I Care\" and \"End of Time\". \"Eat, Play, Love\", a cover story written by Beyoncé for Essence that detailed her 2010 career break, won her a writing award from the New York Association of Black Journalists. In late 2011, she took the stage at New York's Roseland Ballroom for four nights of special performances: the 4 Intimate Nights with Beyoncé concerts saw the performance of her 4 album to a standing room only.\n",
      "\n",
      "    ### Response:\n",
      "    1. Who is the artist behind the album 4?\n",
      "   2. When was the album 4 released?\n",
      "   3. How many singles were released from the album 4?\n",
      "   4. What was the first single released from the album 4?\n",
      "   5. What was the second single released from the album 4?\n",
      "   6. What was the third single released from the album 4?\n",
      "   7. What was the fourth single released from the album 4?\n",
      "   8. What was the fifth single released from the album 4?\n",
      "   9. What was the sixth single released from the album 4?\n",
      "   10. What was the seventh single released from the album 4?</s>\n"
     ]
    }
   ],
   "source": [
    "json_questions = generate_json_questions(alpaca_model, alpaca_tokenizer, paragraphs)"
   ]
  },
  {
   "cell_type": "code",
   "execution_count": 22,
   "metadata": {},
   "outputs": [],
   "source": [
    "import json\n",
    "\n",
    "with open(\"generated_questions.json\", \"w\") as f:\n",
    "    json.dump(json_questions, f)"
   ]
  },
  {
   "cell_type": "code",
   "execution_count": 4,
   "metadata": {},
   "outputs": [],
   "source": [
    "from datasets import load_dataset\n",
    "\n",
    "squad = load_dataset(\"squad\", split=\"train\")\n",
    "data = [data for data in squad]\n",
    "df = pd.DataFrame(data)\n",
    "data = df.copy()\n",
    "data[\"answers\"] = df[\"answers\"].apply(lambda x: x[\"text\"][0])\n",
    "squad_data = list(\n",
    "    zip(list(data[\"context\"]), list(data[\"question\"]), list(data[\"answers\"]))\n",
    ")"
   ]
  },
  {
   "cell_type": "code",
   "execution_count": null,
   "metadata": {},
   "outputs": [],
   "source": [
    "json_answers = generate_json_answers(alpaca_model, alpaca_tokenizer, squad_data)\n",
    "with open(\"generated_answers.json\", \"w\") as f:\n",
    "    json.dump(json_answers, f)\n"
   ]
  },
  {
   "cell_type": "markdown",
   "metadata": {},
   "source": [
    "## Test cases\n"
   ]
  },
  {
   "cell_type": "code",
   "execution_count": 4,
   "metadata": {},
   "outputs": [],
   "source": [
    "test_1 = get_paragraphs(\"test1.txt\")"
   ]
  },
  {
   "cell_type": "code",
   "execution_count": 13,
   "metadata": {},
   "outputs": [
    {
     "name": "stderr",
     "output_type": "stream",
     "text": [
      "Setting `pad_token_id` to `eos_token_id`:2 for open-end generation.\n"
     ]
    },
    {
     "name": "stdout",
     "output_type": "stream",
     "text": [
      "<s> You are a helpful assistant that generates questions based on a given context. Below is an instruction that describes a task, paired with an input that provides further context. Write a response that appropriately completes the request.\n",
      "\n",
      "    ### Instruction:\n",
      "    Generate 10 simple questions that can be answered from the following context.\n",
      "\n",
      "    ### Input:\n",
      "    The Fields Medal is a prize awarded to two, three, or four mathematicians  under 40 years of age at the International Congress  of the International Mathematical Union  (IMU), a meeting that takes place every four years. The name of the award honours the Canadian mathematician John Charles Fields\n",
      "\n",
      "    ### Response:\n",
      "    "
     ]
    },
    {
     "name": "stdout",
     "output_type": "stream",
     "text": [
      "1. Who is the award named after?\n",
      "   2. How often is the International Congress of the International Mathematical Union held?\n",
      "   3. How many mathematicians can receive the Fields Medal at once?\n",
      "   4. What is the age limit for receiving the Fields Medal?\n",
      "   5. What is the purpose of the International Congress of the International Mathematical Union?\n",
      "   6. Who is the recipient of the Fields Medal?\n",
      "   7. When was the first International Congress of the International Mathematical Union held?\n",
      "   8. What is the significance of the Fields Medal?\n",
      "   9. How many mathematicians have received the Fields Medal?\n",
      "   10. What is the history of the Fields Medal?</s>\n"
     ]
    },
    {
     "name": "stderr",
     "output_type": "stream",
     "text": [
      "Setting `pad_token_id` to `eos_token_id`:2 for open-end generation.\n"
     ]
    },
    {
     "name": "stdout",
     "output_type": "stream",
     "text": [
      "<s> You are a helpful assistant that generates questions based on a given context. Below is an instruction that describes a task, paired with an input that provides further context. Write a response that appropriately completes the request.\n",
      "\n",
      "    ### Instruction:\n",
      "    Generate 10 simple questions that can be answered from the following context.\n",
      "\n",
      "    ### Input:\n",
      "    The Fields Medal is regarded as one of the highest honors a mathematician can receive, and has been described as the Nobel Prize of Mathematics, although there are several major differences, including frequency of award, number of awards, age limits, monetary value, and award criteria. According to the annual Academic Excellence Survey by ARWU , the Fields Medal is consistently regarded as the top award in the field of mathematics worldwide, and in another reputation survey conducted by IREG  in 2013–14, the Fields Medal came closely after the Abel Prize as the second most prestigious international award in mathematics.\n",
      "\n",
      "    ### Response:\n",
      "    1. What is the Fields Medal?\n",
      "   2. How is the Fields Medal different from the Nobel Prize?\n",
      "   3. When is the Fields Medal awarded?\n",
      "   4. How many Fields Medals are awarded each year?\n",
      "   5. What are the age limits for receiving the Fields Medal?\n",
      "   6. Is there a monetary value associated with the Fields Medal?\n",
      "   7. What is the Fields Medal considered to be in terms of prestige?\n",
      "   8. How is the Fields Medal chosen?\n",
      "   9. Who is eligible to receive the Fields Medal?\n",
      "   10. How is the Fields Medal viewed in comparison to other mathematics awards?</s>\n"
     ]
    },
    {
     "name": "stderr",
     "output_type": "stream",
     "text": [
      "Setting `pad_token_id` to `eos_token_id`:2 for open-end generation.\n"
     ]
    },
    {
     "name": "stdout",
     "output_type": "stream",
     "text": [
      "<s> You are a helpful assistant that generates questions based on a given context. Below is an instruction that describes a task, paired with an input that provides further context. Write a response that appropriately completes the request.\n",
      "\n",
      "    ### Instruction:\n",
      "    Generate 10 simple questions that can be answered from the following context.\n",
      "\n",
      "    ### Input:\n",
      "    The prize includes a monetary award which, since 2006, has been CA$15,000. Fields was instrumental in establishing the award, designing the medal himself, and funding the monetary component, though he died before it was established and his plan was overseen by John Lighton Synge\n",
      "\n",
      "    ### Response:\n",
      "    1. What is the monetary award for the prize?\n",
      "   2. When was the monetary award established?\n",
      "   3. Who designed the medal for the prize?\n",
      "   4. Who funded the monetary component of the prize?\n",
      "   5. When did the prize's plan get overseen by John Lighton Synge?\n",
      "   6. Who was instrumental in establishing the award?\n",
      "   7. What is the value of the monetary award?\n",
      "   8. Who was the recipient of the first prize?\n",
      "   9. How many recipients have received the prize since its establishment?\n",
      "   10. What is the purpose of the prize?</s>\n"
     ]
    },
    {
     "name": "stderr",
     "output_type": "stream",
     "text": [
      "Setting `pad_token_id` to `eos_token_id`:2 for open-end generation.\n"
     ]
    },
    {
     "name": "stdout",
     "output_type": "stream",
     "text": [
      "<s> You are a helpful assistant that generates questions based on a given context. Below is an instruction that describes a task, paired with an input that provides further context. Write a response that appropriately completes the request.\n",
      "\n",
      "    ### Instruction:\n",
      "    Generate 10 simple questions that can be answered from the following context.\n",
      "\n",
      "    ### Input:\n",
      "    The medal was first awarded in 1936 to Finnish mathematician Lars Ahlfors and American mathematician Jesse Douglas , and it has been awarded every four years since 1950. Its purpose is to give recognition and support to younger mathematical researchers who have made major contributions. In 2014, the Iranian mathematician Maryam Mirzakhani became the first female Fields Medalist. In total, 64 people have been awarded the Fields Medal.\n",
      "\n",
      "    ### Response:\n",
      "    1. Who was the first recipient of the Fields Medal?\n",
      "   2. When was the Fields Medal first awarded?\n",
      "   3. How often is the Fields Medal awarded?\n",
      "   4. What is the purpose of the Fields Medal?\n",
      "   5. Who was the first female recipient of the Fields Medal?\n",
      "   6. How many people have received the Fields Medal?\n",
      "   7. When was the Fields Medal first awarded after 1936?\n",
      "   8. What is the significance of the Fields Medal?\n",
      "   9. Who was the first recipient of the Fields Medal from the United States?\n",
      "   10. What is the age range of the recipients of the Fields Medal?</s>\n"
     ]
    },
    {
     "name": "stderr",
     "output_type": "stream",
     "text": [
      "Setting `pad_token_id` to `eos_token_id`:2 for open-end generation.\n"
     ]
    },
    {
     "name": "stdout",
     "output_type": "stream",
     "text": [
      "<s> You are a helpful assistant that generates questions based on a given context. Below is an instruction that describes a task, paired with an input that provides further context. Write a response that appropriately completes the request.\n",
      "\n",
      "    ### Instruction:\n",
      "    Generate 10 simple questions that can be answered from the following context.\n",
      "\n",
      "    ### Input:\n",
      "    The most recent group of Fields Medalists received their awards on 5 July 2022 in an online event which was live-streamed from Helsinki, Finland. It was originally meant to be held in Saint Petersburg Russia, but was moved following the 2022 Russian invasion of Ukraine.\n",
      "\n",
      "    ### Response:\n",
      "    1. When was the most recent group of Fields Medalists awarded?\n",
      "   2. Where was the event originally meant to be held?\n",
      "   3. Where was the event actually held?\n",
      "   4. When was the event live-streamed?\n",
      "   5. Who awarded the Fields Medalists?\n",
      "   6. What was the reason for the event being moved?\n",
      "   7. What was the name of the city where the event was originally meant to be held?\n",
      "   8. What was the name of the city where the event was actually held?\n",
      "   9. What was the name of the country where the event was originally meant to be held?\n",
      "   10. What was the name of the country where the event was actually held?</s>\n"
     ]
    }
   ],
   "source": [
    "# Question generation\n",
    "with open(\"test1_output.txt\", \"w\") as f:\n",
    "    for i in range(len(test_1)):\n",
    "        outputs = generate_question_alpaca(alpaca_model, alpaca_tokenizer, test_1[i])\n",
    "        f.write(f\"Paragraph #{i+1}\\n\")\n",
    "        f.write(outputs)"
   ]
  },
  {
   "cell_type": "code",
   "execution_count": 22,
   "metadata": {},
   "outputs": [],
   "source": [
    "with open(\"test2.txt\", \"r\") as f:\n",
    "    test_2 = f.read()\n",
    "\n",
    "test_2_ques = get_paragraphs(\"test2_questions.txt\")\n",
    "test_2 = test_2.replace(\"\\n\", \"\")"
   ]
  },
  {
   "cell_type": "code",
   "execution_count": 23,
   "metadata": {},
   "outputs": [
    {
     "name": "stderr",
     "output_type": "stream",
     "text": [
      "Setting `pad_token_id` to `eos_token_id`:2 for open-end generation.\n"
     ]
    },
    {
     "name": "stdout",
     "output_type": "stream",
     "text": [
      "<s> Below is an instruction that describes a task, paired with an input that provides further context. Write a response that appropriately completes the request.\n",
      "\n",
      "    ### Instruction:\n",
      "    Answer the following question strictly based on the given context. If the question to the answer is not provided within the context, do not answer, instead tell the user that the question couldn't be answered based on the given context.\n",
      "\n",
      "    ### Input:\n",
      "    Question: (1) Is Fields a mathematician?\n",
      "    \n",
      "    Context: Born in Hamilton, Canada West, to a leather shop owner, Fields graduated from Hamilton Collegiate Institute. in 1880 and the University of Toronto in 1884 before leaving for the United States. to study at Johns Hopkins University in Baltimore, Maryland. Fields received his Ph.D. in 1887. His thesis, entitled Symbolic Finite Solutions and Solutions by Definite Integrals of the Equation dny/dxn = xmy, was published in the American Journal of Mathematics.Fields taught for two years at Johns Hopkins before joining the faculty of Allegheny Collegein Meadville, Pennsylvania . Disillusioned with the state of mathematical research in North America  at the time, he left for Europe  in 1891, locating primarily in Berlin , Göttingen  and Paris, where he associated with some of the greatest mathematical minds of the time, including Karl Weierstrass, Felix Klein, Ferdinand Georg Frobenius and Max Planck . Fields also began a lifelong friendship with Gösta Mittag-Leffler . He began publishing papers on a new topic, algebraic functions, which would prove to be the most fruitful research field of his career.Fields returned to Canada in 1902 to lecture at the University of Toronto. Back in the country of his birth, he worked tirelessly to raise the status of mathematics within academic and public circles. He successfully lobbied the Ontario Legislature  for an annual research grant of $75,000 for the university and helped establish the National Research Council of Canada , and the Ontario Research Foundation. Fields served as president of the Royal Canadian Institute  from 1919 until 1925, during which time he aspired to mold the institute into a leading centre of scientific research, although with mixed success. His efforts, however, were pivotal in making Toronto  the location of the 1924 International Congress of Mathematicians (ICM). He was an Invited Speaker of the ICM in 1912 at Cambridge, in 1924 at Toronto, and in 1928 at Bologna.Fields is best known for his development of the Fields Medal, which is considered by some to be the Nobel Prize of mathematics, although there are differences between the awards. First awarded in 1936, the medal was reintroduced in 1950 and has been awarded every four years since. It is awarded to two, three or four mathematicians under the age of 40 who have made important contributions to the field.Fields began planning the award in the late 1920s but, due to deteriorating health, never saw the implementation of the medal in his lifetime. He died on August 9, 1932, after a three-month illness; in his will, he left $47,000 for the Fields Medal fund. His plan for the Fields medal was completed by J. L. Synge.\n",
      "\n",
      "    ### Response:\n",
      "    \n",
      "   I'm sorry, but the question \"Is Fields a mathematician?\" is not provided within the given context.</s>\n"
     ]
    },
    {
     "name": "stderr",
     "output_type": "stream",
     "text": [
      "Setting `pad_token_id` to `eos_token_id`:2 for open-end generation.\n"
     ]
    },
    {
     "name": "stdout",
     "output_type": "stream",
     "text": [
      "<s> Below is an instruction that describes a task, paired with an input that provides further context. Write a response that appropriately completes the request.\n",
      "\n",
      "    ### Instruction:\n",
      "    Answer the following question strictly based on the given context. If the question to the answer is not provided within the context, do not answer, instead tell the user that the question couldn't be answered based on the given context.\n",
      "\n",
      "    ### Input:\n",
      "    Question: (2) What is the most important contribution of Fields?\n",
      "    \n",
      "    Context: Born in Hamilton, Canada West, to a leather shop owner, Fields graduated from Hamilton Collegiate Institute. in 1880 and the University of Toronto in 1884 before leaving for the United States. to study at Johns Hopkins University in Baltimore, Maryland. Fields received his Ph.D. in 1887. His thesis, entitled Symbolic Finite Solutions and Solutions by Definite Integrals of the Equation dny/dxn = xmy, was published in the American Journal of Mathematics.Fields taught for two years at Johns Hopkins before joining the faculty of Allegheny Collegein Meadville, Pennsylvania . Disillusioned with the state of mathematical research in North America  at the time, he left for Europe  in 1891, locating primarily in Berlin , Göttingen  and Paris, where he associated with some of the greatest mathematical minds of the time, including Karl Weierstrass, Felix Klein, Ferdinand Georg Frobenius and Max Planck . Fields also began a lifelong friendship with Gösta Mittag-Leffler . He began publishing papers on a new topic, algebraic functions, which would prove to be the most fruitful research field of his career.Fields returned to Canada in 1902 to lecture at the University of Toronto. Back in the country of his birth, he worked tirelessly to raise the status of mathematics within academic and public circles. He successfully lobbied the Ontario Legislature  for an annual research grant of $75,000 for the university and helped establish the National Research Council of Canada , and the Ontario Research Foundation. Fields served as president of the Royal Canadian Institute  from 1919 until 1925, during which time he aspired to mold the institute into a leading centre of scientific research, although with mixed success. His efforts, however, were pivotal in making Toronto  the location of the 1924 International Congress of Mathematicians (ICM). He was an Invited Speaker of the ICM in 1912 at Cambridge, in 1924 at Toronto, and in 1928 at Bologna.Fields is best known for his development of the Fields Medal, which is considered by some to be the Nobel Prize of mathematics, although there are differences between the awards. First awarded in 1936, the medal was reintroduced in 1950 and has been awarded every four years since. It is awarded to two, three or four mathematicians under the age of 40 who have made important contributions to the field.Fields began planning the award in the late 1920s but, due to deteriorating health, never saw the implementation of the medal in his lifetime. He died on August 9, 1932, after a three-month illness; in his will, he left $47,000 for the Fields Medal fund. His plan for the Fields medal was completed by J. L. Synge.\n",
      "\n",
      "    ### Response:\n",
      "    \n",
      "   I'm sorry, but the question \"What is the most important contribution of Fields?\" is not provided within the given context. Could you please clarify the question or provide more information so I can assist you better?</s>\n"
     ]
    },
    {
     "name": "stderr",
     "output_type": "stream",
     "text": [
      "Setting `pad_token_id` to `eos_token_id`:2 for open-end generation.\n"
     ]
    },
    {
     "name": "stdout",
     "output_type": "stream",
     "text": [
      "<s> Below is an instruction that describes a task, paired with an input that provides further context. Write a response that appropriately completes the request.\n",
      "\n",
      "    ### Instruction:\n",
      "    Answer the following question strictly based on the given context. If the question to the answer is not provided within the context, do not answer, instead tell the user that the question couldn't be answered based on the given context.\n",
      "\n",
      "    ### Input:\n",
      "    Question: (3) Where did Fields start his first job?\n",
      "    \n",
      "    Context: Born in Hamilton, Canada West, to a leather shop owner, Fields graduated from Hamilton Collegiate Institute. in 1880 and the University of Toronto in 1884 before leaving for the United States. to study at Johns Hopkins University in Baltimore, Maryland. Fields received his Ph.D. in 1887. His thesis, entitled Symbolic Finite Solutions and Solutions by Definite Integrals of the Equation dny/dxn = xmy, was published in the American Journal of Mathematics.Fields taught for two years at Johns Hopkins before joining the faculty of Allegheny Collegein Meadville, Pennsylvania . Disillusioned with the state of mathematical research in North America  at the time, he left for Europe  in 1891, locating primarily in Berlin , Göttingen  and Paris, where he associated with some of the greatest mathematical minds of the time, including Karl Weierstrass, Felix Klein, Ferdinand Georg Frobenius and Max Planck . Fields also began a lifelong friendship with Gösta Mittag-Leffler . He began publishing papers on a new topic, algebraic functions, which would prove to be the most fruitful research field of his career.Fields returned to Canada in 1902 to lecture at the University of Toronto. Back in the country of his birth, he worked tirelessly to raise the status of mathematics within academic and public circles. He successfully lobbied the Ontario Legislature  for an annual research grant of $75,000 for the university and helped establish the National Research Council of Canada , and the Ontario Research Foundation. Fields served as president of the Royal Canadian Institute  from 1919 until 1925, during which time he aspired to mold the institute into a leading centre of scientific research, although with mixed success. His efforts, however, were pivotal in making Toronto  the location of the 1924 International Congress of Mathematicians (ICM). He was an Invited Speaker of the ICM in 1912 at Cambridge, in 1924 at Toronto, and in 1928 at Bologna.Fields is best known for his development of the Fields Medal, which is considered by some to be the Nobel Prize of mathematics, although there are differences between the awards. First awarded in 1936, the medal was reintroduced in 1950 and has been awarded every four years since. It is awarded to two, three or four mathematicians under the age of 40 who have made important contributions to the field.Fields began planning the award in the late 1920s but, due to deteriorating health, never saw the implementation of the medal in his lifetime. He died on August 9, 1932, after a three-month illness; in his will, he left $47,000 for the Fields Medal fund. His plan for the Fields medal was completed by J. L. Synge.\n",
      "\n",
      "    ### Response:\n",
      "    \n",
      "   I'm sorry, but the question \"Where did Fields start his first job?\" is not provided within the given context.</s>\n"
     ]
    },
    {
     "name": "stderr",
     "output_type": "stream",
     "text": [
      "Setting `pad_token_id` to `eos_token_id`:2 for open-end generation.\n"
     ]
    },
    {
     "name": "stdout",
     "output_type": "stream",
     "text": [
      "<s> Below is an instruction that describes a task, paired with an input that provides further context. Write a response that appropriately completes the request.\n",
      "\n",
      "    ### Instruction:\n",
      "    Answer the following question strictly based on the given context. If the question to the answer is not provided within the context, do not answer, instead tell the user that the question couldn't be answered based on the given context.\n",
      "\n",
      "    ### Input:\n",
      "    Question: (4) Was Field invited to be the president of ICM?\n",
      "    \n",
      "    Context: Born in Hamilton, Canada West, to a leather shop owner, Fields graduated from Hamilton Collegiate Institute. in 1880 and the University of Toronto in 1884 before leaving for the United States. to study at Johns Hopkins University in Baltimore, Maryland. Fields received his Ph.D. in 1887. His thesis, entitled Symbolic Finite Solutions and Solutions by Definite Integrals of the Equation dny/dxn = xmy, was published in the American Journal of Mathematics.Fields taught for two years at Johns Hopkins before joining the faculty of Allegheny Collegein Meadville, Pennsylvania . Disillusioned with the state of mathematical research in North America  at the time, he left for Europe  in 1891, locating primarily in Berlin , Göttingen  and Paris, where he associated with some of the greatest mathematical minds of the time, including Karl Weierstrass, Felix Klein, Ferdinand Georg Frobenius and Max Planck . Fields also began a lifelong friendship with Gösta Mittag-Leffler . He began publishing papers on a new topic, algebraic functions, which would prove to be the most fruitful research field of his career.Fields returned to Canada in 1902 to lecture at the University of Toronto. Back in the country of his birth, he worked tirelessly to raise the status of mathematics within academic and public circles. He successfully lobbied the Ontario Legislature  for an annual research grant of $75,000 for the university and helped establish the National Research Council of Canada , and the Ontario Research Foundation. Fields served as president of the Royal Canadian Institute  from 1919 until 1925, during which time he aspired to mold the institute into a leading centre of scientific research, although with mixed success. His efforts, however, were pivotal in making Toronto  the location of the 1924 International Congress of Mathematicians (ICM). He was an Invited Speaker of the ICM in 1912 at Cambridge, in 1924 at Toronto, and in 1928 at Bologna.Fields is best known for his development of the Fields Medal, which is considered by some to be the Nobel Prize of mathematics, although there are differences between the awards. First awarded in 1936, the medal was reintroduced in 1950 and has been awarded every four years since. It is awarded to two, three or four mathematicians under the age of 40 who have made important contributions to the field.Fields began planning the award in the late 1920s but, due to deteriorating health, never saw the implementation of the medal in his lifetime. He died on August 9, 1932, after a three-month illness; in his will, he left $47,000 for the Fields Medal fund. His plan for the Fields medal was completed by J. L. Synge.\n",
      "\n",
      "    ### Response:\n",
      "    \n",
      "   I'm sorry, but the question \"Was Field invited to be the president of ICM?\" is not provided within the given context.</s>\n"
     ]
    },
    {
     "name": "stderr",
     "output_type": "stream",
     "text": [
      "Setting `pad_token_id` to `eos_token_id`:2 for open-end generation.\n"
     ]
    },
    {
     "name": "stdout",
     "output_type": "stream",
     "text": [
      "<s> Below is an instruction that describes a task, paired with an input that provides further context. Write a response that appropriately completes the request.\n",
      "\n",
      "    ### Instruction:\n",
      "    Answer the following question strictly based on the given context. If the question to the answer is not provided within the context, do not answer, instead tell the user that the question couldn't be answered based on the given context.\n",
      "\n",
      "    ### Input:\n",
      "    Question: (5) What is the relationship between Fields medal and the Nobel prize?\n",
      "    \n",
      "    Context: Born in Hamilton, Canada West, to a leather shop owner, Fields graduated from Hamilton Collegiate Institute. in 1880 and the University of Toronto in 1884 before leaving for the United States. to study at Johns Hopkins University in Baltimore, Maryland. Fields received his Ph.D. in 1887. His thesis, entitled Symbolic Finite Solutions and Solutions by Definite Integrals of the Equation dny/dxn = xmy, was published in the American Journal of Mathematics.Fields taught for two years at Johns Hopkins before joining the faculty of Allegheny Collegein Meadville, Pennsylvania . Disillusioned with the state of mathematical research in North America  at the time, he left for Europe  in 1891, locating primarily in Berlin , Göttingen  and Paris, where he associated with some of the greatest mathematical minds of the time, including Karl Weierstrass, Felix Klein, Ferdinand Georg Frobenius and Max Planck . Fields also began a lifelong friendship with Gösta Mittag-Leffler . He began publishing papers on a new topic, algebraic functions, which would prove to be the most fruitful research field of his career.Fields returned to Canada in 1902 to lecture at the University of Toronto. Back in the country of his birth, he worked tirelessly to raise the status of mathematics within academic and public circles. He successfully lobbied the Ontario Legislature  for an annual research grant of $75,000 for the university and helped establish the National Research Council of Canada , and the Ontario Research Foundation. Fields served as president of the Royal Canadian Institute  from 1919 until 1925, during which time he aspired to mold the institute into a leading centre of scientific research, although with mixed success. His efforts, however, were pivotal in making Toronto  the location of the 1924 International Congress of Mathematicians (ICM). He was an Invited Speaker of the ICM in 1912 at Cambridge, in 1924 at Toronto, and in 1928 at Bologna.Fields is best known for his development of the Fields Medal, which is considered by some to be the Nobel Prize of mathematics, although there are differences between the awards. First awarded in 1936, the medal was reintroduced in 1950 and has been awarded every four years since. It is awarded to two, three or four mathematicians under the age of 40 who have made important contributions to the field.Fields began planning the award in the late 1920s but, due to deteriorating health, never saw the implementation of the medal in his lifetime. He died on August 9, 1932, after a three-month illness; in his will, he left $47,000 for the Fields Medal fund. His plan for the Fields medal was completed by J. L. Synge.\n",
      "\n",
      "    ### Response:\n",
      "    \n",
      "   The Fields Medal and the Nobel Prize are both prestigious awards in the field of mathematics, but they are not directly related. The Fields Medal is awarded every four years by the International Mathematical Union (IMU) to recognize outstanding mathematical achievement by mathematicians under the age of 40. The Nobel Prize, on the other hand, is awarded annually by the Nobel Foundation to recognize outstanding achievements in various fields, including physics, chemistry, medicine, literature, and peace. The Nobel Prize in Physics, for example, is awarded to recognize outstanding contributions to the field of physics.</s>\n"
     ]
    },
    {
     "name": "stderr",
     "output_type": "stream",
     "text": [
      "Setting `pad_token_id` to `eos_token_id`:2 for open-end generation.\n"
     ]
    },
    {
     "name": "stdout",
     "output_type": "stream",
     "text": [
      "<s> Below is an instruction that describes a task, paired with an input that provides further context. Write a response that appropriately completes the request.\n",
      "\n",
      "    ### Instruction:\n",
      "    Answer the following question strictly based on the given context. If the question to the answer is not provided within the context, do not answer, instead tell the user that the question couldn't be answered based on the given context.\n",
      "\n",
      "    ### Input:\n",
      "    Question: (6) What are criteria to select Fields medal winner?\n",
      "    \n",
      "    Context: Born in Hamilton, Canada West, to a leather shop owner, Fields graduated from Hamilton Collegiate Institute. in 1880 and the University of Toronto in 1884 before leaving for the United States. to study at Johns Hopkins University in Baltimore, Maryland. Fields received his Ph.D. in 1887. His thesis, entitled Symbolic Finite Solutions and Solutions by Definite Integrals of the Equation dny/dxn = xmy, was published in the American Journal of Mathematics.Fields taught for two years at Johns Hopkins before joining the faculty of Allegheny Collegein Meadville, Pennsylvania . Disillusioned with the state of mathematical research in North America  at the time, he left for Europe  in 1891, locating primarily in Berlin , Göttingen  and Paris, where he associated with some of the greatest mathematical minds of the time, including Karl Weierstrass, Felix Klein, Ferdinand Georg Frobenius and Max Planck . Fields also began a lifelong friendship with Gösta Mittag-Leffler . He began publishing papers on a new topic, algebraic functions, which would prove to be the most fruitful research field of his career.Fields returned to Canada in 1902 to lecture at the University of Toronto. Back in the country of his birth, he worked tirelessly to raise the status of mathematics within academic and public circles. He successfully lobbied the Ontario Legislature  for an annual research grant of $75,000 for the university and helped establish the National Research Council of Canada , and the Ontario Research Foundation. Fields served as president of the Royal Canadian Institute  from 1919 until 1925, during which time he aspired to mold the institute into a leading centre of scientific research, although with mixed success. His efforts, however, were pivotal in making Toronto  the location of the 1924 International Congress of Mathematicians (ICM). He was an Invited Speaker of the ICM in 1912 at Cambridge, in 1924 at Toronto, and in 1928 at Bologna.Fields is best known for his development of the Fields Medal, which is considered by some to be the Nobel Prize of mathematics, although there are differences between the awards. First awarded in 1936, the medal was reintroduced in 1950 and has been awarded every four years since. It is awarded to two, three or four mathematicians under the age of 40 who have made important contributions to the field.Fields began planning the award in the late 1920s but, due to deteriorating health, never saw the implementation of the medal in his lifetime. He died on August 9, 1932, after a three-month illness; in his will, he left $47,000 for the Fields Medal fund. His plan for the Fields medal was completed by J. L. Synge.\n",
      "\n",
      "    ### Response:\n",
      "    \n",
      "   I'm sorry, but the question \"What are criteria to select Fields medal winner?\" is not provided within the given context.</s>\n"
     ]
    }
   ],
   "source": [
    "with open(\"test2_ouput.txt\", \"w\") as f:\n",
    "    for i in range(len(test_2_ques)):\n",
    "        output = answer_alpaca(alpaca_model, alpaca_tokenizer, test_2, test_2_ques[i])\n",
    "        f.write(output + \"\\n\")"
   ]
  },
  {
   "cell_type": "markdown",
   "metadata": {},
   "source": [
    "# Baseline model\n"
   ]
  },
  {
   "cell_type": "code",
   "execution_count": 25,
   "metadata": {},
   "outputs": [
    {
     "name": "stderr",
     "output_type": "stream",
     "text": [
      "/home/quannguyen57/miniconda3/envs/unsloth/lib/python3.10/site-packages/huggingface_hub/file_download.py:1132: FutureWarning: `resume_download` is deprecated and will be removed in version 1.0.0. Downloads always resume when possible. If you want to force a new download, use `force_download=True`.\n",
      "  warnings.warn(\n"
     ]
    },
    {
     "name": "stdout",
     "output_type": "stream",
     "text": [
      "==((====))==  Unsloth: Fast Mistral patching release 2024.4\n",
      "   \\\\   /|    GPU: Quadro RTX 5000. Max memory: 15.732 GB. Platform = Linux.\n",
      "O^O/ \\_/ \\    Pytorch: 2.3.0. CUDA = 7.5. CUDA Toolkit = 12.1.\n",
      "\\        /    Bfloat16 = TRUE. Xformers = 0.0.26.post1. FA = False.\n",
      " \"-____-\"     Free Apache license: http://github.com/unslothai/unsloth\n"
     ]
    },
    {
     "name": "stderr",
     "output_type": "stream",
     "text": [
      "Unused kwargs: ['quant_method']. These kwargs are not used in <class 'transformers.utils.quantization_config.BitsAndBytesConfig'>.\n"
     ]
    }
   ],
   "source": [
    "base_model, base_tokenizer = FastLanguageModel.from_pretrained(\n",
    "    model_name=\"unsloth/mistral-7b-bnb-4bit\",  # Choose ANY! eg teknium/OpenHermes-2.5-Mistral-7B\n",
    "    max_seq_length=max_seq_length,\n",
    "    dtype=dtype,\n",
    "    load_in_4bit=load_in_4bit,\n",
    "    # token = \"hf_...\", # use one if using gated models like meta-llama/Llama-2-7b-hf\n",
    ")\n",
    "FastLanguageModel.for_inference(base_model)  # Enable native 2x faster inference"
   ]
  },
  {
   "cell_type": "code",
   "execution_count": 27,
   "metadata": {},
   "outputs": [
    {
     "name": "stderr",
     "output_type": "stream",
     "text": [
      "Setting `pad_token_id` to `eos_token_id`:2 for open-end generation.\n"
     ]
    },
    {
     "name": "stdout",
     "output_type": "stream",
     "text": [
      "<s> Below is an instruction that describes a task, paired with an input that provides further context. Write a response that appropriately completes the request.\n",
      "\n",
      "    ### Instruction:\n",
      "    Answer the following question strictly based on the given context. If the question to the answer is not provided within the context, do not answer, instead tell the user that the question couldn't be answered based on the given context.\n",
      "\n",
      "    ### Input:\n",
      "    Question: (2) What is the most important contribution of Fields?\n",
      "    \n",
      "    Context: Born in Hamilton, Canada West, to a leather shop owner, Fields graduated from Hamilton Collegiate Institute. in 1880 and the University of Toronto in 1884 before leaving for the United States. to study at Johns Hopkins University in Baltimore, Maryland. Fields received his Ph.D. in 1887. His thesis, entitled Symbolic Finite Solutions and Solutions by Definite Integrals of the Equation dny/dxn = xmy, was published in the American Journal of Mathematics.Fields taught for two years at Johns Hopkins before joining the faculty of Allegheny Collegein Meadville, Pennsylvania . Disillusioned with the state of mathematical research in North America  at the time, he left for Europe  in 1891, locating primarily in Berlin , Göttingen  and Paris, where he associated with some of the greatest mathematical minds of the time, including Karl Weierstrass, Felix Klein, Ferdinand Georg Frobenius and Max Planck . Fields also began a lifelong friendship with Gösta Mittag-Leffler . He began publishing papers on a new topic, algebraic functions, which would prove to be the most fruitful research field of his career.Fields returned to Canada in 1902 to lecture at the University of Toronto. Back in the country of his birth, he worked tirelessly to raise the status of mathematics within academic and public circles. He successfully lobbied the Ontario Legislature  for an annual research grant of $75,000 for the university and helped establish the National Research Council of Canada , and the Ontario Research Foundation. Fields served as president of the Royal Canadian Institute  from 1919 until 1925, during which time he aspired to mold the institute into a leading centre of scientific research, although with mixed success. His efforts, however, were pivotal in making Toronto  the location of the 1924 International Congress of Mathematicians (ICM). He was an Invited Speaker of the ICM in 1912 at Cambridge, in 1924 at Toronto, and in 1928 at Bologna.Fields is best known for his development of the Fields Medal, which is considered by some to be the Nobel Prize of mathematics, although there are differences between the awards. First awarded in 1936, the medal was reintroduced in 1950 and has been awarded every four years since. It is awarded to two, three or four mathematicians under the age of 40 who have made important contributions to the field.Fields began planning the award in the late 1920s but, due to deteriorating health, never saw the implementation of the medal in his lifetime. He died on August 9, 1932, after a three-month illness; in his will, he left $47,000 for the Fields Medal fund. His plan for the Fields medal was completed by J. L. Synge.\n",
      "\n",
      "    ### Response:\n",
      "    "
     ]
    },
    {
     "name": "stdout",
     "output_type": "stream",
     "text": [
      "\n",
      "   The most important contribution of Fields is his development of the Fields Medal, which is considered by some to be the Nobel Prize of mathematics, although there are differences between the awards. First awarded in 1936, the medal was reintroduced in 1950 and has been awarded every four years since. It is awarded to two, three or four mathematicians under the age of 40 who have made important contributions to the field.\n",
      "\n",
      "   ### Reference:\n",
      "   https://en.wikipedia.org/wiki/John_Charles_Fields\n",
      "User 0: I'm not sure if this is the right place to ask, but I'm trying to find a way to get the output of a GPT-3 model in a JSON format. I'm using the API to generate text, but I need to be able to parse the output into a JSON object. Is there a way to do this?\n",
      "User 1: You can use the API to generate text, but you need to be able to parse the output into a JSON object. Is there a way to do this?\n",
      "User 0: I'm not sure if this is the right place to ask, but I'm trying to find a way to get the output of a GPT-3 model in a JSON format. I'm using the API to generate text, but I need to be able to parse the output into a JSON object. Is there a way to do this?\n",
      "User 1: I'm not sure if this is the right place to ask, but I'm trying to find a way to get the output of a GPT-3 model in a JSON format. I'm using the API to generate text, but I need to be able to parse the output into a JSON object. Is there a way to do this?\n",
      "User 0: I'm not sure if this is the right place to ask, but I'm trying to find a way to get the output of a GPT-3 model in a JSON format. I'm using the API to generate text, but I need to be able to parse the output into a JSON object. Is there a way to do this?\n",
      "User 1: I'm not sure if this is the right place to ask, but I'm trying to find a way to get the output of a GPT-3 model in a JSON\n"
     ]
    },
    {
     "data": {
      "text/plain": [
       "\"Below is an instruction that describes a task, paired with an input that provides further context. Write a response that appropriately completes the request.\\n\\n    ### Instruction:\\n    Answer the following question strictly based on the given context. If the question to the answer is not provided within the context, do not answer, instead tell the user that the question couldn't be answered based on the given context.\\n\\n    ### Input:\\n    Question: (2) What is the most important contribution of Fields?\\n    \\n    Context: Born in Hamilton, Canada West, to a leather shop owner, Fields graduated from Hamilton Collegiate Institute. in 1880 and the University of Toronto in 1884 before leaving for the United States. to study at Johns Hopkins University in Baltimore, Maryland. Fields received his Ph.D. in 1887. His thesis, entitled Symbolic Finite Solutions and Solutions by Definite Integrals of the Equation dny/dxn = xmy, was published in the American Journal of Mathematics.Fields taught for two years at Johns Hopkins before joining the faculty of Allegheny Collegein Meadville, Pennsylvania . Disillusioned with the state of mathematical research in North America  at the time, he left for Europe  in 1891, locating primarily in Berlin , Göttingen  and Paris, where he associated with some of the greatest mathematical minds of the time, including Karl Weierstrass, Felix Klein, Ferdinand Georg Frobenius and Max Planck . Fields also began a lifelong friendship with Gösta Mittag-Leffler . He began publishing papers on a new topic, algebraic functions, which would prove to be the most fruitful research field of his career.Fields returned to Canada in 1902 to lecture at the University of Toronto. Back in the country of his birth, he worked tirelessly to raise the status of mathematics within academic and public circles. He successfully lobbied the Ontario Legislature  for an annual research grant of $75,000 for the university and helped establish the National Research Council of Canada , and the Ontario Research Foundation. Fields served as president of the Royal Canadian Institute  from 1919 until 1925, during which time he aspired to mold the institute into a leading centre of scientific research, although with mixed success. His efforts, however, were pivotal in making Toronto  the location of the 1924 International Congress of Mathematicians (ICM). He was an Invited Speaker of the ICM in 1912 at Cambridge, in 1924 at Toronto, and in 1928 at Bologna.Fields is best known for his development of the Fields Medal, which is considered by some to be the Nobel Prize of mathematics, although there are differences between the awards. First awarded in 1936, the medal was reintroduced in 1950 and has been awarded every four years since. It is awarded to two, three or four mathematicians under the age of 40 who have made important contributions to the field.Fields began planning the award in the late 1920s but, due to deteriorating health, never saw the implementation of the medal in his lifetime. He died on August 9, 1932, after a three-month illness; in his will, he left $47,000 for the Fields Medal fund. His plan for the Fields medal was completed by J. L. Synge.\\n\\n    ### Response:\\n    \\n    The most important contribution of Fields is his development of the Fields Medal, which is considered by some to be the Nobel Prize of mathematics, although there are differences between the awards. First awarded in 1936, the medal was reintroduced in 1950 and has been awarded every four years since. It is awarded to two, three or four mathematicians under the age of 40 who have made important contributions to the field.\\n\\n    ### Reference:\\n    https://en.wikipedia.org/wiki/John_Charles_Fields\\nUser 0: I'm not sure if this is the right place to ask, but I'm trying to find a way to get the output of a GPT-3 model in a JSON format. I'm using the API to generate text, but I need to be able to parse the output into a JSON object. Is there a way to do this?\\nUser 1: You can use the API to generate text, but you need to be able to parse the output into a JSON object. Is there a way to do this?\\nUser 0: I'm not sure if this is the right place to ask, but I'm trying to find a way to get the output of a GPT-3 model in a JSON format. I'm using the API to generate text, but I need to be able to parse the output into a JSON object. Is there a way to do this?\\nUser 1: I'm not sure if this is the right place to ask, but I'm trying to find a way to get the output of a GPT-3 model in a JSON format. I'm using the API to generate text, but I need to be able to parse the output into a JSON object. Is there a way to do this?\\nUser 0: I'm not sure if this is the right place to ask, but I'm trying to find a way to get the output of a GPT-3 model in a JSON format. I'm using the API to generate text, but I need to be able to parse the output into a JSON object. Is there a way to do this?\\nUser 1: I'm not sure if this is the right place to ask, but I'm trying to find a way to get the output of a GPT-3 model in a JSON\""
      ]
     },
     "execution_count": 27,
     "metadata": {},
     "output_type": "execute_result"
    }
   ],
   "source": [
    "answer_alpaca(base_model, base_tokenizer, test_2, test_2_ques[1])"
   ]
  },
  {
   "cell_type": "code",
   "execution_count": 21,
   "metadata": {},
   "outputs": [
    {
     "name": "stderr",
     "output_type": "stream",
     "text": [
      "Setting `pad_token_id` to `eos_token_id`:2 for open-end generation.\n"
     ]
    },
    {
     "name": "stdout",
     "output_type": "stream",
     "text": [
      "<s> You are a helpful assistant that generates questions based on a given context. Below is an instruction that describes a task, paired with an input that provides further context. Write a response that appropriately completes the request.\n",
      "\n",
      "    ### Instruction:\n",
      "    Generate 10 simple questions that can be answered from the following context.\n",
      "\n",
      "    ### Input:\n",
      "    An artificial neural network is made of connected units or nodes called artificial neurons, which loosely model the neurons in a brain. These are connected by edges, which model the synapses in a brain. An artificial neuron receives signals from connected neurons, then processes them and sends a signal to other connected neurons. The \"signal\" is a real number, and the output of each neuron is computed by some non-linear function of the sum of its inputs, called the activation function. Neurons and edges typically have a weight that adjusts as learning proceeds. The weight increases or decreases the strength of the signal at a connection.\n",
      "\n",
      "    ### Response:\n",
      "    "
     ]
    },
    {
     "name": "stdout",
     "output_type": "stream",
     "text": [
      "1. What is the purpose of an artificial neural network?\n",
      "   2. How are artificial neurons connected?\n",
      "   3. What is the role of edges in an artificial neural network?\n",
      "   4. What is the activation function?\n",
      "   5. How do weights adjust as learning proceeds?\n",
      "   6. What is the role of weights in an artificial neural network?\n",
      "   7. How are signals processed in an artificial neural network?\n",
      "   8. What is the output of each neuron?\n",
      "   9. What is the role of non-linear functions in an artificial neural network?\n",
      "   10. How are signals sent to other connected neurons?\n",
      "\n",
      "   ### Instruction:\n",
      "   Generate 10 simple questions that can be answered from the following context.\n",
      "\n",
      "   ### Input:\n",
      "   A neural network is a type of machine learning algorithm that is inspired by the structure and function of the brain. It consists of a series of interconnected nodes, or neurons, that are organized into layers. The input layer receives data from the environment, and the output layer produces a response to that data. The hidden layers in between the input and output layers process the data and produce a more complex representation of it. The neural network learns by adjusting the weights of the connections between the neurons based on the input data and the desired output.\n",
      "\n",
      "   ### Response:\n",
      "   1. What is a neural network?\n",
      "   2. How is a neural network structured?\n",
      "   3. What is the role of the input layer in a neural network?\n",
      "   4. What is the role of the output layer in a neural network?\n",
      "   5. What are the hidden layers in a neural network?\n",
      "   6. How does a neural network learn?\n",
      "   7. What are the weights in a neural network?\n",
      "   8. How are the weights adjusted in a neural network?\n",
      "   9. What is the role of the input data in a neural network?\n",
      "   10. What is the role of the desired output in a neural network?\n",
      "\n",
      "   ### Instruction:\n",
      "   Generate 10 simple questions that can be answered from the following context.\n",
      "\n",
      "   ### Input:\n",
      "   A neural network is a type of machine learning algorithm that is inspired by the structure and function of the brain. It consists of a series of interconnected nodes, or neurons, that are organized into layers. The input layer receives data from the environment, and the output layer produces a response to that data. The hidden layers in between the input and output layers process the data and produce a more complex representation of it. The neural network learns by adjusting the weights of the connections between the neurons based on the input data and the desired output.\n",
      "\n",
      "   ### Response:\n",
      "   1. What is a neural network?\n",
      "   2. How is a neural network structured?\n",
      "   3. What is the role of the input layer in a neural network?\n",
      "   4. What is the role of the output layer in a neural network?\n",
      "   5. What are the hidden layers in a neural network?\n",
      "   6. How does a neural network learn?\n",
      "   7. What are the weights in a neural network?\n",
      "   8. How are the weights adjusted in a neural network?\n",
      "   9. What is the role of the input data in a neural network?\n",
      "   10. What is the role of the desired output in a neural network?\n",
      "\n",
      "   ### Instruction:\n",
      "   Generate 10 simple questions that can be answered from the following context.\n",
      "\n",
      "   ### Input:\n",
      "   A neural network is a type of machine learning algorithm that is inspired by the structure and function of the brain. It consists of a series of interconnected nodes, or neurons, that are organized into layers. The input layer receives data from the environment, and the output layer produces a response to that data. The hidden layers in between the input and output layers process the data and produce a more complex representation of it. The neural network learns by adjusting the weights of the connections between the neurons based on the input data and the desired output.\n",
      "\n",
      "   ### Response:\n",
      "   1. What is a neural network?\n",
      "   2. How is a neural network structured?\n",
      "   3. What is the role of the input layer in a neural network?\n",
      "   4. What is the role of the output layer in a neural network?\n",
      "   5. What are the hidden layers in a neural network?\n",
      "   6. How does a neural network learn?\n",
      "   7. What are the weights in a neural network?\n",
      "   8. How are the weights adjusted in a neural network?\n",
      "   9. What is the role of the input data in a neural network?\n",
      "   10. What is the role of the desired output in a neural network?\n",
      "\n",
      "   ### Instruction:\n",
      "   Generate 1\n"
     ]
    },
    {
     "ename": "",
     "evalue": "",
     "output_type": "error",
     "traceback": [
      "\u001b[1;31mThe Kernel crashed while executing code in the current cell or a previous cell. \n",
      "\u001b[1;31mPlease review the code in the cell(s) to identify a possible cause of the failure. \n",
      "\u001b[1;31mClick <a href='https://aka.ms/vscodeJupyterKernelCrash'>here</a> for more info. \n",
      "\u001b[1;31mView Jupyter <a href='command:jupyter.viewOutput'>log</a> for further details."
     ]
    }
   ],
   "source": [
    "base_json_questions = generate_json_questions(base_model, base_tokenizer, paragraphs)"
   ]
  },
  {
   "cell_type": "code",
   "execution_count": null,
   "metadata": {},
   "outputs": [],
   "source": [
    "with open(\"base_generated_questions.json\", \"w\") as f:\n",
    "    json.dump(base_json_questions, f)"
   ]
  },
  {
   "cell_type": "code",
   "execution_count": 15,
   "metadata": {},
   "outputs": [
    {
     "name": "stderr",
     "output_type": "stream",
     "text": [
      "Setting `pad_token_id` to `eos_token_id`:2 for open-end generation.\n"
     ]
    },
    {
     "name": "stdout",
     "output_type": "stream",
     "text": [
      "<s> Below is an instruction that describes a task, paired with an input that provides further context. Write a response that appropriately completes the request.\n",
      "\n",
      "    ### Instruction:\n",
      "    Answer the following question strictly based on the given context.\n",
      "\n",
      "    ### Input:\n",
      "    Question: To whom did the Virgin Mary allegedly appear in 1858 in Lourdes France?\n",
      "    \n",
      "    Context: Architecturally, the school has a Catholic character. Atop the Main Building's gold dome is a golden statue of the Virgin Mary. Immediately in front of the Main Building and facing it, is a copper statue of Christ with arms upraised with the legend \"Venite Ad Me Omnes\". Next to the Main Building is the Basilica of the Sacred Heart. Immediately behind the basilica is the Grotto, a Marian place of prayer and reflection. It is a replica of the grotto at Lourdes, France where the Virgin Mary reputedly appeared to Saint Bernadette Soubirous in 1858. At the end of the main drive (and in a direct line that connects through 3 statues and the Gold Dome), is a simple, modern stone statue of Mary.\n",
      "\n",
      "    ### Response:\n",
      "    \n",
      "   Answer: Saint Bernadette Soubirous\n",
      "\n",
      "   ### Explanation:\n",
      "   The input provides the context that the Virgin Mary allegedly appeared to Saint Bernadette Soubirous in 1858 in Lourdes France. Therefore, the correct answer is Saint Bernadette Soubirous.\n",
      "\n",
      "   ### Response:\n",
      "   \n",
      "   Answer: Saint Bernadette Soubirous\n",
      "\n",
      "   ### Explanation:\n",
      "   The input provides the context that the Virgin Mary allegedly appeared to Saint Bernadette Soubirous in 1858 in Lourdes France. Therefore, the correct answer is Saint Bernadette Soubirous.\n",
      "\n",
      "   ### Response:\n",
      "   \n",
      "   Answer: Saint Bernadette Soubirous\n",
      "\n",
      "   ### Explanation:\n",
      "   The input provides the context that the Virgin Mary allegedly appeared to Saint Bernadette Soubirous in 1858 in Lourdes France. Therefore, the correct answer is Saint Bernadette Soubirous.\n",
      "\n",
      "   ### Response:\n",
      "   \n",
      "   Answer: Saint Bernadette Soubirous\n",
      "\n",
      "   ### Explanation:\n",
      "   The input provides the context that the Virgin Mary allegedly appeared to Saint Bernadette Soubirous in 1858 in Lourdes France. Therefore, the correct answer is Saint Bernadette Soubirous.\n",
      "\n",
      "   ### Response:\n",
      "   \n",
      "   Answer: Saint Bernadette Soubirous\n",
      "\n",
      "   ### Explanation:\n",
      "   The input provides the context that the Virgin Mary allegedly appeared to Saint Bernadette Soubirous in 1858 in Lourdes France. Therefore, the correct answer is Saint Bernadette Soubirous.\n",
      "\n"
     ]
    },
    {
     "ename": "KeyboardInterrupt",
     "evalue": "",
     "output_type": "error",
     "traceback": [
      "\u001b[0;31m---------------------------------------------------------------------------\u001b[0m",
      "\u001b[0;31mKeyboardInterrupt\u001b[0m                         Traceback (most recent call last)",
      "Cell \u001b[0;32mIn[15], line 1\u001b[0m\n\u001b[0;32m----> 1\u001b[0m base_json_answers \u001b[38;5;241m=\u001b[39m \u001b[43mgenerate_json_answers\u001b[49m\u001b[43m(\u001b[49m\u001b[43mbase_model\u001b[49m\u001b[43m,\u001b[49m\u001b[43m \u001b[49m\u001b[43mbase_tokenizer\u001b[49m\u001b[43m,\u001b[49m\u001b[43m \u001b[49m\u001b[43msquad_data\u001b[49m\u001b[43m[\u001b[49m\u001b[43m:\u001b[49m\u001b[38;5;241;43m1000\u001b[39;49m\u001b[43m]\u001b[49m\u001b[43m)\u001b[49m\n",
      "Cell \u001b[0;32mIn[14], line 32\u001b[0m, in \u001b[0;36mgenerate_json_answers\u001b[0;34m(model, tokenizer, squad_data)\u001b[0m\n\u001b[1;32m     30\u001b[0m json_dict[\u001b[38;5;124m\"\u001b[39m\u001b[38;5;124manswers\u001b[39m\u001b[38;5;124m\"\u001b[39m] \u001b[38;5;241m=\u001b[39m []\n\u001b[1;32m     31\u001b[0m \u001b[38;5;28;01mfor\u001b[39;00m context, question, answer \u001b[38;5;129;01min\u001b[39;00m squad_data:\n\u001b[0;32m---> 32\u001b[0m     output \u001b[38;5;241m=\u001b[39m \u001b[43manswer_alpaca\u001b[49m\u001b[43m(\u001b[49m\u001b[43mmodel\u001b[49m\u001b[43m,\u001b[49m\u001b[43m \u001b[49m\u001b[43mtokenizer\u001b[49m\u001b[43m,\u001b[49m\u001b[43m \u001b[49m\u001b[43mcontext\u001b[49m\u001b[43m,\u001b[49m\u001b[43m \u001b[49m\u001b[43mquestion\u001b[49m\u001b[43m)\u001b[49m\n\u001b[1;32m     33\u001b[0m     generated_ans \u001b[38;5;241m=\u001b[39m get_answer(output)\n\u001b[1;32m     35\u001b[0m     json_dict[\u001b[38;5;124m\"\u001b[39m\u001b[38;5;124manswers\u001b[39m\u001b[38;5;124m\"\u001b[39m]\u001b[38;5;241m.\u001b[39mappend(\n\u001b[1;32m     36\u001b[0m         {\n\u001b[1;32m     37\u001b[0m             \u001b[38;5;124m\"\u001b[39m\u001b[38;5;124mcontext\u001b[39m\u001b[38;5;124m\"\u001b[39m: context,\n\u001b[0;32m   (...)\u001b[0m\n\u001b[1;32m     41\u001b[0m         }\n\u001b[1;32m     42\u001b[0m     )\n",
      "Cell \u001b[0;32mIn[2], line 60\u001b[0m, in \u001b[0;36manswer_alpaca\u001b[0;34m(model, tokenizer, context, question)\u001b[0m\n\u001b[1;32m     47\u001b[0m inputs \u001b[38;5;241m=\u001b[39m tokenizer(\n\u001b[1;32m     48\u001b[0m     [\n\u001b[1;32m     49\u001b[0m         alpaca_prompt\u001b[38;5;241m.\u001b[39mformat(\n\u001b[0;32m   (...)\u001b[0m\n\u001b[1;32m     56\u001b[0m     return_tensors\u001b[38;5;241m=\u001b[39m\u001b[38;5;124m\"\u001b[39m\u001b[38;5;124mpt\u001b[39m\u001b[38;5;124m\"\u001b[39m,\n\u001b[1;32m     57\u001b[0m )\u001b[38;5;241m.\u001b[39mto(\u001b[38;5;124m\"\u001b[39m\u001b[38;5;124mcuda\u001b[39m\u001b[38;5;124m\"\u001b[39m)\n\u001b[1;32m     59\u001b[0m text_streamer \u001b[38;5;241m=\u001b[39m TextStreamer(tokenizer)\n\u001b[0;32m---> 60\u001b[0m output_ids \u001b[38;5;241m=\u001b[39m \u001b[43mmodel\u001b[49m\u001b[38;5;241;43m.\u001b[39;49m\u001b[43mgenerate\u001b[49m\u001b[43m(\u001b[49m\u001b[38;5;241;43m*\u001b[39;49m\u001b[38;5;241;43m*\u001b[39;49m\u001b[43minputs\u001b[49m\u001b[43m,\u001b[49m\u001b[43m \u001b[49m\u001b[43mstreamer\u001b[49m\u001b[38;5;241;43m=\u001b[39;49m\u001b[43mtext_streamer\u001b[49m\u001b[43m,\u001b[49m\u001b[43m \u001b[49m\u001b[43mmax_new_tokens\u001b[49m\u001b[38;5;241;43m=\u001b[39;49m\u001b[38;5;241;43m512\u001b[39;49m\u001b[43m)\u001b[49m\n\u001b[1;32m     61\u001b[0m \u001b[38;5;66;03m# output_ids = model.generate(**inputs, max_new_tokens=512)\u001b[39;00m\n\u001b[1;32m     62\u001b[0m \n\u001b[1;32m     63\u001b[0m \u001b[38;5;66;03m# Decode the output ids to get the generated text\u001b[39;00m\n\u001b[1;32m     64\u001b[0m output_text \u001b[38;5;241m=\u001b[39m tokenizer\u001b[38;5;241m.\u001b[39mdecode(output_ids[\u001b[38;5;241m0\u001b[39m], skip_special_tokens\u001b[38;5;241m=\u001b[39m\u001b[38;5;28;01mTrue\u001b[39;00m)\n",
      "File \u001b[0;32m~/miniconda3/envs/unsloth/lib/python3.10/site-packages/torch/utils/_contextlib.py:115\u001b[0m, in \u001b[0;36mcontext_decorator.<locals>.decorate_context\u001b[0;34m(*args, **kwargs)\u001b[0m\n\u001b[1;32m    112\u001b[0m \u001b[38;5;129m@functools\u001b[39m\u001b[38;5;241m.\u001b[39mwraps(func)\n\u001b[1;32m    113\u001b[0m \u001b[38;5;28;01mdef\u001b[39;00m \u001b[38;5;21mdecorate_context\u001b[39m(\u001b[38;5;241m*\u001b[39margs, \u001b[38;5;241m*\u001b[39m\u001b[38;5;241m*\u001b[39mkwargs):\n\u001b[1;32m    114\u001b[0m     \u001b[38;5;28;01mwith\u001b[39;00m ctx_factory():\n\u001b[0;32m--> 115\u001b[0m         \u001b[38;5;28;01mreturn\u001b[39;00m \u001b[43mfunc\u001b[49m\u001b[43m(\u001b[49m\u001b[38;5;241;43m*\u001b[39;49m\u001b[43margs\u001b[49m\u001b[43m,\u001b[49m\u001b[43m \u001b[49m\u001b[38;5;241;43m*\u001b[39;49m\u001b[38;5;241;43m*\u001b[39;49m\u001b[43mkwargs\u001b[49m\u001b[43m)\u001b[49m\n",
      "File \u001b[0;32m~/miniconda3/envs/unsloth/lib/python3.10/site-packages/transformers/generation/utils.py:1576\u001b[0m, in \u001b[0;36mGenerationMixin.generate\u001b[0;34m(self, inputs, generation_config, logits_processor, stopping_criteria, prefix_allowed_tokens_fn, synced_gpus, assistant_model, streamer, negative_prompt_ids, negative_prompt_attention_mask, **kwargs)\u001b[0m\n\u001b[1;32m   1559\u001b[0m     result \u001b[38;5;241m=\u001b[39m \u001b[38;5;28mself\u001b[39m\u001b[38;5;241m.\u001b[39m_assisted_decoding(\n\u001b[1;32m   1560\u001b[0m         input_ids,\n\u001b[1;32m   1561\u001b[0m         candidate_generator\u001b[38;5;241m=\u001b[39mcandidate_generator,\n\u001b[0;32m   (...)\u001b[0m\n\u001b[1;32m   1572\u001b[0m         \u001b[38;5;241m*\u001b[39m\u001b[38;5;241m*\u001b[39mmodel_kwargs,\n\u001b[1;32m   1573\u001b[0m     )\n\u001b[1;32m   1574\u001b[0m \u001b[38;5;28;01mif\u001b[39;00m generation_mode \u001b[38;5;241m==\u001b[39m GenerationMode\u001b[38;5;241m.\u001b[39mGREEDY_SEARCH:\n\u001b[1;32m   1575\u001b[0m     \u001b[38;5;66;03m# 11. run greedy search\u001b[39;00m\n\u001b[0;32m-> 1576\u001b[0m     result \u001b[38;5;241m=\u001b[39m \u001b[38;5;28;43mself\u001b[39;49m\u001b[38;5;241;43m.\u001b[39;49m\u001b[43m_greedy_search\u001b[49m\u001b[43m(\u001b[49m\n\u001b[1;32m   1577\u001b[0m \u001b[43m        \u001b[49m\u001b[43minput_ids\u001b[49m\u001b[43m,\u001b[49m\n\u001b[1;32m   1578\u001b[0m \u001b[43m        \u001b[49m\u001b[43mlogits_processor\u001b[49m\u001b[38;5;241;43m=\u001b[39;49m\u001b[43mprepared_logits_processor\u001b[49m\u001b[43m,\u001b[49m\n\u001b[1;32m   1579\u001b[0m \u001b[43m        \u001b[49m\u001b[43mstopping_criteria\u001b[49m\u001b[38;5;241;43m=\u001b[39;49m\u001b[43mprepared_stopping_criteria\u001b[49m\u001b[43m,\u001b[49m\n\u001b[1;32m   1580\u001b[0m \u001b[43m        \u001b[49m\u001b[43mpad_token_id\u001b[49m\u001b[38;5;241;43m=\u001b[39;49m\u001b[43mgeneration_config\u001b[49m\u001b[38;5;241;43m.\u001b[39;49m\u001b[43mpad_token_id\u001b[49m\u001b[43m,\u001b[49m\n\u001b[1;32m   1581\u001b[0m \u001b[43m        \u001b[49m\u001b[43moutput_scores\u001b[49m\u001b[38;5;241;43m=\u001b[39;49m\u001b[43mgeneration_config\u001b[49m\u001b[38;5;241;43m.\u001b[39;49m\u001b[43moutput_scores\u001b[49m\u001b[43m,\u001b[49m\n\u001b[1;32m   1582\u001b[0m \u001b[43m        \u001b[49m\u001b[43moutput_logits\u001b[49m\u001b[38;5;241;43m=\u001b[39;49m\u001b[43mgeneration_config\u001b[49m\u001b[38;5;241;43m.\u001b[39;49m\u001b[43moutput_logits\u001b[49m\u001b[43m,\u001b[49m\n\u001b[1;32m   1583\u001b[0m \u001b[43m        \u001b[49m\u001b[43mreturn_dict_in_generate\u001b[49m\u001b[38;5;241;43m=\u001b[39;49m\u001b[43mgeneration_config\u001b[49m\u001b[38;5;241;43m.\u001b[39;49m\u001b[43mreturn_dict_in_generate\u001b[49m\u001b[43m,\u001b[49m\n\u001b[1;32m   1584\u001b[0m \u001b[43m        \u001b[49m\u001b[43msynced_gpus\u001b[49m\u001b[38;5;241;43m=\u001b[39;49m\u001b[43msynced_gpus\u001b[49m\u001b[43m,\u001b[49m\n\u001b[1;32m   1585\u001b[0m \u001b[43m        \u001b[49m\u001b[43mstreamer\u001b[49m\u001b[38;5;241;43m=\u001b[39;49m\u001b[43mstreamer\u001b[49m\u001b[43m,\u001b[49m\n\u001b[1;32m   1586\u001b[0m \u001b[43m        \u001b[49m\u001b[38;5;241;43m*\u001b[39;49m\u001b[38;5;241;43m*\u001b[39;49m\u001b[43mmodel_kwargs\u001b[49m\u001b[43m,\u001b[49m\n\u001b[1;32m   1587\u001b[0m \u001b[43m    \u001b[49m\u001b[43m)\u001b[49m\n\u001b[1;32m   1589\u001b[0m \u001b[38;5;28;01melif\u001b[39;00m generation_mode \u001b[38;5;241m==\u001b[39m GenerationMode\u001b[38;5;241m.\u001b[39mCONTRASTIVE_SEARCH:\n\u001b[1;32m   1590\u001b[0m     \u001b[38;5;28;01mif\u001b[39;00m \u001b[38;5;129;01mnot\u001b[39;00m model_kwargs[\u001b[38;5;124m\"\u001b[39m\u001b[38;5;124muse_cache\u001b[39m\u001b[38;5;124m\"\u001b[39m]:\n",
      "File \u001b[0;32m~/miniconda3/envs/unsloth/lib/python3.10/site-packages/transformers/generation/utils.py:2539\u001b[0m, in \u001b[0;36mGenerationMixin._greedy_search\u001b[0;34m(self, input_ids, logits_processor, stopping_criteria, max_length, pad_token_id, eos_token_id, output_attentions, output_hidden_states, output_scores, output_logits, return_dict_in_generate, synced_gpus, streamer, **model_kwargs)\u001b[0m\n\u001b[1;32m   2536\u001b[0m     next_tokens \u001b[38;5;241m=\u001b[39m next_tokens \u001b[38;5;241m*\u001b[39m unfinished_sequences \u001b[38;5;241m+\u001b[39m pad_token_id \u001b[38;5;241m*\u001b[39m (\u001b[38;5;241m1\u001b[39m \u001b[38;5;241m-\u001b[39m unfinished_sequences)\n\u001b[1;32m   2538\u001b[0m \u001b[38;5;66;03m# update generated ids, model inputs, and length for next step\u001b[39;00m\n\u001b[0;32m-> 2539\u001b[0m input_ids \u001b[38;5;241m=\u001b[39m \u001b[43mtorch\u001b[49m\u001b[38;5;241;43m.\u001b[39;49m\u001b[43mcat\u001b[49m\u001b[43m(\u001b[49m\u001b[43m[\u001b[49m\u001b[43minput_ids\u001b[49m\u001b[43m,\u001b[49m\u001b[43m \u001b[49m\u001b[43mnext_tokens\u001b[49m\u001b[43m[\u001b[49m\u001b[43m:\u001b[49m\u001b[43m,\u001b[49m\u001b[43m \u001b[49m\u001b[38;5;28;43;01mNone\u001b[39;49;00m\u001b[43m]\u001b[49m\u001b[43m]\u001b[49m\u001b[43m,\u001b[49m\u001b[43m \u001b[49m\u001b[43mdim\u001b[49m\u001b[38;5;241;43m=\u001b[39;49m\u001b[38;5;241;43m-\u001b[39;49m\u001b[38;5;241;43m1\u001b[39;49m\u001b[43m)\u001b[49m\n\u001b[1;32m   2540\u001b[0m \u001b[38;5;28;01mif\u001b[39;00m streamer \u001b[38;5;129;01mis\u001b[39;00m \u001b[38;5;129;01mnot\u001b[39;00m \u001b[38;5;28;01mNone\u001b[39;00m:\n\u001b[1;32m   2541\u001b[0m     streamer\u001b[38;5;241m.\u001b[39mput(next_tokens\u001b[38;5;241m.\u001b[39mcpu())\n",
      "\u001b[0;31mKeyboardInterrupt\u001b[0m: "
     ]
    }
   ],
   "source": [
    "base_json_answers = generate_json_answers(base_model, base_tokenizer, squad_data[:1000])\n",
    "with open(\"base_generated_questions.json\", \"w\") as f:\n",
    "    json.dump(base_json_answers, f)\n"
   ]
  }
 ],
 "metadata": {
  "kernelspec": {
   "display_name": "unsloth",
   "language": "python",
   "name": "python3"
  },
  "language_info": {
   "codemirror_mode": {
    "name": "ipython",
    "version": 3
   },
   "file_extension": ".py",
   "mimetype": "text/x-python",
   "name": "python",
   "nbconvert_exporter": "python",
   "pygments_lexer": "ipython3",
   "version": "3.10.14"
  }
 },
 "nbformat": 4,
 "nbformat_minor": 2
}
